{
 "cells": [
  {
   "cell_type": "code",
   "execution_count": 1,
   "metadata": {},
   "outputs": [],
   "source": [
    "import pandas as pd "
   ]
  },
  {
   "cell_type": "code",
   "execution_count": 2,
   "metadata": {},
   "outputs": [],
   "source": [
    "cars = pd.read_csv('data/cars.csv')"
   ]
  },
  {
   "cell_type": "code",
   "execution_count": 3,
   "metadata": {},
   "outputs": [],
   "source": [
    "people = pd.read_csv('data/people.csv')"
   ]
  },
  {
   "cell_type": "code",
   "execution_count": 4,
   "metadata": {},
   "outputs": [
    {
     "data": {
      "text/html": [
       "<div>\n",
       "<style scoped>\n",
       "    .dataframe tbody tr th:only-of-type {\n",
       "        vertical-align: middle;\n",
       "    }\n",
       "\n",
       "    .dataframe tbody tr th {\n",
       "        vertical-align: top;\n",
       "    }\n",
       "\n",
       "    .dataframe thead th {\n",
       "        text-align: right;\n",
       "    }\n",
       "</style>\n",
       "<table border=\"1\" class=\"dataframe\">\n",
       "  <thead>\n",
       "    <tr style=\"text-align: right;\">\n",
       "      <th></th>\n",
       "      <th>Name</th>\n",
       "      <th>MPG</th>\n",
       "      <th>Cylinders</th>\n",
       "      <th>Displacement</th>\n",
       "      <th>Horsepower</th>\n",
       "      <th>Weight</th>\n",
       "      <th>Acceleration</th>\n",
       "      <th>Origin</th>\n",
       "    </tr>\n",
       "  </thead>\n",
       "  <tbody>\n",
       "    <tr>\n",
       "      <th>0</th>\n",
       "      <td>Chevrolet Chevelle Malibu</td>\n",
       "      <td>18.0</td>\n",
       "      <td>8</td>\n",
       "      <td>307.0</td>\n",
       "      <td>130</td>\n",
       "      <td>3504</td>\n",
       "      <td>12.0</td>\n",
       "      <td>US</td>\n",
       "    </tr>\n",
       "    <tr>\n",
       "      <th>1</th>\n",
       "      <td>Buick Skylark 320</td>\n",
       "      <td>15.0</td>\n",
       "      <td>8</td>\n",
       "      <td>350.0</td>\n",
       "      <td>165</td>\n",
       "      <td>3693</td>\n",
       "      <td>11.5</td>\n",
       "      <td>US</td>\n",
       "    </tr>\n",
       "    <tr>\n",
       "      <th>2</th>\n",
       "      <td>Plymouth Satellite</td>\n",
       "      <td>18.0</td>\n",
       "      <td>8</td>\n",
       "      <td>318.0</td>\n",
       "      <td>150</td>\n",
       "      <td>3436</td>\n",
       "      <td>11.0</td>\n",
       "      <td>US</td>\n",
       "    </tr>\n",
       "    <tr>\n",
       "      <th>3</th>\n",
       "      <td>AMC Rebel SST</td>\n",
       "      <td>16.0</td>\n",
       "      <td>8</td>\n",
       "      <td>304.0</td>\n",
       "      <td>150</td>\n",
       "      <td>3433</td>\n",
       "      <td>12.0</td>\n",
       "      <td>US</td>\n",
       "    </tr>\n",
       "    <tr>\n",
       "      <th>4</th>\n",
       "      <td>Ford Torino</td>\n",
       "      <td>17.0</td>\n",
       "      <td>8</td>\n",
       "      <td>302.0</td>\n",
       "      <td>140</td>\n",
       "      <td>3449</td>\n",
       "      <td>10.5</td>\n",
       "      <td>US</td>\n",
       "    </tr>\n",
       "  </tbody>\n",
       "</table>\n",
       "</div>"
      ],
      "text/plain": [
       "                        Name   MPG  Cylinders  Displacement  Horsepower  \\\n",
       "0  Chevrolet Chevelle Malibu  18.0          8         307.0         130   \n",
       "1          Buick Skylark 320  15.0          8         350.0         165   \n",
       "2         Plymouth Satellite  18.0          8         318.0         150   \n",
       "3              AMC Rebel SST  16.0          8         304.0         150   \n",
       "4                Ford Torino  17.0          8         302.0         140   \n",
       "\n",
       "   Weight  Acceleration Origin  \n",
       "0    3504          12.0     US  \n",
       "1    3693          11.5     US  \n",
       "2    3436          11.0     US  \n",
       "3    3433          12.0     US  \n",
       "4    3449          10.5     US  "
      ]
     },
     "execution_count": 4,
     "metadata": {},
     "output_type": "execute_result"
    }
   ],
   "source": [
    "cars.head()"
   ]
  },
  {
   "cell_type": "code",
   "execution_count": 5,
   "metadata": {},
   "outputs": [
    {
     "data": {
      "text/html": [
       "<div>\n",
       "<style scoped>\n",
       "    .dataframe tbody tr th:only-of-type {\n",
       "        vertical-align: middle;\n",
       "    }\n",
       "\n",
       "    .dataframe tbody tr th {\n",
       "        vertical-align: top;\n",
       "    }\n",
       "\n",
       "    .dataframe thead th {\n",
       "        text-align: right;\n",
       "    }\n",
       "</style>\n",
       "<table border=\"1\" class=\"dataframe\">\n",
       "  <thead>\n",
       "    <tr style=\"text-align: right;\">\n",
       "      <th></th>\n",
       "      <th>Name</th>\n",
       "      <th>Age</th>\n",
       "      <th>Weight</th>\n",
       "      <th>Height</th>\n",
       "      <th>Gender</th>\n",
       "    </tr>\n",
       "  </thead>\n",
       "  <tbody>\n",
       "    <tr>\n",
       "      <th>0</th>\n",
       "      <td>Rita</td>\n",
       "      <td>27</td>\n",
       "      <td>67</td>\n",
       "      <td>1.65</td>\n",
       "      <td>F</td>\n",
       "    </tr>\n",
       "    <tr>\n",
       "      <th>1</th>\n",
       "      <td>Dexter</td>\n",
       "      <td>35</td>\n",
       "      <td>81</td>\n",
       "      <td>1.84</td>\n",
       "      <td>M</td>\n",
       "    </tr>\n",
       "    <tr>\n",
       "      <th>2</th>\n",
       "      <td>Anna</td>\n",
       "      <td>29</td>\n",
       "      <td>55</td>\n",
       "      <td>1.60</td>\n",
       "      <td>F</td>\n",
       "    </tr>\n",
       "    <tr>\n",
       "      <th>3</th>\n",
       "      <td>Bob</td>\n",
       "      <td>41</td>\n",
       "      <td>73</td>\n",
       "      <td>1.79</td>\n",
       "      <td>M</td>\n",
       "    </tr>\n",
       "  </tbody>\n",
       "</table>\n",
       "</div>"
      ],
      "text/plain": [
       "     Name  Age  Weight  Height Gender\n",
       "0    Rita   27      67    1.65      F\n",
       "1  Dexter   35      81    1.84      M\n",
       "2    Anna   29      55    1.60      F\n",
       "3     Bob   41      73    1.79      M"
      ]
     },
     "execution_count": 5,
     "metadata": {},
     "output_type": "execute_result"
    }
   ],
   "source": [
    "people.head()"
   ]
  },
  {
   "cell_type": "markdown",
   "metadata": {},
   "source": [
    "We can access a specific cell of a pandas dataframe using the DataFrame.iloc property by providing the row and column index. The name **iloc stands for integer location**\n",
    "\n",
    "When we really only want to access a single location, as in the first example, it is recommended to use the **DataFrame.iat** property. It has the same syntax but doesn't allow ranges."
   ]
  },
  {
   "cell_type": "code",
   "execution_count": 6,
   "metadata": {},
   "outputs": [
    {
     "name": "stdout",
     "output_type": "stream",
     "text": [
      "Rita\n"
     ]
    }
   ],
   "source": [
    "print(people.iat[0, 0])"
   ]
  },
  {
   "cell_type": "code",
   "execution_count": 7,
   "metadata": {
    "scrolled": true
   },
   "outputs": [
    {
     "name": "stdout",
     "output_type": "stream",
     "text": [
      "                  Name   MPG  Cylinders\n",
      "399  Dodge Charger 2.2  36.0          4\n",
      "401    Ford Mustang GL  27.0          4\n",
      "403      Dodge Rampage  32.0          4\n",
      "405         Chevy S-10  31.0          4\n"
     ]
    }
   ],
   "source": [
    "cars_odd = cars.iloc[1::2,:3]\n",
    "fifth_odd_car_name = cars_odd.iat[4,0]\n",
    "last_four = cars_odd.tail(4)\n",
    "print(last_four)"
   ]
  },
  {
   "cell_type": "markdown",
   "metadata": {},
   "source": [
    "To access the data with row and column labels instead of indexes, we can use the **DataFrame.loc** property."
   ]
  },
  {
   "cell_type": "code",
   "execution_count": 8,
   "metadata": {},
   "outputs": [
    {
     "name": "stdout",
     "output_type": "stream",
     "text": [
      "Dexter\n"
     ]
    }
   ],
   "source": [
    "print(people.loc[1, 'Name'])"
   ]
  },
  {
   "cell_type": "markdown",
   "metadata": {},
   "source": [
    "By default, when we read a CSV, pandas will use the row indexes as row labels. If we want something else, we need to say it explicitly. We could have specified through the index_col keyword argument in the pandas.read_csv() function. The way it works is that we pass the index of the columns that we want to use as labels for the rows.\n",
    "\n",
    "Here's how we could use the Name column (index 0) as row labels when we read the CSV:"
   ]
  },
  {
   "cell_type": "code",
   "execution_count": 9,
   "metadata": {},
   "outputs": [],
   "source": [
    "people = pd.read_csv('data/people.csv', index_col=0)"
   ]
  },
  {
   "cell_type": "code",
   "execution_count": 10,
   "metadata": {},
   "outputs": [
    {
     "data": {
      "text/html": [
       "<div>\n",
       "<style scoped>\n",
       "    .dataframe tbody tr th:only-of-type {\n",
       "        vertical-align: middle;\n",
       "    }\n",
       "\n",
       "    .dataframe tbody tr th {\n",
       "        vertical-align: top;\n",
       "    }\n",
       "\n",
       "    .dataframe thead th {\n",
       "        text-align: right;\n",
       "    }\n",
       "</style>\n",
       "<table border=\"1\" class=\"dataframe\">\n",
       "  <thead>\n",
       "    <tr style=\"text-align: right;\">\n",
       "      <th></th>\n",
       "      <th>Age</th>\n",
       "      <th>Weight</th>\n",
       "      <th>Height</th>\n",
       "      <th>Gender</th>\n",
       "    </tr>\n",
       "    <tr>\n",
       "      <th>Name</th>\n",
       "      <th></th>\n",
       "      <th></th>\n",
       "      <th></th>\n",
       "      <th></th>\n",
       "    </tr>\n",
       "  </thead>\n",
       "  <tbody>\n",
       "    <tr>\n",
       "      <th>Rita</th>\n",
       "      <td>27</td>\n",
       "      <td>67</td>\n",
       "      <td>1.65</td>\n",
       "      <td>F</td>\n",
       "    </tr>\n",
       "    <tr>\n",
       "      <th>Dexter</th>\n",
       "      <td>35</td>\n",
       "      <td>81</td>\n",
       "      <td>1.84</td>\n",
       "      <td>M</td>\n",
       "    </tr>\n",
       "    <tr>\n",
       "      <th>Anna</th>\n",
       "      <td>29</td>\n",
       "      <td>55</td>\n",
       "      <td>1.60</td>\n",
       "      <td>F</td>\n",
       "    </tr>\n",
       "    <tr>\n",
       "      <th>Bob</th>\n",
       "      <td>41</td>\n",
       "      <td>73</td>\n",
       "      <td>1.79</td>\n",
       "      <td>M</td>\n",
       "    </tr>\n",
       "  </tbody>\n",
       "</table>\n",
       "</div>"
      ],
      "text/plain": [
       "        Age  Weight  Height Gender\n",
       "Name                              \n",
       "Rita     27      67    1.65      F\n",
       "Dexter   35      81    1.84      M\n",
       "Anna     29      55    1.60      F\n",
       "Bob      41      73    1.79      M"
      ]
     },
     "execution_count": 10,
     "metadata": {},
     "output_type": "execute_result"
    }
   ],
   "source": [
    "people.head()"
   ]
  },
  {
   "cell_type": "code",
   "execution_count": 11,
   "metadata": {},
   "outputs": [
    {
     "data": {
      "text/html": [
       "<div>\n",
       "<style scoped>\n",
       "    .dataframe tbody tr th:only-of-type {\n",
       "        vertical-align: middle;\n",
       "    }\n",
       "\n",
       "    .dataframe tbody tr th {\n",
       "        vertical-align: top;\n",
       "    }\n",
       "\n",
       "    .dataframe thead th {\n",
       "        text-align: right;\n",
       "    }\n",
       "</style>\n",
       "<table border=\"1\" class=\"dataframe\">\n",
       "  <thead>\n",
       "    <tr style=\"text-align: right;\">\n",
       "      <th></th>\n",
       "      <th>Name</th>\n",
       "      <th>Age</th>\n",
       "      <th>Weight</th>\n",
       "      <th>Height</th>\n",
       "      <th>Gender</th>\n",
       "    </tr>\n",
       "  </thead>\n",
       "  <tbody>\n",
       "    <tr>\n",
       "      <th>0</th>\n",
       "      <td>Rita</td>\n",
       "      <td>27</td>\n",
       "      <td>67</td>\n",
       "      <td>1.65</td>\n",
       "      <td>F</td>\n",
       "    </tr>\n",
       "    <tr>\n",
       "      <th>1</th>\n",
       "      <td>Dexter</td>\n",
       "      <td>35</td>\n",
       "      <td>81</td>\n",
       "      <td>1.84</td>\n",
       "      <td>M</td>\n",
       "    </tr>\n",
       "    <tr>\n",
       "      <th>2</th>\n",
       "      <td>Anna</td>\n",
       "      <td>29</td>\n",
       "      <td>55</td>\n",
       "      <td>1.60</td>\n",
       "      <td>F</td>\n",
       "    </tr>\n",
       "    <tr>\n",
       "      <th>3</th>\n",
       "      <td>Bob</td>\n",
       "      <td>41</td>\n",
       "      <td>73</td>\n",
       "      <td>1.79</td>\n",
       "      <td>M</td>\n",
       "    </tr>\n",
       "  </tbody>\n",
       "</table>\n",
       "</div>"
      ],
      "text/plain": [
       "     Name  Age  Weight  Height Gender\n",
       "0    Rita   27      67    1.65      F\n",
       "1  Dexter   35      81    1.84      M\n",
       "2    Anna   29      55    1.60      F\n",
       "3     Bob   41      73    1.79      M"
      ]
     },
     "execution_count": 11,
     "metadata": {},
     "output_type": "execute_result"
    }
   ],
   "source": [
    "people1 = pd.read_csv('data/people.csv')\n",
    "people1.head()"
   ]
  },
  {
   "cell_type": "markdown",
   "metadata": {},
   "source": [
    "We can also change the index after loading the dataframe using the **DataFrame.set_index()** method. By default, this method will return a copy of the dataframe with the new index. If you don't want a copy but rather modify the index, you need to use the **inplace** keyword argument set to **True**."
   ]
  },
  {
   "cell_type": "code",
   "execution_count": 12,
   "metadata": {},
   "outputs": [],
   "source": [
    "people_indexed_on_name = people1.set_index('Name') # Get new dataframe\n",
    "people1.set_index('Name', inplace=True)            # Change the people dataframe directly"
   ]
  },
  {
   "cell_type": "code",
   "execution_count": 13,
   "metadata": {},
   "outputs": [
    {
     "data": {
      "text/html": [
       "<div>\n",
       "<style scoped>\n",
       "    .dataframe tbody tr th:only-of-type {\n",
       "        vertical-align: middle;\n",
       "    }\n",
       "\n",
       "    .dataframe tbody tr th {\n",
       "        vertical-align: top;\n",
       "    }\n",
       "\n",
       "    .dataframe thead th {\n",
       "        text-align: right;\n",
       "    }\n",
       "</style>\n",
       "<table border=\"1\" class=\"dataframe\">\n",
       "  <thead>\n",
       "    <tr style=\"text-align: right;\">\n",
       "      <th></th>\n",
       "      <th>Age</th>\n",
       "      <th>Weight</th>\n",
       "      <th>Height</th>\n",
       "      <th>Gender</th>\n",
       "    </tr>\n",
       "    <tr>\n",
       "      <th>Name</th>\n",
       "      <th></th>\n",
       "      <th></th>\n",
       "      <th></th>\n",
       "      <th></th>\n",
       "    </tr>\n",
       "  </thead>\n",
       "  <tbody>\n",
       "    <tr>\n",
       "      <th>Rita</th>\n",
       "      <td>27</td>\n",
       "      <td>67</td>\n",
       "      <td>1.65</td>\n",
       "      <td>F</td>\n",
       "    </tr>\n",
       "    <tr>\n",
       "      <th>Dexter</th>\n",
       "      <td>35</td>\n",
       "      <td>81</td>\n",
       "      <td>1.84</td>\n",
       "      <td>M</td>\n",
       "    </tr>\n",
       "    <tr>\n",
       "      <th>Anna</th>\n",
       "      <td>29</td>\n",
       "      <td>55</td>\n",
       "      <td>1.60</td>\n",
       "      <td>F</td>\n",
       "    </tr>\n",
       "    <tr>\n",
       "      <th>Bob</th>\n",
       "      <td>41</td>\n",
       "      <td>73</td>\n",
       "      <td>1.79</td>\n",
       "      <td>M</td>\n",
       "    </tr>\n",
       "  </tbody>\n",
       "</table>\n",
       "</div>"
      ],
      "text/plain": [
       "        Age  Weight  Height Gender\n",
       "Name                              \n",
       "Rita     27      67    1.65      F\n",
       "Dexter   35      81    1.84      M\n",
       "Anna     29      55    1.60      F\n",
       "Bob      41      73    1.79      M"
      ]
     },
     "execution_count": 13,
     "metadata": {},
     "output_type": "execute_result"
    }
   ],
   "source": [
    "people1.head()"
   ]
  },
  {
   "cell_type": "code",
   "execution_count": 14,
   "metadata": {},
   "outputs": [],
   "source": [
    "cars.set_index('Name', inplace=True)\n",
    "weight_torino = cars.loc['Ford Torino', 'Weight']"
   ]
  },
  {
   "cell_type": "code",
   "execution_count": 15,
   "metadata": {
    "scrolled": true
   },
   "outputs": [
    {
     "data": {
      "text/plain": [
       "3449"
      ]
     },
     "execution_count": 15,
     "metadata": {},
     "output_type": "execute_result"
    }
   ],
   "source": [
    "weight_torino"
   ]
  },
  {
   "cell_type": "markdown",
   "metadata": {},
   "source": [
    "When we **convert a column into an index, that column is no longer a column in our dataframe**. For example, on the previous screen, we set the Name column as the index of the people dataframe. This means that now this dataframe has four columns Age, Weight, Height, and Gender.\n",
    "\n",
    "<Img src=\"https://github.com/rhnyewale/Data-Engineering/blob/main/Images/pandasindex.jpg?raw=true\">"
   ]
  },
  {
   "cell_type": "code",
   "execution_count": 16,
   "metadata": {},
   "outputs": [
    {
     "name": "stdout",
     "output_type": "stream",
     "text": [
      "(4, 4)\n"
     ]
    }
   ],
   "source": [
    "print(people1.shape)"
   ]
  },
  {
   "cell_type": "code",
   "execution_count": 17,
   "metadata": {},
   "outputs": [
    {
     "name": "stdout",
     "output_type": "stream",
     "text": [
      "Name\n",
      "Ford Pinto    2046\n",
      "Ford Pinto    2310\n",
      "Ford Pinto    2451\n",
      "Ford Pinto    2639\n",
      "Ford Pinto    2984\n",
      "Ford Pinto    2565\n",
      "Name: Weight, dtype: int64\n"
     ]
    }
   ],
   "source": [
    "print(cars.loc['Ford Pinto', 'Weight'])"
   ]
  },
  {
   "cell_type": "markdown",
   "metadata": {},
   "source": [
    "We can delete an index by using the **DataFrame.reset_index()** method. This will restore the row that we used to create the index. By default, it will return a new dataframe without indexes. If we want to change the current one instead, we need to pass **inplace=True** to it."
   ]
  },
  {
   "cell_type": "code",
   "execution_count": 18,
   "metadata": {},
   "outputs": [
    {
     "name": "stdout",
     "output_type": "stream",
     "text": [
      "Name\n",
      "Honda Civic    97\n",
      "Honda Civic    53\n",
      "Honda Civic    67\n",
      "Name: Horsepower, dtype: int64\n"
     ]
    }
   ],
   "source": [
    "honda_civic_hp = cars.loc['Honda Civic','Horsepower']\n",
    "print(honda_civic_hp)"
   ]
  },
  {
   "cell_type": "code",
   "execution_count": 19,
   "metadata": {},
   "outputs": [
    {
     "data": {
      "text/plain": [
       "Name\n",
       "Honda Civic    97\n",
       "Honda Civic    53\n",
       "Honda Civic    67\n",
       "Name: Horsepower, dtype: int64"
      ]
     },
     "execution_count": 19,
     "metadata": {},
     "output_type": "execute_result"
    }
   ],
   "source": [
    "honda_civic_hp.head()"
   ]
  },
  {
   "cell_type": "code",
   "execution_count": 20,
   "metadata": {},
   "outputs": [
    {
     "data": {
      "text/html": [
       "<div>\n",
       "<style scoped>\n",
       "    .dataframe tbody tr th:only-of-type {\n",
       "        vertical-align: middle;\n",
       "    }\n",
       "\n",
       "    .dataframe tbody tr th {\n",
       "        vertical-align: top;\n",
       "    }\n",
       "\n",
       "    .dataframe thead th {\n",
       "        text-align: right;\n",
       "    }\n",
       "</style>\n",
       "<table border=\"1\" class=\"dataframe\">\n",
       "  <thead>\n",
       "    <tr style=\"text-align: right;\">\n",
       "      <th></th>\n",
       "      <th>MPG</th>\n",
       "      <th>Cylinders</th>\n",
       "      <th>Displacement</th>\n",
       "      <th>Horsepower</th>\n",
       "      <th>Weight</th>\n",
       "      <th>Acceleration</th>\n",
       "      <th>Origin</th>\n",
       "    </tr>\n",
       "    <tr>\n",
       "      <th>Name</th>\n",
       "      <th></th>\n",
       "      <th></th>\n",
       "      <th></th>\n",
       "      <th></th>\n",
       "      <th></th>\n",
       "      <th></th>\n",
       "      <th></th>\n",
       "    </tr>\n",
       "  </thead>\n",
       "  <tbody>\n",
       "    <tr>\n",
       "      <th>Chevrolet Chevelle Malibu</th>\n",
       "      <td>18.0</td>\n",
       "      <td>8</td>\n",
       "      <td>307.0</td>\n",
       "      <td>130</td>\n",
       "      <td>3504</td>\n",
       "      <td>12.0</td>\n",
       "      <td>US</td>\n",
       "    </tr>\n",
       "    <tr>\n",
       "      <th>Buick Skylark 320</th>\n",
       "      <td>15.0</td>\n",
       "      <td>8</td>\n",
       "      <td>350.0</td>\n",
       "      <td>165</td>\n",
       "      <td>3693</td>\n",
       "      <td>11.5</td>\n",
       "      <td>US</td>\n",
       "    </tr>\n",
       "    <tr>\n",
       "      <th>Plymouth Satellite</th>\n",
       "      <td>18.0</td>\n",
       "      <td>8</td>\n",
       "      <td>318.0</td>\n",
       "      <td>150</td>\n",
       "      <td>3436</td>\n",
       "      <td>11.0</td>\n",
       "      <td>US</td>\n",
       "    </tr>\n",
       "    <tr>\n",
       "      <th>AMC Rebel SST</th>\n",
       "      <td>16.0</td>\n",
       "      <td>8</td>\n",
       "      <td>304.0</td>\n",
       "      <td>150</td>\n",
       "      <td>3433</td>\n",
       "      <td>12.0</td>\n",
       "      <td>US</td>\n",
       "    </tr>\n",
       "    <tr>\n",
       "      <th>Ford Torino</th>\n",
       "      <td>17.0</td>\n",
       "      <td>8</td>\n",
       "      <td>302.0</td>\n",
       "      <td>140</td>\n",
       "      <td>3449</td>\n",
       "      <td>10.5</td>\n",
       "      <td>US</td>\n",
       "    </tr>\n",
       "  </tbody>\n",
       "</table>\n",
       "</div>"
      ],
      "text/plain": [
       "                            MPG  Cylinders  Displacement  Horsepower  Weight  \\\n",
       "Name                                                                           \n",
       "Chevrolet Chevelle Malibu  18.0          8         307.0         130    3504   \n",
       "Buick Skylark 320          15.0          8         350.0         165    3693   \n",
       "Plymouth Satellite         18.0          8         318.0         150    3436   \n",
       "AMC Rebel SST              16.0          8         304.0         150    3433   \n",
       "Ford Torino                17.0          8         302.0         140    3449   \n",
       "\n",
       "                           Acceleration Origin  \n",
       "Name                                            \n",
       "Chevrolet Chevelle Malibu          12.0     US  \n",
       "Buick Skylark 320                  11.5     US  \n",
       "Plymouth Satellite                 11.0     US  \n",
       "AMC Rebel SST                      12.0     US  \n",
       "Ford Torino                        10.5     US  "
      ]
     },
     "execution_count": 20,
     "metadata": {},
     "output_type": "execute_result"
    }
   ],
   "source": [
    "cars.head()"
   ]
  },
  {
   "cell_type": "code",
   "execution_count": 21,
   "metadata": {},
   "outputs": [
    {
     "data": {
      "text/html": [
       "<div>\n",
       "<style scoped>\n",
       "    .dataframe tbody tr th:only-of-type {\n",
       "        vertical-align: middle;\n",
       "    }\n",
       "\n",
       "    .dataframe tbody tr th {\n",
       "        vertical-align: top;\n",
       "    }\n",
       "\n",
       "    .dataframe thead th {\n",
       "        text-align: right;\n",
       "    }\n",
       "</style>\n",
       "<table border=\"1\" class=\"dataframe\">\n",
       "  <thead>\n",
       "    <tr style=\"text-align: right;\">\n",
       "      <th></th>\n",
       "      <th>Name</th>\n",
       "      <th>MPG</th>\n",
       "      <th>Cylinders</th>\n",
       "      <th>Displacement</th>\n",
       "      <th>Horsepower</th>\n",
       "      <th>Weight</th>\n",
       "      <th>Acceleration</th>\n",
       "      <th>Origin</th>\n",
       "    </tr>\n",
       "  </thead>\n",
       "  <tbody>\n",
       "    <tr>\n",
       "      <th>0</th>\n",
       "      <td>Chevrolet Chevelle Malibu</td>\n",
       "      <td>18.0</td>\n",
       "      <td>8</td>\n",
       "      <td>307.0</td>\n",
       "      <td>130</td>\n",
       "      <td>3504</td>\n",
       "      <td>12.0</td>\n",
       "      <td>US</td>\n",
       "    </tr>\n",
       "    <tr>\n",
       "      <th>1</th>\n",
       "      <td>Buick Skylark 320</td>\n",
       "      <td>15.0</td>\n",
       "      <td>8</td>\n",
       "      <td>350.0</td>\n",
       "      <td>165</td>\n",
       "      <td>3693</td>\n",
       "      <td>11.5</td>\n",
       "      <td>US</td>\n",
       "    </tr>\n",
       "    <tr>\n",
       "      <th>2</th>\n",
       "      <td>Plymouth Satellite</td>\n",
       "      <td>18.0</td>\n",
       "      <td>8</td>\n",
       "      <td>318.0</td>\n",
       "      <td>150</td>\n",
       "      <td>3436</td>\n",
       "      <td>11.0</td>\n",
       "      <td>US</td>\n",
       "    </tr>\n",
       "    <tr>\n",
       "      <th>3</th>\n",
       "      <td>AMC Rebel SST</td>\n",
       "      <td>16.0</td>\n",
       "      <td>8</td>\n",
       "      <td>304.0</td>\n",
       "      <td>150</td>\n",
       "      <td>3433</td>\n",
       "      <td>12.0</td>\n",
       "      <td>US</td>\n",
       "    </tr>\n",
       "    <tr>\n",
       "      <th>4</th>\n",
       "      <td>Ford Torino</td>\n",
       "      <td>17.0</td>\n",
       "      <td>8</td>\n",
       "      <td>302.0</td>\n",
       "      <td>140</td>\n",
       "      <td>3449</td>\n",
       "      <td>10.5</td>\n",
       "      <td>US</td>\n",
       "    </tr>\n",
       "  </tbody>\n",
       "</table>\n",
       "</div>"
      ],
      "text/plain": [
       "                        Name   MPG  Cylinders  Displacement  Horsepower  \\\n",
       "0  Chevrolet Chevelle Malibu  18.0          8         307.0         130   \n",
       "1          Buick Skylark 320  15.0          8         350.0         165   \n",
       "2         Plymouth Satellite  18.0          8         318.0         150   \n",
       "3              AMC Rebel SST  16.0          8         304.0         150   \n",
       "4                Ford Torino  17.0          8         302.0         140   \n",
       "\n",
       "   Weight  Acceleration Origin  \n",
       "0    3504          12.0     US  \n",
       "1    3693          11.5     US  \n",
       "2    3436          11.0     US  \n",
       "3    3433          12.0     US  \n",
       "4    3449          10.5     US  "
      ]
     },
     "execution_count": 21,
     "metadata": {},
     "output_type": "execute_result"
    }
   ],
   "source": [
    "cars.reset_index(inplace=True)\n",
    "cars.head()"
   ]
  },
  {
   "cell_type": "markdown",
   "metadata": {},
   "source": [
    "The true power of the loc property lies in the fact that we can also use it to select ranges of data. The syntax is the same as iloc and 2-dimensional ndarrays except for two differences:\n",
    "\n",
    "1. We use row and column labels instead of indexes to specify the ranges.\n",
    "2. The range endpoints now are inclusive."
   ]
  },
  {
   "cell_type": "code",
   "execution_count": 22,
   "metadata": {},
   "outputs": [],
   "source": [
    "weights = cars['Weight']\n",
    "name_origin_0_and_3 = cars.loc[[0, 3], ['Name', 'Origin']]"
   ]
  },
  {
   "cell_type": "markdown",
   "metadata": {},
   "source": [
    "Pandas keeps two types of indexes:\n",
    "\n",
    "* Integer indexes from 0 to the number of rows (or columns) minus one. These can be accessed using the **DataFrame.iloc** property.\n",
    "\n",
    "* Label indexes. By default, the columns use the CSV header, and the rows use indexes starting a 0 to the number of rows minus one. These can be accessed using the **DataFrame.loc** property.\n",
    "\n",
    "One way to remember this is to think about the first letter of the property:\n",
    "\n",
    "**Difference between loc and iloc**\n",
    "\n",
    "* loc: label based selection\n",
    "* iloc: integer based selection\n",
    "\n",
    "<Img src=\"https://github.com/rhnyewale/Data-Engineering/blob/main/Images/loc_iloc.JPG?raw=true\">\n",
    "    \n",
    "\n",
    "Labels don't need to be strings. As a matter of fact, the default labels on the rows are integers. Let's replace the index on the **people** dataframe by integers but starting at 1 rather than 0. To create an index from a specific list we need to give that list to the **pandas.Index()** constructor.\n",
    "    \n",
    "<Img src=\"https://github.com/rhnyewale/Data-Engineering/blob/main/Images/loc_iloc2.jpg?raw=true\">"
   ]
  },
  {
   "cell_type": "code",
   "execution_count": 23,
   "metadata": {},
   "outputs": [],
   "source": [
    "num_rows = cars.shape[0]\n",
    "one_index = pd.Index([i for i in range(1,num_rows+1)])\n",
    "cars.set_index(one_index,inplace=True)"
   ]
  },
  {
   "cell_type": "code",
   "execution_count": 24,
   "metadata": {},
   "outputs": [
    {
     "name": "stdout",
     "output_type": "stream",
     "text": [
      "Name            Ford LTD\n",
      "MPG                   13\n",
      "Cylinders              8\n",
      "Displacement         351\n",
      "Horsepower           158\n",
      "Weight              4363\n",
      "Acceleration          13\n",
      "Origin                US\n",
      "Name: 100, dtype: object\n"
     ]
    }
   ],
   "source": [
    "car_100 = cars.loc[100]\n",
    "print(car_100)"
   ]
  },
  {
   "cell_type": "code",
   "execution_count": 25,
   "metadata": {},
   "outputs": [
    {
     "name": "stdout",
     "output_type": "stream",
     "text": [
      "                  Name   MPG  Cylinders  Displacement  Horsepower  Weight  \\\n",
      "2    Buick Skylark 320  15.0          8         350.0         165    3693   \n",
      "3   Plymouth Satellite  18.0          8         318.0         150    3436   \n",
      "4        AMC Rebel SST  16.0          8         304.0         150    3433   \n",
      "5          Ford Torino  17.0          8         302.0         140    3449   \n",
      "6     Ford Galaxie 500  15.0          8         429.0         198    4341   \n",
      "7     Chevrolet Impala  14.0          8         454.0         220    4354   \n",
      "8    Plymouth Fury iii  14.0          8         440.0         215    4312   \n",
      "9     Pontiac Catalina  14.0          8         455.0         225    4425   \n",
      "10  AMC Ambassador DPL  15.0          8         390.0         190    3850   \n",
      "\n",
      "    Acceleration Origin  \n",
      "2           11.5     US  \n",
      "3           11.0     US  \n",
      "4           12.0     US  \n",
      "5           10.5     US  \n",
      "6           10.0     US  \n",
      "7            9.0     US  \n",
      "8            8.5     US  \n",
      "9           10.0     US  \n",
      "10           8.5     US  \n"
     ]
    }
   ],
   "source": [
    "cars2_10 = cars.loc[2:10]\n",
    "print(cars2_10)"
   ]
  },
  {
   "cell_type": "markdown",
   "metadata": {},
   "source": [
    "## Series\n",
    "\n",
    "Pandas uses a **pandas.Series** object as a data structure to represent 1-dimensional data. In the previous mission, we learned that dataframes are the pandas equivalent of 2-dimension ndarray.\n",
    "\n",
    "Series objects are the pandas equivalent to 1-dimensional ndarrays. It comes with the same vectorized operations as ndarrays but is more flexible because in inherits the labels from the dataframe. This makes them very convenient to use because we can use names rather than indexes."
   ]
  },
  {
   "cell_type": "code",
   "execution_count": 26,
   "metadata": {},
   "outputs": [
    {
     "name": "stdout",
     "output_type": "stream",
     "text": [
      "<class 'pandas.core.series.Series'>\n"
     ]
    }
   ],
   "source": [
    "ages = people['Age']\n",
    "print(type(ages))"
   ]
  },
  {
   "cell_type": "markdown",
   "metadata": {},
   "source": [
    "A series works as an enhanced dictionary. They inherit **both the indexes and labels** from the original dataframe. We can access the values of series using indexes from 0 to the length minus 1, like an ndarray. \n",
    "\n",
    "But we can also access them using the labels."
   ]
  },
  {
   "cell_type": "code",
   "execution_count": 27,
   "metadata": {},
   "outputs": [
    {
     "name": "stdout",
     "output_type": "stream",
     "text": [
      "Age         35\n",
      "Weight      81\n",
      "Height    1.84\n",
      "Gender       M\n",
      "Name: Dexter, dtype: object\n",
      "<class 'pandas.core.series.Series'>\n"
     ]
    }
   ],
   "source": [
    "dexter = people.loc['Dexter']\n",
    "print(dexter)\n",
    "print(type(dexter))"
   ]
  },
  {
   "cell_type": "code",
   "execution_count": 28,
   "metadata": {},
   "outputs": [
    {
     "name": "stdout",
     "output_type": "stream",
     "text": [
      "27\n",
      "27\n",
      "1.84\n",
      "1.84\n"
     ]
    }
   ],
   "source": [
    "print(ages['Rita'])\n",
    "print(ages[0])\n",
    "print(dexter['Height'])\n",
    "print(dexter[2])"
   ]
  },
  {
   "cell_type": "markdown",
   "metadata": {},
   "source": [
    "Here we used the names as labels. What if instead we had kept the Name columns and used numeric labels for the rows (blue values)? Say we define the dataframe index to start at 1 instead of 0, like in the cars dataframe.\n",
    "\n",
    "Then we will have an ambiguous situation for the ages series:\n",
    "\n",
    "In this case, the labels (blue values) take priority, and we cannot use the indexes (pink values).\n",
    "For this reason, we recommended that you use the labels (blue values) rather than the indexes (pink values) when accessing values in a pandas series. After all, one of the reasons why we wanted to move from NumPy to pandas is to be able to use labels to access rows and columns."
   ]
  },
  {
   "cell_type": "markdown",
   "metadata": {},
   "source": [
    "series object is closely related to a one-dimensional ndarray. Actually, we can convert a series into an ndarray using the **Series.values** attribute."
   ]
  },
  {
   "cell_type": "code",
   "execution_count": 29,
   "metadata": {},
   "outputs": [
    {
     "name": "stdout",
     "output_type": "stream",
     "text": [
      "[27 35 29 41]\n",
      "<class 'numpy.ndarray'>\n"
     ]
    }
   ],
   "source": [
    "ages = people['Age'].values\n",
    "print(ages)\n",
    "print(type(ages))"
   ]
  },
  {
   "cell_type": "markdown",
   "metadata": {},
   "source": [
    "We learned about the ndarray.max(), ndarray.min() and ndarray.sum() functions. These compute the maximum value, minimum value and sum of the values, respectively. These same methods exist for series objects as well:\n",
    "\n",
    "print(people['Age'].max())<br>\n",
    "print(people['Age'].min())<br>\n",
    "print(people['Age'].sum())<br>\n",
    "print(people['Age'].max())<br>"
   ]
  },
  {
   "cell_type": "code",
   "execution_count": 30,
   "metadata": {},
   "outputs": [
    {
     "name": "stdout",
     "output_type": "stream",
     "text": [
      "41\n",
      "27\n",
      "132\n"
     ]
    }
   ],
   "source": [
    "print(people['Age'].max())\n",
    "print(people['Age'].min())\n",
    "print(people['Age'].sum())"
   ]
  },
  {
   "cell_type": "code",
   "execution_count": 31,
   "metadata": {},
   "outputs": [
    {
     "name": "stdout",
     "output_type": "stream",
     "text": [
      "Name\n",
      "Rita      68.65\n",
      "Dexter    82.84\n",
      "Anna      56.60\n",
      "Bob       74.79\n",
      "dtype: float64\n"
     ]
    }
   ],
   "source": [
    "print(people['Weight'] + people['Height'])"
   ]
  },
  {
   "cell_type": "code",
   "execution_count": 32,
   "metadata": {},
   "outputs": [],
   "source": [
    "max_weight = cars['Weight'].max()\n",
    "min_weight = cars['Weight'].min()\n",
    "weight_ratio = max_weight/min_weight\n"
   ]
  },
  {
   "cell_type": "code",
   "execution_count": 33,
   "metadata": {},
   "outputs": [
    {
     "name": "stdout",
     "output_type": "stream",
     "text": [
      "3.186608803471792\n"
     ]
    }
   ],
   "source": [
    "print(weight_ratio)"
   ]
  },
  {
   "cell_type": "code",
   "execution_count": 34,
   "metadata": {},
   "outputs": [
    {
     "name": "stdout",
     "output_type": "stream",
     "text": [
      "F    2\n",
      "M    2\n",
      "Name: Gender, dtype: int64\n"
     ]
    }
   ],
   "source": [
    "print(people['Gender'].value_counts())"
   ]
  },
  {
   "cell_type": "markdown",
   "metadata": {},
   "source": [
    "**Series to dictionary**<br>\n",
    "Series.to_dict()"
   ]
  },
  {
   "cell_type": "code",
   "execution_count": 35,
   "metadata": {},
   "outputs": [
    {
     "name": "stdout",
     "output_type": "stream",
     "text": [
      "{'F': 2, 'M': 2}\n"
     ]
    }
   ],
   "source": [
    "gender_count = people['Gender'].value_counts()\n",
    "gender_count_dict = gender_count.to_dict()\n",
    "print(gender_count_dict)"
   ]
  },
  {
   "cell_type": "code",
   "execution_count": 36,
   "metadata": {},
   "outputs": [
    {
     "name": "stdout",
     "output_type": "stream",
     "text": [
      "{'US': 254, 'Japan': 79, 'Europe': 73}\n"
     ]
    }
   ],
   "source": [
    "origin_counts = cars['Origin'].value_counts()\n",
    "origin_counts_dict = origin_counts.to_dict()\n",
    "print(origin_counts_dict)"
   ]
  },
  {
   "cell_type": "markdown",
   "metadata": {},
   "source": [
    "When we use a comparison operator between a series and a value, we'll get a boolean series object.<br>\n"
   ]
  },
  {
   "cell_type": "code",
   "execution_count": 37,
   "metadata": {},
   "outputs": [
    {
     "name": "stdout",
     "output_type": "stream",
     "text": [
      "Name\n",
      "Rita      False\n",
      "Dexter     True\n",
      "Anna      False\n",
      "Bob        True\n",
      "Name: Gender, dtype: bool\n"
     ]
    }
   ],
   "source": [
    "print(people['Gender']=='M')"
   ]
  },
  {
   "cell_type": "code",
   "execution_count": 38,
   "metadata": {},
   "outputs": [
    {
     "name": "stdout",
     "output_type": "stream",
     "text": [
      "(73, 8)\n"
     ]
    }
   ],
   "source": [
    "european_cars = cars[cars['Origin'] == 'Europe']\n",
    "print(european_cars.shape)"
   ]
  },
  {
   "cell_type": "markdown",
   "metadata": {},
   "source": [
    "We can use the **negation operator ~** to select all rows that don't satisfy a given condition. The condition should be put between parenthesis. For example, we can select all people who are not more than 30 years old as follows:"
   ]
  },
  {
   "cell_type": "code",
   "execution_count": 39,
   "metadata": {},
   "outputs": [
    {
     "data": {
      "text/html": [
       "<div>\n",
       "<style scoped>\n",
       "    .dataframe tbody tr th:only-of-type {\n",
       "        vertical-align: middle;\n",
       "    }\n",
       "\n",
       "    .dataframe tbody tr th {\n",
       "        vertical-align: top;\n",
       "    }\n",
       "\n",
       "    .dataframe thead th {\n",
       "        text-align: right;\n",
       "    }\n",
       "</style>\n",
       "<table border=\"1\" class=\"dataframe\">\n",
       "  <thead>\n",
       "    <tr style=\"text-align: right;\">\n",
       "      <th></th>\n",
       "      <th>Age</th>\n",
       "      <th>Weight</th>\n",
       "      <th>Height</th>\n",
       "      <th>Gender</th>\n",
       "    </tr>\n",
       "    <tr>\n",
       "      <th>Name</th>\n",
       "      <th></th>\n",
       "      <th></th>\n",
       "      <th></th>\n",
       "      <th></th>\n",
       "    </tr>\n",
       "  </thead>\n",
       "  <tbody>\n",
       "    <tr>\n",
       "      <th>Rita</th>\n",
       "      <td>27</td>\n",
       "      <td>67</td>\n",
       "      <td>1.65</td>\n",
       "      <td>F</td>\n",
       "    </tr>\n",
       "    <tr>\n",
       "      <th>Anna</th>\n",
       "      <td>29</td>\n",
       "      <td>55</td>\n",
       "      <td>1.60</td>\n",
       "      <td>F</td>\n",
       "    </tr>\n",
       "  </tbody>\n",
       "</table>\n",
       "</div>"
      ],
      "text/plain": [
       "      Age  Weight  Height Gender\n",
       "Name                            \n",
       "Rita   27      67    1.65      F\n",
       "Anna   29      55    1.60      F"
      ]
     },
     "execution_count": 39,
     "metadata": {},
     "output_type": "execute_result"
    }
   ],
   "source": [
    "people[(people['Weight'] <= 75) & (people['Height'] <= 1.7)]"
   ]
  },
  {
   "cell_type": "code",
   "execution_count": 40,
   "metadata": {},
   "outputs": [
    {
     "data": {
      "text/html": [
       "<div>\n",
       "<style scoped>\n",
       "    .dataframe tbody tr th:only-of-type {\n",
       "        vertical-align: middle;\n",
       "    }\n",
       "\n",
       "    .dataframe tbody tr th {\n",
       "        vertical-align: top;\n",
       "    }\n",
       "\n",
       "    .dataframe thead th {\n",
       "        text-align: right;\n",
       "    }\n",
       "</style>\n",
       "<table border=\"1\" class=\"dataframe\">\n",
       "  <thead>\n",
       "    <tr style=\"text-align: right;\">\n",
       "      <th></th>\n",
       "      <th>Age</th>\n",
       "      <th>Weight</th>\n",
       "      <th>Height</th>\n",
       "      <th>Gender</th>\n",
       "    </tr>\n",
       "    <tr>\n",
       "      <th>Name</th>\n",
       "      <th></th>\n",
       "      <th></th>\n",
       "      <th></th>\n",
       "      <th></th>\n",
       "    </tr>\n",
       "  </thead>\n",
       "  <tbody>\n",
       "    <tr>\n",
       "      <th>Rita</th>\n",
       "      <td>27</td>\n",
       "      <td>67</td>\n",
       "      <td>1.65</td>\n",
       "      <td>F</td>\n",
       "    </tr>\n",
       "    <tr>\n",
       "      <th>Anna</th>\n",
       "      <td>29</td>\n",
       "      <td>55</td>\n",
       "      <td>1.60</td>\n",
       "      <td>F</td>\n",
       "    </tr>\n",
       "  </tbody>\n",
       "</table>\n",
       "</div>"
      ],
      "text/plain": [
       "      Age  Weight  Height Gender\n",
       "Name                            \n",
       "Rita   27      67    1.65      F\n",
       "Anna   29      55    1.60      F"
      ]
     },
     "execution_count": 40,
     "metadata": {},
     "output_type": "execute_result"
    }
   ],
   "source": [
    "people[~(people['Age'] > 30)]"
   ]
  },
  {
   "cell_type": "code",
   "execution_count": 41,
   "metadata": {},
   "outputs": [],
   "source": [
    "non_us_cars = cars[~(cars['Origin'] == 'US')]\n",
    "low_mpg_horsepower = cars[(cars['MPG'] >0)&(cars['MPG']<10)&(cars['Horsepower']>149)]\n",
    "light_or_fast = cars[(cars['Weight']<2001)|(cars['Acceleration']>29)]"
   ]
  },
  {
   "cell_type": "markdown",
   "metadata": {},
   "source": [
    "We can select a list of columns by providing the names of the columns in a list."
   ]
  },
  {
   "cell_type": "code",
   "execution_count": 42,
   "metadata": {},
   "outputs": [
    {
     "data": {
      "text/html": [
       "<div>\n",
       "<style scoped>\n",
       "    .dataframe tbody tr th:only-of-type {\n",
       "        vertical-align: middle;\n",
       "    }\n",
       "\n",
       "    .dataframe tbody tr th {\n",
       "        vertical-align: top;\n",
       "    }\n",
       "\n",
       "    .dataframe thead th {\n",
       "        text-align: right;\n",
       "    }\n",
       "</style>\n",
       "<table border=\"1\" class=\"dataframe\">\n",
       "  <thead>\n",
       "    <tr style=\"text-align: right;\">\n",
       "      <th></th>\n",
       "      <th>Name</th>\n",
       "      <th>MPG</th>\n",
       "      <th>Cylinders</th>\n",
       "      <th>Displacement</th>\n",
       "      <th>Horsepower</th>\n",
       "      <th>Weight</th>\n",
       "      <th>Acceleration</th>\n",
       "      <th>Origin</th>\n",
       "    </tr>\n",
       "  </thead>\n",
       "  <tbody>\n",
       "    <tr>\n",
       "      <th>11</th>\n",
       "      <td>Citroen DS-21 Pallas</td>\n",
       "      <td>0.0</td>\n",
       "      <td>4</td>\n",
       "      <td>133.0</td>\n",
       "      <td>115</td>\n",
       "      <td>3090</td>\n",
       "      <td>17.5</td>\n",
       "      <td>Europe</td>\n",
       "    </tr>\n",
       "    <tr>\n",
       "      <th>21</th>\n",
       "      <td>Toyota Corolla Mark ii</td>\n",
       "      <td>24.0</td>\n",
       "      <td>4</td>\n",
       "      <td>113.0</td>\n",
       "      <td>95</td>\n",
       "      <td>2372</td>\n",
       "      <td>15.0</td>\n",
       "      <td>Japan</td>\n",
       "    </tr>\n",
       "    <tr>\n",
       "      <th>25</th>\n",
       "      <td>Datsun PL510</td>\n",
       "      <td>27.0</td>\n",
       "      <td>4</td>\n",
       "      <td>97.0</td>\n",
       "      <td>88</td>\n",
       "      <td>2130</td>\n",
       "      <td>14.5</td>\n",
       "      <td>Japan</td>\n",
       "    </tr>\n",
       "    <tr>\n",
       "      <th>26</th>\n",
       "      <td>Volkswagen 1131 Deluxe Sedan</td>\n",
       "      <td>26.0</td>\n",
       "      <td>4</td>\n",
       "      <td>97.0</td>\n",
       "      <td>46</td>\n",
       "      <td>1835</td>\n",
       "      <td>20.5</td>\n",
       "      <td>Europe</td>\n",
       "    </tr>\n",
       "    <tr>\n",
       "      <th>27</th>\n",
       "      <td>Peugeot 504</td>\n",
       "      <td>25.0</td>\n",
       "      <td>4</td>\n",
       "      <td>110.0</td>\n",
       "      <td>87</td>\n",
       "      <td>2672</td>\n",
       "      <td>17.5</td>\n",
       "      <td>Europe</td>\n",
       "    </tr>\n",
       "    <tr>\n",
       "      <th>...</th>\n",
       "      <td>...</td>\n",
       "      <td>...</td>\n",
       "      <td>...</td>\n",
       "      <td>...</td>\n",
       "      <td>...</td>\n",
       "      <td>...</td>\n",
       "      <td>...</td>\n",
       "      <td>...</td>\n",
       "    </tr>\n",
       "    <tr>\n",
       "      <th>392</th>\n",
       "      <td>Honda Civic</td>\n",
       "      <td>38.0</td>\n",
       "      <td>4</td>\n",
       "      <td>91.0</td>\n",
       "      <td>67</td>\n",
       "      <td>1965</td>\n",
       "      <td>15.0</td>\n",
       "      <td>Japan</td>\n",
       "    </tr>\n",
       "    <tr>\n",
       "      <th>393</th>\n",
       "      <td>Honda Civic (auto)</td>\n",
       "      <td>32.0</td>\n",
       "      <td>4</td>\n",
       "      <td>91.0</td>\n",
       "      <td>67</td>\n",
       "      <td>1965</td>\n",
       "      <td>15.7</td>\n",
       "      <td>Japan</td>\n",
       "    </tr>\n",
       "    <tr>\n",
       "      <th>394</th>\n",
       "      <td>Datsun 310 GX</td>\n",
       "      <td>38.0</td>\n",
       "      <td>4</td>\n",
       "      <td>91.0</td>\n",
       "      <td>67</td>\n",
       "      <td>1995</td>\n",
       "      <td>16.2</td>\n",
       "      <td>Japan</td>\n",
       "    </tr>\n",
       "    <tr>\n",
       "      <th>399</th>\n",
       "      <td>Toyota Celica GT</td>\n",
       "      <td>32.0</td>\n",
       "      <td>4</td>\n",
       "      <td>144.0</td>\n",
       "      <td>96</td>\n",
       "      <td>2665</td>\n",
       "      <td>13.9</td>\n",
       "      <td>Japan</td>\n",
       "    </tr>\n",
       "    <tr>\n",
       "      <th>403</th>\n",
       "      <td>Volkswagen Pickup</td>\n",
       "      <td>44.0</td>\n",
       "      <td>4</td>\n",
       "      <td>97.0</td>\n",
       "      <td>52</td>\n",
       "      <td>2130</td>\n",
       "      <td>24.6</td>\n",
       "      <td>Europe</td>\n",
       "    </tr>\n",
       "  </tbody>\n",
       "</table>\n",
       "<p>152 rows × 8 columns</p>\n",
       "</div>"
      ],
      "text/plain": [
       "                             Name   MPG  Cylinders  Displacement  Horsepower  \\\n",
       "11           Citroen DS-21 Pallas   0.0          4         133.0         115   \n",
       "21         Toyota Corolla Mark ii  24.0          4         113.0          95   \n",
       "25                   Datsun PL510  27.0          4          97.0          88   \n",
       "26   Volkswagen 1131 Deluxe Sedan  26.0          4          97.0          46   \n",
       "27                    Peugeot 504  25.0          4         110.0          87   \n",
       "..                            ...   ...        ...           ...         ...   \n",
       "392                   Honda Civic  38.0          4          91.0          67   \n",
       "393            Honda Civic (auto)  32.0          4          91.0          67   \n",
       "394                 Datsun 310 GX  38.0          4          91.0          67   \n",
       "399              Toyota Celica GT  32.0          4         144.0          96   \n",
       "403             Volkswagen Pickup  44.0          4          97.0          52   \n",
       "\n",
       "     Weight  Acceleration  Origin  \n",
       "11     3090          17.5  Europe  \n",
       "21     2372          15.0   Japan  \n",
       "25     2130          14.5   Japan  \n",
       "26     1835          20.5  Europe  \n",
       "27     2672          17.5  Europe  \n",
       "..      ...           ...     ...  \n",
       "392    1965          15.0   Japan  \n",
       "393    1965          15.7   Japan  \n",
       "394    1995          16.2   Japan  \n",
       "399    2665          13.9   Japan  \n",
       "403    2130          24.6  Europe  \n",
       "\n",
       "[152 rows x 8 columns]"
      ]
     },
     "execution_count": 42,
     "metadata": {},
     "output_type": "execute_result"
    }
   ],
   "source": [
    "non_us_cars"
   ]
  },
  {
   "cell_type": "markdown",
   "metadata": {},
   "source": []
  },
  {
   "cell_type": "code",
   "execution_count": 43,
   "metadata": {},
   "outputs": [
    {
     "data": {
      "text/html": [
       "<div>\n",
       "<style scoped>\n",
       "    .dataframe tbody tr th:only-of-type {\n",
       "        vertical-align: middle;\n",
       "    }\n",
       "\n",
       "    .dataframe tbody tr th {\n",
       "        vertical-align: top;\n",
       "    }\n",
       "\n",
       "    .dataframe thead th {\n",
       "        text-align: right;\n",
       "    }\n",
       "</style>\n",
       "<table border=\"1\" class=\"dataframe\">\n",
       "  <thead>\n",
       "    <tr style=\"text-align: right;\">\n",
       "      <th></th>\n",
       "      <th>Name</th>\n",
       "      <th>Weight</th>\n",
       "      <th>Acceleration</th>\n",
       "    </tr>\n",
       "  </thead>\n",
       "  <tbody>\n",
       "    <tr>\n",
       "      <th>11</th>\n",
       "      <td>Citroen DS-21 Pallas</td>\n",
       "      <td>3090</td>\n",
       "      <td>17.5</td>\n",
       "    </tr>\n",
       "    <tr>\n",
       "      <th>21</th>\n",
       "      <td>Toyota Corolla Mark ii</td>\n",
       "      <td>2372</td>\n",
       "      <td>15.0</td>\n",
       "    </tr>\n",
       "    <tr>\n",
       "      <th>25</th>\n",
       "      <td>Datsun PL510</td>\n",
       "      <td>2130</td>\n",
       "      <td>14.5</td>\n",
       "    </tr>\n",
       "    <tr>\n",
       "      <th>27</th>\n",
       "      <td>Peugeot 504</td>\n",
       "      <td>2672</td>\n",
       "      <td>17.5</td>\n",
       "    </tr>\n",
       "    <tr>\n",
       "      <th>28</th>\n",
       "      <td>Audi 100 LS</td>\n",
       "      <td>2430</td>\n",
       "      <td>14.5</td>\n",
       "    </tr>\n",
       "    <tr>\n",
       "      <th>...</th>\n",
       "      <td>...</td>\n",
       "      <td>...</td>\n",
       "      <td>...</td>\n",
       "    </tr>\n",
       "    <tr>\n",
       "      <th>391</th>\n",
       "      <td>Toyota Corolla</td>\n",
       "      <td>2245</td>\n",
       "      <td>16.9</td>\n",
       "    </tr>\n",
       "    <tr>\n",
       "      <th>392</th>\n",
       "      <td>Honda Civic</td>\n",
       "      <td>1965</td>\n",
       "      <td>15.0</td>\n",
       "    </tr>\n",
       "    <tr>\n",
       "      <th>393</th>\n",
       "      <td>Honda Civic (auto)</td>\n",
       "      <td>1965</td>\n",
       "      <td>15.7</td>\n",
       "    </tr>\n",
       "    <tr>\n",
       "      <th>394</th>\n",
       "      <td>Datsun 310 GX</td>\n",
       "      <td>1995</td>\n",
       "      <td>16.2</td>\n",
       "    </tr>\n",
       "    <tr>\n",
       "      <th>399</th>\n",
       "      <td>Toyota Celica GT</td>\n",
       "      <td>2665</td>\n",
       "      <td>13.9</td>\n",
       "    </tr>\n",
       "  </tbody>\n",
       "</table>\n",
       "<p>138 rows × 3 columns</p>\n",
       "</div>"
      ],
      "text/plain": [
       "                       Name  Weight  Acceleration\n",
       "11     Citroen DS-21 Pallas    3090          17.5\n",
       "21   Toyota Corolla Mark ii    2372          15.0\n",
       "25             Datsun PL510    2130          14.5\n",
       "27              Peugeot 504    2672          17.5\n",
       "28              Audi 100 LS    2430          14.5\n",
       "..                      ...     ...           ...\n",
       "391          Toyota Corolla    2245          16.9\n",
       "392             Honda Civic    1965          15.0\n",
       "393      Honda Civic (auto)    1965          15.7\n",
       "394           Datsun 310 GX    1995          16.2\n",
       "399        Toyota Celica GT    2665          13.9\n",
       "\n",
       "[138 rows x 3 columns]"
      ]
     },
     "execution_count": 43,
     "metadata": {},
     "output_type": "execute_result"
    }
   ],
   "source": [
    "non_us_cars.loc[non_us_cars['Acceleration']< 20,['Name','Weight','Acceleration']]"
   ]
  },
  {
   "cell_type": "code",
   "execution_count": 44,
   "metadata": {},
   "outputs": [
    {
     "data": {
      "text/html": [
       "<div>\n",
       "<style scoped>\n",
       "    .dataframe tbody tr th:only-of-type {\n",
       "        vertical-align: middle;\n",
       "    }\n",
       "\n",
       "    .dataframe tbody tr th {\n",
       "        vertical-align: top;\n",
       "    }\n",
       "\n",
       "    .dataframe thead th {\n",
       "        text-align: right;\n",
       "    }\n",
       "</style>\n",
       "<table border=\"1\" class=\"dataframe\">\n",
       "  <thead>\n",
       "    <tr style=\"text-align: right;\">\n",
       "      <th></th>\n",
       "      <th>Name</th>\n",
       "      <th>MPG</th>\n",
       "      <th>Cylinders</th>\n",
       "      <th>Displacement</th>\n",
       "      <th>Horsepower</th>\n",
       "      <th>Weight</th>\n",
       "      <th>Acceleration</th>\n",
       "    </tr>\n",
       "  </thead>\n",
       "  <tbody>\n",
       "    <tr>\n",
       "      <th>11</th>\n",
       "      <td>Citroen DS-21 Pallas</td>\n",
       "      <td>0.0</td>\n",
       "      <td>4</td>\n",
       "      <td>133.0</td>\n",
       "      <td>115</td>\n",
       "      <td>3090</td>\n",
       "      <td>17.5</td>\n",
       "    </tr>\n",
       "    <tr>\n",
       "      <th>21</th>\n",
       "      <td>Toyota Corolla Mark ii</td>\n",
       "      <td>24.0</td>\n",
       "      <td>4</td>\n",
       "      <td>113.0</td>\n",
       "      <td>95</td>\n",
       "      <td>2372</td>\n",
       "      <td>15.0</td>\n",
       "    </tr>\n",
       "    <tr>\n",
       "      <th>25</th>\n",
       "      <td>Datsun PL510</td>\n",
       "      <td>27.0</td>\n",
       "      <td>4</td>\n",
       "      <td>97.0</td>\n",
       "      <td>88</td>\n",
       "      <td>2130</td>\n",
       "      <td>14.5</td>\n",
       "    </tr>\n",
       "    <tr>\n",
       "      <th>27</th>\n",
       "      <td>Peugeot 504</td>\n",
       "      <td>25.0</td>\n",
       "      <td>4</td>\n",
       "      <td>110.0</td>\n",
       "      <td>87</td>\n",
       "      <td>2672</td>\n",
       "      <td>17.5</td>\n",
       "    </tr>\n",
       "    <tr>\n",
       "      <th>28</th>\n",
       "      <td>Audi 100 LS</td>\n",
       "      <td>24.0</td>\n",
       "      <td>4</td>\n",
       "      <td>107.0</td>\n",
       "      <td>90</td>\n",
       "      <td>2430</td>\n",
       "      <td>14.5</td>\n",
       "    </tr>\n",
       "    <tr>\n",
       "      <th>...</th>\n",
       "      <td>...</td>\n",
       "      <td>...</td>\n",
       "      <td>...</td>\n",
       "      <td>...</td>\n",
       "      <td>...</td>\n",
       "      <td>...</td>\n",
       "      <td>...</td>\n",
       "    </tr>\n",
       "    <tr>\n",
       "      <th>391</th>\n",
       "      <td>Toyota Corolla</td>\n",
       "      <td>34.0</td>\n",
       "      <td>4</td>\n",
       "      <td>108.0</td>\n",
       "      <td>70</td>\n",
       "      <td>2245</td>\n",
       "      <td>16.9</td>\n",
       "    </tr>\n",
       "    <tr>\n",
       "      <th>392</th>\n",
       "      <td>Honda Civic</td>\n",
       "      <td>38.0</td>\n",
       "      <td>4</td>\n",
       "      <td>91.0</td>\n",
       "      <td>67</td>\n",
       "      <td>1965</td>\n",
       "      <td>15.0</td>\n",
       "    </tr>\n",
       "    <tr>\n",
       "      <th>393</th>\n",
       "      <td>Honda Civic (auto)</td>\n",
       "      <td>32.0</td>\n",
       "      <td>4</td>\n",
       "      <td>91.0</td>\n",
       "      <td>67</td>\n",
       "      <td>1965</td>\n",
       "      <td>15.7</td>\n",
       "    </tr>\n",
       "    <tr>\n",
       "      <th>394</th>\n",
       "      <td>Datsun 310 GX</td>\n",
       "      <td>38.0</td>\n",
       "      <td>4</td>\n",
       "      <td>91.0</td>\n",
       "      <td>67</td>\n",
       "      <td>1995</td>\n",
       "      <td>16.2</td>\n",
       "    </tr>\n",
       "    <tr>\n",
       "      <th>399</th>\n",
       "      <td>Toyota Celica GT</td>\n",
       "      <td>32.0</td>\n",
       "      <td>4</td>\n",
       "      <td>144.0</td>\n",
       "      <td>96</td>\n",
       "      <td>2665</td>\n",
       "      <td>13.9</td>\n",
       "    </tr>\n",
       "  </tbody>\n",
       "</table>\n",
       "<p>138 rows × 7 columns</p>\n",
       "</div>"
      ],
      "text/plain": [
       "                       Name   MPG  Cylinders  Displacement  Horsepower  \\\n",
       "11     Citroen DS-21 Pallas   0.0          4         133.0         115   \n",
       "21   Toyota Corolla Mark ii  24.0          4         113.0          95   \n",
       "25             Datsun PL510  27.0          4          97.0          88   \n",
       "27              Peugeot 504  25.0          4         110.0          87   \n",
       "28              Audi 100 LS  24.0          4         107.0          90   \n",
       "..                      ...   ...        ...           ...         ...   \n",
       "391          Toyota Corolla  34.0          4         108.0          70   \n",
       "392             Honda Civic  38.0          4          91.0          67   \n",
       "393      Honda Civic (auto)  32.0          4          91.0          67   \n",
       "394           Datsun 310 GX  38.0          4          91.0          67   \n",
       "399        Toyota Celica GT  32.0          4         144.0          96   \n",
       "\n",
       "     Weight  Acceleration  \n",
       "11     3090          17.5  \n",
       "21     2372          15.0  \n",
       "25     2130          14.5  \n",
       "27     2672          17.5  \n",
       "28     2430          14.5  \n",
       "..      ...           ...  \n",
       "391    2245          16.9  \n",
       "392    1965          15.0  \n",
       "393    1965          15.7  \n",
       "394    1995          16.2  \n",
       "399    2665          13.9  \n",
       "\n",
       "[138 rows x 7 columns]"
      ]
     },
     "execution_count": 44,
     "metadata": {},
     "output_type": "execute_result"
    }
   ],
   "source": [
    "non_us_cars.loc[non_us_cars['Acceleration']< 20,'Name':'Acceleration']"
   ]
  },
  {
   "cell_type": "code",
   "execution_count": 45,
   "metadata": {},
   "outputs": [
    {
     "data": {
      "text/html": [
       "<div>\n",
       "<style scoped>\n",
       "    .dataframe tbody tr th:only-of-type {\n",
       "        vertical-align: middle;\n",
       "    }\n",
       "\n",
       "    .dataframe tbody tr th {\n",
       "        vertical-align: top;\n",
       "    }\n",
       "\n",
       "    .dataframe thead th {\n",
       "        text-align: right;\n",
       "    }\n",
       "</style>\n",
       "<table border=\"1\" class=\"dataframe\">\n",
       "  <thead>\n",
       "    <tr style=\"text-align: right;\">\n",
       "      <th></th>\n",
       "      <th>Name</th>\n",
       "      <th>Origin</th>\n",
       "    </tr>\n",
       "  </thead>\n",
       "  <tbody>\n",
       "    <tr>\n",
       "      <th>32</th>\n",
       "      <td>Ford F250</td>\n",
       "      <td>US</td>\n",
       "    </tr>\n",
       "    <tr>\n",
       "      <th>33</th>\n",
       "      <td>Chevy C20</td>\n",
       "      <td>US</td>\n",
       "    </tr>\n",
       "    <tr>\n",
       "      <th>34</th>\n",
       "      <td>Dodge D200</td>\n",
       "      <td>US</td>\n",
       "    </tr>\n",
       "    <tr>\n",
       "      <th>75</th>\n",
       "      <td>Mercury Marquis</td>\n",
       "      <td>US</td>\n",
       "    </tr>\n",
       "  </tbody>\n",
       "</table>\n",
       "</div>"
      ],
      "text/plain": [
       "               Name Origin\n",
       "32        Ford F250     US\n",
       "33        Chevy C20     US\n",
       "34       Dodge D200     US\n",
       "75  Mercury Marquis     US"
      ]
     },
     "execution_count": 45,
     "metadata": {},
     "output_type": "execute_result"
    }
   ],
   "source": [
    "name_and_origin = cars.loc[(cars['MPG'] > 0)  & \n",
    "                           (cars['MPG'] < 12) & \n",
    "                           (cars['Horsepower'] >= 200), \n",
    "                           ['Name', 'Origin']]\n",
    "\n",
    "name_and_origin"
   ]
  },
  {
   "cell_type": "markdown",
   "metadata": {},
   "source": [
    "Adding a new column in Pandas"
   ]
  },
  {
   "cell_type": "code",
   "execution_count": 46,
   "metadata": {},
   "outputs": [
    {
     "data": {
      "text/html": [
       "<div>\n",
       "<style scoped>\n",
       "    .dataframe tbody tr th:only-of-type {\n",
       "        vertical-align: middle;\n",
       "    }\n",
       "\n",
       "    .dataframe tbody tr th {\n",
       "        vertical-align: top;\n",
       "    }\n",
       "\n",
       "    .dataframe thead th {\n",
       "        text-align: right;\n",
       "    }\n",
       "</style>\n",
       "<table border=\"1\" class=\"dataframe\">\n",
       "  <thead>\n",
       "    <tr style=\"text-align: right;\">\n",
       "      <th></th>\n",
       "      <th>Age</th>\n",
       "      <th>Weight</th>\n",
       "      <th>Height</th>\n",
       "      <th>Gender</th>\n",
       "      <th>BMI</th>\n",
       "    </tr>\n",
       "    <tr>\n",
       "      <th>Name</th>\n",
       "      <th></th>\n",
       "      <th></th>\n",
       "      <th></th>\n",
       "      <th></th>\n",
       "      <th></th>\n",
       "    </tr>\n",
       "  </thead>\n",
       "  <tbody>\n",
       "    <tr>\n",
       "      <th>Rita</th>\n",
       "      <td>27</td>\n",
       "      <td>67</td>\n",
       "      <td>1.65</td>\n",
       "      <td>F</td>\n",
       "      <td>0.000368</td>\n",
       "    </tr>\n",
       "    <tr>\n",
       "      <th>Dexter</th>\n",
       "      <td>35</td>\n",
       "      <td>81</td>\n",
       "      <td>1.84</td>\n",
       "      <td>M</td>\n",
       "      <td>0.000280</td>\n",
       "    </tr>\n",
       "    <tr>\n",
       "      <th>Anna</th>\n",
       "      <td>29</td>\n",
       "      <td>55</td>\n",
       "      <td>1.60</td>\n",
       "      <td>F</td>\n",
       "      <td>0.000529</td>\n",
       "    </tr>\n",
       "    <tr>\n",
       "      <th>Bob</th>\n",
       "      <td>41</td>\n",
       "      <td>73</td>\n",
       "      <td>1.79</td>\n",
       "      <td>M</td>\n",
       "      <td>0.000336</td>\n",
       "    </tr>\n",
       "  </tbody>\n",
       "</table>\n",
       "</div>"
      ],
      "text/plain": [
       "        Age  Weight  Height Gender       BMI\n",
       "Name                                        \n",
       "Rita     27      67    1.65      F  0.000368\n",
       "Dexter   35      81    1.84      M  0.000280\n",
       "Anna     29      55    1.60      F  0.000529\n",
       "Bob      41      73    1.79      M  0.000336"
      ]
     },
     "execution_count": 46,
     "metadata": {},
     "output_type": "execute_result"
    }
   ],
   "source": [
    "people['BMI'] = people['Height'] / (people['Weight'] ** 2)\n",
    "people"
   ]
  },
  {
   "cell_type": "code",
   "execution_count": 47,
   "metadata": {},
   "outputs": [
    {
     "name": "stdout",
     "output_type": "stream",
     "text": [
      "0.0729099157485418\n"
     ]
    }
   ],
   "source": [
    "cars['PW_ratio'] = cars['Horsepower'] / cars['Weight']\n",
    "max_pw_ratio = cars['PW_ratio'].max()\n",
    "print(max_pw_ratio)"
   ]
  },
  {
   "cell_type": "code",
   "execution_count": 48,
   "metadata": {},
   "outputs": [],
   "source": [
    "mpg_l100_constant = 235.214583\n",
    "mpg_non_zero = cars.loc[cars['MPG'] > 0, 'MPG']\n",
    "L100 = mpg_l100_constant / mpg_non_zero\n",
    "cars['L/100'] = L100"
   ]
  },
  {
   "cell_type": "code",
   "execution_count": 49,
   "metadata": {},
   "outputs": [
    {
     "data": {
      "text/html": [
       "<div>\n",
       "<style scoped>\n",
       "    .dataframe tbody tr th:only-of-type {\n",
       "        vertical-align: middle;\n",
       "    }\n",
       "\n",
       "    .dataframe tbody tr th {\n",
       "        vertical-align: top;\n",
       "    }\n",
       "\n",
       "    .dataframe thead th {\n",
       "        text-align: right;\n",
       "    }\n",
       "</style>\n",
       "<table border=\"1\" class=\"dataframe\">\n",
       "  <thead>\n",
       "    <tr style=\"text-align: right;\">\n",
       "      <th></th>\n",
       "      <th>Name</th>\n",
       "      <th>MPG</th>\n",
       "      <th>Cylinders</th>\n",
       "      <th>Displacement</th>\n",
       "      <th>Horsepower</th>\n",
       "      <th>Weight</th>\n",
       "      <th>Acceleration</th>\n",
       "      <th>Origin</th>\n",
       "      <th>PW_ratio</th>\n",
       "      <th>L/100</th>\n",
       "    </tr>\n",
       "  </thead>\n",
       "  <tbody>\n",
       "    <tr>\n",
       "      <th>1</th>\n",
       "      <td>Chevrolet Chevelle Malibu</td>\n",
       "      <td>18.0</td>\n",
       "      <td>8</td>\n",
       "      <td>307.0</td>\n",
       "      <td>130</td>\n",
       "      <td>3504</td>\n",
       "      <td>12.0</td>\n",
       "      <td>US</td>\n",
       "      <td>0.037100</td>\n",
       "      <td>13.067477</td>\n",
       "    </tr>\n",
       "    <tr>\n",
       "      <th>2</th>\n",
       "      <td>Buick Skylark 320</td>\n",
       "      <td>15.0</td>\n",
       "      <td>8</td>\n",
       "      <td>350.0</td>\n",
       "      <td>165</td>\n",
       "      <td>3693</td>\n",
       "      <td>11.5</td>\n",
       "      <td>US</td>\n",
       "      <td>0.044679</td>\n",
       "      <td>15.680972</td>\n",
       "    </tr>\n",
       "    <tr>\n",
       "      <th>3</th>\n",
       "      <td>Plymouth Satellite</td>\n",
       "      <td>18.0</td>\n",
       "      <td>8</td>\n",
       "      <td>318.0</td>\n",
       "      <td>150</td>\n",
       "      <td>3436</td>\n",
       "      <td>11.0</td>\n",
       "      <td>US</td>\n",
       "      <td>0.043655</td>\n",
       "      <td>13.067477</td>\n",
       "    </tr>\n",
       "    <tr>\n",
       "      <th>4</th>\n",
       "      <td>AMC Rebel SST</td>\n",
       "      <td>16.0</td>\n",
       "      <td>8</td>\n",
       "      <td>304.0</td>\n",
       "      <td>150</td>\n",
       "      <td>3433</td>\n",
       "      <td>12.0</td>\n",
       "      <td>US</td>\n",
       "      <td>0.043694</td>\n",
       "      <td>14.700911</td>\n",
       "    </tr>\n",
       "    <tr>\n",
       "      <th>5</th>\n",
       "      <td>Ford Torino</td>\n",
       "      <td>17.0</td>\n",
       "      <td>8</td>\n",
       "      <td>302.0</td>\n",
       "      <td>140</td>\n",
       "      <td>3449</td>\n",
       "      <td>10.5</td>\n",
       "      <td>US</td>\n",
       "      <td>0.040591</td>\n",
       "      <td>13.836152</td>\n",
       "    </tr>\n",
       "    <tr>\n",
       "      <th>...</th>\n",
       "      <td>...</td>\n",
       "      <td>...</td>\n",
       "      <td>...</td>\n",
       "      <td>...</td>\n",
       "      <td>...</td>\n",
       "      <td>...</td>\n",
       "      <td>...</td>\n",
       "      <td>...</td>\n",
       "      <td>...</td>\n",
       "      <td>...</td>\n",
       "    </tr>\n",
       "    <tr>\n",
       "      <th>402</th>\n",
       "      <td>Ford Mustang GL</td>\n",
       "      <td>27.0</td>\n",
       "      <td>4</td>\n",
       "      <td>140.0</td>\n",
       "      <td>86</td>\n",
       "      <td>2790</td>\n",
       "      <td>15.6</td>\n",
       "      <td>US</td>\n",
       "      <td>0.030824</td>\n",
       "      <td>8.711651</td>\n",
       "    </tr>\n",
       "    <tr>\n",
       "      <th>403</th>\n",
       "      <td>Volkswagen Pickup</td>\n",
       "      <td>44.0</td>\n",
       "      <td>4</td>\n",
       "      <td>97.0</td>\n",
       "      <td>52</td>\n",
       "      <td>2130</td>\n",
       "      <td>24.6</td>\n",
       "      <td>Europe</td>\n",
       "      <td>0.024413</td>\n",
       "      <td>5.345786</td>\n",
       "    </tr>\n",
       "    <tr>\n",
       "      <th>404</th>\n",
       "      <td>Dodge Rampage</td>\n",
       "      <td>32.0</td>\n",
       "      <td>4</td>\n",
       "      <td>135.0</td>\n",
       "      <td>84</td>\n",
       "      <td>2295</td>\n",
       "      <td>11.6</td>\n",
       "      <td>US</td>\n",
       "      <td>0.036601</td>\n",
       "      <td>7.350456</td>\n",
       "    </tr>\n",
       "    <tr>\n",
       "      <th>405</th>\n",
       "      <td>Ford Ranger</td>\n",
       "      <td>28.0</td>\n",
       "      <td>4</td>\n",
       "      <td>120.0</td>\n",
       "      <td>79</td>\n",
       "      <td>2625</td>\n",
       "      <td>18.6</td>\n",
       "      <td>US</td>\n",
       "      <td>0.030095</td>\n",
       "      <td>8.400521</td>\n",
       "    </tr>\n",
       "    <tr>\n",
       "      <th>406</th>\n",
       "      <td>Chevy S-10</td>\n",
       "      <td>31.0</td>\n",
       "      <td>4</td>\n",
       "      <td>119.0</td>\n",
       "      <td>82</td>\n",
       "      <td>2720</td>\n",
       "      <td>19.4</td>\n",
       "      <td>US</td>\n",
       "      <td>0.030147</td>\n",
       "      <td>7.587567</td>\n",
       "    </tr>\n",
       "  </tbody>\n",
       "</table>\n",
       "<p>406 rows × 10 columns</p>\n",
       "</div>"
      ],
      "text/plain": [
       "                          Name   MPG  Cylinders  Displacement  Horsepower  \\\n",
       "1    Chevrolet Chevelle Malibu  18.0          8         307.0         130   \n",
       "2            Buick Skylark 320  15.0          8         350.0         165   \n",
       "3           Plymouth Satellite  18.0          8         318.0         150   \n",
       "4                AMC Rebel SST  16.0          8         304.0         150   \n",
       "5                  Ford Torino  17.0          8         302.0         140   \n",
       "..                         ...   ...        ...           ...         ...   \n",
       "402            Ford Mustang GL  27.0          4         140.0          86   \n",
       "403          Volkswagen Pickup  44.0          4          97.0          52   \n",
       "404              Dodge Rampage  32.0          4         135.0          84   \n",
       "405                Ford Ranger  28.0          4         120.0          79   \n",
       "406                 Chevy S-10  31.0          4         119.0          82   \n",
       "\n",
       "     Weight  Acceleration  Origin  PW_ratio      L/100  \n",
       "1      3504          12.0      US  0.037100  13.067477  \n",
       "2      3693          11.5      US  0.044679  15.680972  \n",
       "3      3436          11.0      US  0.043655  13.067477  \n",
       "4      3433          12.0      US  0.043694  14.700911  \n",
       "5      3449          10.5      US  0.040591  13.836152  \n",
       "..      ...           ...     ...       ...        ...  \n",
       "402    2790          15.6      US  0.030824   8.711651  \n",
       "403    2130          24.6  Europe  0.024413   5.345786  \n",
       "404    2295          11.6      US  0.036601   7.350456  \n",
       "405    2625          18.6      US  0.030095   8.400521  \n",
       "406    2720          19.4      US  0.030147   7.587567  \n",
       "\n",
       "[406 rows x 10 columns]"
      ]
     },
     "execution_count": 49,
     "metadata": {},
     "output_type": "execute_result"
    }
   ],
   "source": [
    "cars"
   ]
  },
  {
   "cell_type": "markdown",
   "metadata": {},
   "source": [
    "## Optimizing Dataframe Memory Footprint\n",
    "\n",
    "The DataFrame.info() method returns an estimate for the amount of memory a dataframe consumes."
   ]
  },
  {
   "cell_type": "code",
   "execution_count": 50,
   "metadata": {},
   "outputs": [
    {
     "name": "stdout",
     "output_type": "stream",
     "text": [
      "<class 'pandas.core.frame.DataFrame'>\n",
      "RangeIndex: 34558 entries, 0 to 34557\n",
      "Data columns (total 27 columns):\n",
      " #   Column                  Non-Null Count  Dtype  \n",
      "---  ------                  --------------  -----  \n",
      " 0   ExhibitionID            34129 non-null  float64\n",
      " 1   ExhibitionNumber        34558 non-null  object \n",
      " 2   ExhibitionTitle         34558 non-null  object \n",
      " 3   ExhibitionCitationDate  34557 non-null  object \n",
      " 4   ExhibitionBeginDate     34558 non-null  object \n",
      " 5   ExhibitionEndDate       33354 non-null  object \n",
      " 6   ExhibitionSortOrder     34558 non-null  float64\n",
      " 7   ExhibitionURL           34125 non-null  object \n",
      " 8   ExhibitionRole          34424 non-null  object \n",
      " 9   ConstituentID           34044 non-null  float64\n",
      " 10  ConstituentType         34424 non-null  object \n",
      " 11  DisplayName             34424 non-null  object \n",
      " 12  AlphaSort               34424 non-null  object \n",
      " 13  FirstName               31499 non-null  object \n",
      " 14  MiddleName              3804 non-null   object \n",
      " 15  LastName                31998 non-null  object \n",
      " 16  Suffix                  157 non-null    object \n",
      " 17  Institution             2458 non-null   object \n",
      " 18  Nationality             26072 non-null  object \n",
      " 19  ConstituentBeginDate    25290 non-null  float64\n",
      " 20  ConstituentEndDate      19819 non-null  float64\n",
      " 21  ArtistBio               26089 non-null  object \n",
      " 22  Gender                  25796 non-null  object \n",
      " 23  VIAFID                  26996 non-null  float64\n",
      " 24  WikidataID              22241 non-null  object \n",
      " 25  ULANID                  21688 non-null  float64\n",
      " 26  ConstituentURL          34044 non-null  object \n",
      "dtypes: float64(7), object(20)\n",
      "memory usage: 7.1+ MB\n"
     ]
    }
   ],
   "source": [
    "moma = pd.read_csv('data/moma.csv')\n",
    "moma.info()"
   ]
  },
  {
   "cell_type": "markdown",
   "metadata": {},
   "source": [
    "moma dataframe has an estimated memory footprint of 7.1+ megabytes."
   ]
  },
  {
   "cell_type": "markdown",
   "metadata": {},
   "source": [
    "To grasp how pandas calculates this estimate, we first need to understand how pandas represents different types of values. Based on the dataframe summary from the last step, we can tell that the moma dataframe only contains float64 and object columns. Let's examine how pandas represents these values.\n",
    "\n",
    "Under the hood, pandas groups the columns into blocks of values of the same type. Here's a preview of how pandas stores the first seven columns of the moma dataframe:\n",
    "\n",
    "<Img src=\"https://github.com/rhnyewale/Data-Engineering/blob/main/Images/df_memory_rep.jpg?raw=true\">\n",
    "    \n",
    "You'll notice that the blocks don't maintain references to the column names. This is because blocks are optimized for storing the actual values in the dataframe.\n",
    "\n",
    "The **BlockManager class** is responsible for maintaining the mapping between the row and column indexes and the actual blocks. It acts as an API that provides access to the underlying data. Whenever we select, edit, or delete values, the dataframe class interfaces with the BlockManager class to translate our requests to function and method calls.\n",
    "\n",
    "Pandas uses the ObjectBlock class to represent the block containing string columns, and the FloatBlock class to represent the block containing float columns. For blocks representing numeric values like integers and floats, pandas combines the columns and stores them as a NumPy ndarray. Due to this storage scheme, accessing a slice of values is incredibly fast.\n",
    "\n",
    "To observe how the BlockManager organizes the data, we can retrieve the internal BlockManager object from within a dataframe using the **DataFrame._data** private attribute. This will return the column and row axes, as well as the individual Block instance for each unique type in the dataframe."
   ]
  },
  {
   "cell_type": "code",
   "execution_count": 51,
   "metadata": {},
   "outputs": [
    {
     "name": "stdout",
     "output_type": "stream",
     "text": [
      "BlockManager\n",
      "Items: Index(['ExhibitionID', 'ExhibitionNumber', 'ExhibitionTitle',\n",
      "       'ExhibitionCitationDate', 'ExhibitionBeginDate', 'ExhibitionEndDate',\n",
      "       'ExhibitionSortOrder', 'ExhibitionURL', 'ExhibitionRole',\n",
      "       'ConstituentID', 'ConstituentType', 'DisplayName', 'AlphaSort',\n",
      "       'FirstName', 'MiddleName', 'LastName', 'Suffix', 'Institution',\n",
      "       'Nationality', 'ConstituentBeginDate', 'ConstituentEndDate',\n",
      "       'ArtistBio', 'Gender', 'VIAFID', 'WikidataID', 'ULANID',\n",
      "       'ConstituentURL'],\n",
      "      dtype='object')\n",
      "Axis 1: RangeIndex(start=0, stop=34558, step=1)\n",
      "FloatBlock: [0, 6, 9, 19, 20, 23, 25], 7 x 34558, dtype: float64\n",
      "ObjectBlock: [1, 2, 3, 4, 5, 7, 8, 10, 11, 12, 13, 14, 15, 16, 17, 18, 21, 22, 24, 26], 20 x 34558, dtype: object\n"
     ]
    }
   ],
   "source": [
    "print(moma._data)"
   ]
  },
  {
   "cell_type": "markdown",
   "metadata": {},
   "source": [
    "**Float Columns**\n",
    "\n",
    "The float64 type represents floating-point values using 64 bits, or 8 bytes. There are 34,558 rows in the dataframe, which means that each float64 column in our dataframe uses 276,464 bytes of memory (34558 rows times 8 bytes).\n",
    "\n",
    "Under the hood, pandas represents numeric values as NumPy ndarrays, and stores them in a contiguous block of memory. This storage model consumes less space and allows us to access the values themselves quickly. Because pandas represents each value of the same type using the same number of bytes, and a NumPy ndarray stores the number of values, pandas can return the number of bytes a numeric column consumes quickly and accurately.\n",
    "\n",
    "We can retrieve the amount of memory the values in a column consume using the **Series.nbytes** attribute.\n",
    "\n",
    "**Object Columns**\n",
    "\n",
    "The object type represents most non-numeric data, like string values. It represents each value using Python string objects, partly due to the lack of support for missing string values in NumPy. Because Python is a high-level, interpreted language, it doesn't have fine grained-control over how values in memory are stored.\n",
    "\n",
    "This limitation causes Python to store a list of strings in a fragmented way that consumes more memory and is slower to access. Each element in a Python list is really a pointer that contains the \"address\" for the actual value's location in memory. Here's a diagram that visualizes the difference between how NumPy and Python store an array of values:\n",
    "\n",
    "<Img src=\"https://github.com/rhnyewale/Data-Engineering/blob/main/Images/Array_list_rep.jpg?raw=true\">\n",
    "    \n",
    "**How pandas Estimates the Dataframe Memory Footprint**\n",
    "\n",
    "Because the NumPy array stores its own dimensions underneath and all of the values in a NumPy array have the same type, pandas can accurately calculate the memory footprint of numeric columns without having to look up each value.\n",
    "\n",
    "For object type columns, however, pandas only knows that each value consumes at least 8 bytes (for just the pointer) without manually inspecting the linked value. This means that pandas represents each value in a float64 column and an object column using 8 bytes of memory.\n",
    "\n",
    "If you recall, a kilobyte is equivalent to 1,024 bytes (2^10), and a megabyte is equivalent to 1,048,576 bytes (2^20). With this in mind, we can calculate the estimated shallow memory footprint that the DataFrame.info() method returned."
   ]
  },
  {
   "cell_type": "code",
   "execution_count": 52,
   "metadata": {},
   "outputs": [
    {
     "name": "stdout",
     "output_type": "stream",
     "text": [
      "933066\n"
     ]
    }
   ],
   "source": [
    "print(moma.size)"
   ]
  },
  {
   "cell_type": "code",
   "execution_count": 53,
   "metadata": {},
   "outputs": [
    {
     "name": "stdout",
     "output_type": "stream",
     "text": [
      "7.1187286376953125\n"
     ]
    }
   ],
   "source": [
    "num_entries = moma.size\n",
    "total_bytes = num_entries*8\n",
    "total_megabytes = total_bytes/1048576\n",
    "\n",
    "print(total_megabytes)"
   ]
  },
  {
   "cell_type": "markdown",
   "metadata": {},
   "source": [
    "The original memory footprint pandas returned was 7.1+ MB, which matches our result of 7.118 megabytes from the last step. To force pandas to inspect the memory for each linked string value and return the true memory footprint, we need to set the memory_usage parameter to \"deep\" when calling DataFrame.info()."
   ]
  },
  {
   "cell_type": "code",
   "execution_count": 54,
   "metadata": {},
   "outputs": [
    {
     "name": "stdout",
     "output_type": "stream",
     "text": [
      "<class 'pandas.core.frame.DataFrame'>\n",
      "RangeIndex: 34558 entries, 0 to 34557\n",
      "Data columns (total 27 columns):\n",
      " #   Column                  Non-Null Count  Dtype  \n",
      "---  ------                  --------------  -----  \n",
      " 0   ExhibitionID            34129 non-null  float64\n",
      " 1   ExhibitionNumber        34558 non-null  object \n",
      " 2   ExhibitionTitle         34558 non-null  object \n",
      " 3   ExhibitionCitationDate  34557 non-null  object \n",
      " 4   ExhibitionBeginDate     34558 non-null  object \n",
      " 5   ExhibitionEndDate       33354 non-null  object \n",
      " 6   ExhibitionSortOrder     34558 non-null  float64\n",
      " 7   ExhibitionURL           34125 non-null  object \n",
      " 8   ExhibitionRole          34424 non-null  object \n",
      " 9   ConstituentID           34044 non-null  float64\n",
      " 10  ConstituentType         34424 non-null  object \n",
      " 11  DisplayName             34424 non-null  object \n",
      " 12  AlphaSort               34424 non-null  object \n",
      " 13  FirstName               31499 non-null  object \n",
      " 14  MiddleName              3804 non-null   object \n",
      " 15  LastName                31998 non-null  object \n",
      " 16  Suffix                  157 non-null    object \n",
      " 17  Institution             2458 non-null   object \n",
      " 18  Nationality             26072 non-null  object \n",
      " 19  ConstituentBeginDate    25290 non-null  float64\n",
      " 20  ConstituentEndDate      19819 non-null  float64\n",
      " 21  ArtistBio               26089 non-null  object \n",
      " 22  Gender                  25796 non-null  object \n",
      " 23  VIAFID                  26996 non-null  float64\n",
      " 24  WikidataID              22241 non-null  object \n",
      " 25  ULANID                  21688 non-null  float64\n",
      " 26  ConstituentURL          34044 non-null  object \n",
      "dtypes: float64(7), object(20)\n",
      "memory usage: 45.6 MB\n",
      "None\n"
     ]
    }
   ],
   "source": [
    "print(moma.info(memory_usage=\"deep\"))"
   ]
  },
  {
   "cell_type": "markdown",
   "metadata": {},
   "source": [
    "The true memory footprint of our dataframe is 45.6 megabytes. This means that we'll require about 38.5 megabytes to store the actual Python strings for the object columns (45.6 - 7.1)"
   ]
  },
  {
   "cell_type": "markdown",
   "metadata": {},
   "source": [
    "Let's calculate the amount of memory just the object columns are consuming (both the pointers as well as the actual linked string values).\n",
    "\n",
    "We can use the **DataFrame.memory_usage()** method to return the amount of memory each column consumes. We need to set the **deep** parameter to **True** to display the deep memory footprint of each column:"
   ]
  },
  {
   "cell_type": "code",
   "execution_count": 55,
   "metadata": {},
   "outputs": [
    {
     "name": "stdout",
     "output_type": "stream",
     "text": [
      "Index                         128\n",
      "ExhibitionID               276464\n",
      "ExhibitionNumber          2085250\n",
      "ExhibitionTitle           3333695\n",
      "ExhibitionCitationDate    3577728\n",
      "ExhibitionBeginDate       2281851\n",
      "ExhibitionEndDate         2234872\n",
      "ExhibitionSortOrder        276464\n",
      "ExhibitionURL             3494606\n",
      "ExhibitionRole            2179383\n",
      "ConstituentID              276464\n",
      "ConstituentType           2313112\n",
      "DisplayName               2548428\n",
      "AlphaSort                 2534329\n",
      "FirstName                 2104909\n",
      "MiddleName                1218917\n",
      "LastName                  2162937\n",
      "Suffix                    1110333\n",
      "Institution               1221368\n",
      "Nationality               1949664\n",
      "ConstituentBeginDate       276464\n",
      "ConstituentEndDate         276464\n",
      "ArtistBio                 3183300\n",
      "Gender                    1858994\n",
      "VIAFID                     276464\n",
      "WikidataID                1821293\n",
      "ULANID                     276464\n",
      "ConstituentURL            2677922\n",
      "dtype: int64\n"
     ]
    }
   ],
   "source": [
    "print(moma.memory_usage(deep=True))"
   ]
  },
  {
   "cell_type": "markdown",
   "metadata": {},
   "source": [
    "If we want to get a dataframe containing only the columns with the object datatype (in this case, the Gender column), we can use the **DataFrame.select_dtypes() method**"
   ]
  },
  {
   "cell_type": "code",
   "execution_count": 56,
   "metadata": {},
   "outputs": [
    {
     "name": "stdout",
     "output_type": "stream",
     "text": [
      "      ExhibitionNumber                              ExhibitionTitle  \\\n",
      "0                    1           Cézanne, Gauguin, Seurat, Van Gogh   \n",
      "1                    1           Cézanne, Gauguin, Seurat, Van Gogh   \n",
      "2                    1           Cézanne, Gauguin, Seurat, Van Gogh   \n",
      "3                    1           Cézanne, Gauguin, Seurat, Van Gogh   \n",
      "4                    1           Cézanne, Gauguin, Seurat, Van Gogh   \n",
      "...                ...                                          ...   \n",
      "34553             1536  Recent Japanese Posters from the Collection   \n",
      "34554             1536  Recent Japanese Posters from the Collection   \n",
      "34555             1536  Recent Japanese Posters from the Collection   \n",
      "34556             1536  Recent Japanese Posters from the Collection   \n",
      "34557             1537                Directed by Vincente Minnelli   \n",
      "\n",
      "                                  ExhibitionCitationDate ExhibitionBeginDate  \\\n",
      "0            [MoMA Exh. #1, November 7-December 7, 1929]           11/7/1929   \n",
      "1            [MoMA Exh. #1, November 7-December 7, 1929]           11/7/1929   \n",
      "2            [MoMA Exh. #1, November 7-December 7, 1929]           11/7/1929   \n",
      "3            [MoMA Exh. #1, November 7-December 7, 1929]           11/7/1929   \n",
      "4            [MoMA Exh. #1, November 7-December 7, 1929]           11/7/1929   \n",
      "...                                                  ...                 ...   \n",
      "34553  [MoMA Exh. #1536, December 9, 1989-April 16, 1...           12/9/1989   \n",
      "34554  [MoMA Exh. #1536, December 9, 1989-April 16, 1...           12/9/1989   \n",
      "34555  [MoMA Exh. #1536, December 9, 1989-April 16, 1...           12/9/1989   \n",
      "34556  [MoMA Exh. #1536, December 9, 1989-April 16, 1...           12/9/1989   \n",
      "34557  [MoMA Exh. #1537, December 15, 1989-January 28...          12/15/1989   \n",
      "\n",
      "      ExhibitionEndDate                                  ExhibitionURL  \\\n",
      "0             12/7/1929  http://www.moma.org/calendar/exhibitions/1767   \n",
      "1             12/7/1929  http://www.moma.org/calendar/exhibitions/1767   \n",
      "2             12/7/1929  http://www.moma.org/calendar/exhibitions/1767   \n",
      "3             12/7/1929  http://www.moma.org/calendar/exhibitions/1767   \n",
      "4             12/7/1929  http://www.moma.org/calendar/exhibitions/1767   \n",
      "...                 ...                                            ...   \n",
      "34553         4/16/1990  http://www.moma.org/calendar/exhibitions/1739   \n",
      "34554         4/16/1990  http://www.moma.org/calendar/exhibitions/1739   \n",
      "34555         4/16/1990  http://www.moma.org/calendar/exhibitions/1739   \n",
      "34556         4/16/1990  http://www.moma.org/calendar/exhibitions/1739   \n",
      "34557         1/28/1990  http://www.moma.org/calendar/exhibitions/2118   \n",
      "\n",
      "      ExhibitionRole ConstituentType            DisplayName  \\\n",
      "0           Director      Individual    Alfred H. Barr, Jr.   \n",
      "1             Artist      Individual           Paul Cézanne   \n",
      "2             Artist      Individual           Paul Gauguin   \n",
      "3             Artist      Individual       Vincent van Gogh   \n",
      "4             Artist      Individual  Georges-Pierre Seurat   \n",
      "...              ...             ...                    ...   \n",
      "34553         Artist      Individual          Aijiro Wakita   \n",
      "34554         Artist      Individual          Yoji Yamamoto   \n",
      "34555         Artist      Individual      Ryuichi Yamashiro   \n",
      "34556         Artist      Individual         Tadanori Yokoo   \n",
      "34557      Organizer      Individual           Mary Corliss   \n",
      "\n",
      "                   AlphaSort       FirstName MiddleName   LastName Suffix  \\\n",
      "0         Barr Alfred H. Jr.          Alfred         H.       Barr    Jr.   \n",
      "1               Cézanne Paul            Paul        NaN    Cézanne    NaN   \n",
      "2               Gauguin Paul            Paul        NaN    Gauguin    NaN   \n",
      "3           Gogh Vincent van         Vincent        NaN   van Gogh    NaN   \n",
      "4      Seurat Georges-Pierre  Georges-Pierre        NaN     Seurat    NaN   \n",
      "...                      ...             ...        ...        ...    ...   \n",
      "34553          Wakita Aijiro          Aijiro        NaN     Wakita    NaN   \n",
      "34554          Yamamoto Yoji            Yoji        NaN   Yamamoto    NaN   \n",
      "34555      Yamashiro Ryuichi         Ryuichi        NaN  Yamashiro    NaN   \n",
      "34556         Yokoo Tadanori        Tadanori        NaN      Yokoo    NaN   \n",
      "34557           Corliss Mary            Mary        NaN    Corliss    NaN   \n",
      "\n",
      "      Institution Nationality            ArtistBio Gender WikidataID  \\\n",
      "0             NaN    American  American, 1902–1981   Male    Q711362   \n",
      "1             NaN      French    French, 1839–1906   Male     Q35548   \n",
      "2             NaN      French    French, 1848–1903   Male     Q37693   \n",
      "3             NaN       Dutch     Dutch, 1853–1890   Male      Q5582   \n",
      "4             NaN      French    French, 1859–1891   Male     Q34013   \n",
      "...           ...         ...                  ...    ...        ...   \n",
      "34553         NaN    Japanese  Japanese, born 1942   Male        NaN   \n",
      "34554         NaN    Japanese  Japanese, born 1943   Male        NaN   \n",
      "34555         NaN    Japanese  Japanese, born 1920   Male   Q2178400   \n",
      "34556         NaN    Japanese  Japanese, born 1936   Male   Q3513688   \n",
      "34557         NaN         NaN                  NaN    NaN        NaN   \n",
      "\n",
      "               ConstituentURL  \n",
      "0       moma.org/artists/9168  \n",
      "1       moma.org/artists/1053  \n",
      "2       moma.org/artists/2098  \n",
      "3       moma.org/artists/2206  \n",
      "4       moma.org/artists/5358  \n",
      "...                       ...  \n",
      "34553   moma.org/artists/6215  \n",
      "34554   moma.org/artists/6486  \n",
      "34555   moma.org/artists/6487  \n",
      "34556   moma.org/artists/6502  \n",
      "34557  moma.org/artists/25529  \n",
      "\n",
      "[34558 rows x 20 columns]\n"
     ]
    }
   ],
   "source": [
    "obj_cols = moma.select_dtypes(include=['object'])\n",
    "print(obj_cols)"
   ]
  },
  {
   "cell_type": "code",
   "execution_count": 57,
   "metadata": {},
   "outputs": [
    {
     "name": "stdout",
     "output_type": "stream",
     "text": [
      "43.76699352264404\n"
     ]
    }
   ],
   "source": [
    "obj_cols = moma.select_dtypes(include=['object'])\n",
    "obj_cols_mem = obj_cols.memory_usage(deep=True)\n",
    "obj_cols_sum = obj_cols_mem.sum() / 1048576\n",
    "print(obj_cols_sum)"
   ]
  },
  {
   "cell_type": "markdown",
   "metadata": {},
   "source": [
    "Pandas uses 43.8 megabytes of the total 45.6 megabytes to represent the object columns. This means that we can achieve the greatest memory savings by converting object columns to numeric ones. However, we'll start by learning how to optimize the numeric datatypes.\n",
    "\n",
    "Now that we understand how pandas represents two common data types in memory, let's learn more about the other types in pandas, their subtypes, and other ways we can reduce a dataframe's memory footprint.\n",
    "\n",
    "Similarly to NumPy, many types in pandas have multiple subtypes that can use fewer bytes to represent each value. For example, the float type has the float16, float32, float64, and float128 subtypes. The number portion of a type's name indicates the number of bits that type uses to represent values. For example, the subtypes we just listed use 2, 4, 8 and 16 bytes, respectively. The following table shows the subtypes for the most common pandas types:\n",
    "\n"
   ]
  },
  {
   "cell_type": "code",
   "execution_count": null,
   "metadata": {},
   "outputs": [],
   "source": []
  }
 ],
 "metadata": {
  "kernelspec": {
   "display_name": "Python 3",
   "language": "python",
   "name": "python3"
  },
  "language_info": {
   "codemirror_mode": {
    "name": "ipython",
    "version": 3
   },
   "file_extension": ".py",
   "mimetype": "text/x-python",
   "name": "python",
   "nbconvert_exporter": "python",
   "pygments_lexer": "ipython3",
   "version": "3.7.6"
  },
  "toc": {
   "base_numbering": 1,
   "nav_menu": {},
   "number_sections": true,
   "sideBar": true,
   "skip_h1_title": false,
   "title_cell": "Table of Contents",
   "title_sidebar": "Contents",
   "toc_cell": false,
   "toc_position": {},
   "toc_section_display": true,
   "toc_window_display": false
  }
 },
 "nbformat": 4,
 "nbformat_minor": 4
}
