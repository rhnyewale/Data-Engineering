{
 "cells": [
  {
   "cell_type": "markdown",
   "metadata": {},
   "source": [
    "In the Working with Strings in Python mission, we worked with simple dates: the year in which an artist produced each piece of art as well as that artist's year of birth and death. These year values were represented as integers, which made them easy to work with. Unfortunately, working with date/time data is often a lot more complex:\n",
    "\n",
    "* Where you have a compound date format, like January 1, 1901, separating each component value and converting it to its numeric form is cumbersome.\n",
    "* There are many different formats, e.g. 12-hour time versus 24-hour time.\n",
    "* Adding and subtracting across date/time boundaries isn't easy — for instance, if I wanted to add 1 hour 35 minutes to the time 32 minutes, we need to account for the fact that there are 60 minutes in an hour to be able to come up with the correct answer, 2 hours 7 minutes.\n",
    "\n",
    "\n",
    "Luckily, Python comes with functionality that makes working with dates and times easier\n",
    "\n",
    "Python has three standard modules that are designed to help working with dates and times:\n",
    "\n",
    "* The calendar module\n",
    "* The time module\n",
    "* The datetime module\n",
    "\n",
    "The datetime module contains a number of classes, including:\n",
    "\n",
    "* datetime.datetime: For working with date and time data.\n",
    "* datetime.time: For working with time data only.\n",
    "* datetime.timedelta: For representing time periods."
   ]
  },
  {
   "cell_type": "markdown",
   "metadata": {},
   "source": [
    "# Data Structures \n",
    "\n",
    "A data structure makes it possible to store data. Each data structure provides a set of operations that can be performed on the data. At its most basic, a data structure should allow a user to add and retrieve data.\n",
    "\n",
    "* Lists\n",
    "* Stacks\n",
    "* Queues\n",
    "* Dictionaries\n"
   ]
  },
  {
   "cell_type": "markdown",
   "metadata": {},
   "source": [
    "# Linked List\n",
    "\n",
    "We call these fundamental data structures because they exist in most programming languages and it's hard to write any program without using at least one of these. The reason why there are so many data structures is that each of them is specific to certain types of data manipulation.\n",
    "\n",
    "We implement all of these data structures using classes.\n",
    "\n",
    "Internally, Python lists are implemented in the C programming language using arrays. An array is a fixed-length chunk of memory that allows you to access each position in constant time. So the list [5, 3, 8] will be stored in an array where the first value is 5, the second is 3 and the third is 8.\n",
    "\n",
    "We're going to implement lists using a linked structure. This means that the list [5, 3, 8] will be stored using three objects. Each of these objects will store the value plus references (links) to the neighboring elements.\n",
    "\n",
    "The following figure shows the array structure and the linked structure of list [5, 3, 8] side-by-side:\n",
    "\n",
    "<Img src=\"https://github.com/rhnyewale/Data-Engineering/blob/main/Images/linked_list_1.JPG?raw=true\">\n",
    "\n",
    "When using a linked structure, we cannot access elements by index because, unlike arrays, the objects storing the values are not locating in consecutive memory positions. For example, to reach the third element in the linked structure, we need to start at 5 and follow the links from 5 to 3 and then from 3 to 8. Because of its linked structure, we call this data structure a linked list.\n",
    "\n",
    "To build a linked structure, we use an auxiliary class commonly called a node. Our nodes will keep track of three pieces of information:\n",
    "\n",
    "* The data\n",
    "* The previous node\n",
    "* The next node\n",
    "\n",
    "<Img src=\"https://github.com/rhnyewale/Data-Engineering/blob/main/Images/linked_list_2.JPG?raw=true\">\n",
    "\n",
    "\n",
    "For example, using this representation, we can display the linked list representation of list [5, 3, 8] as follows:\n",
    "\n",
    "\n",
    "<Img src=\"https://github.com/rhnyewale/Data-Engineering/blob/main/Images/linked_list_3.JPG?raw=true\">\n",
    "    \n",
    "Note that the first node doesn't have a previous node and that the last node does not have a next node. We will use the value None in these situations.\n",
    "    \n"
   ]
  },
  {
   "cell_type": "code",
   "execution_count": 1,
   "metadata": {},
   "outputs": [],
   "source": [
    "class Node:\n",
    "    def __init__(self,data):\n",
    "        self.data = data\n",
    "        self.prev = None\n",
    "        self.next = None\n",
    "    \n",
    "node = Node(42)"
   ]
  },
  {
   "cell_type": "markdown",
   "metadata": {},
   "source": [
    "We implemented a class to represent nodes in a linked list. You can use an individual node to store one list element via its *Node.data* attribute. Using the *Node.next* attribute, you can link nodes together to form a list.\n",
    "\n",
    "The *Node.prev* attribute will store the predecessor of each node. We call a linked list with predecessor links a doubly linked list. This isn't strictly necessary to implement a linked list. We'll see in the next two missions that having predecessor links is very convenient.\n",
    "\n",
    "We will implement the linked list in a class named *LinkedList*. This class will use the *Node* class to chain the data together into a list-like structure. We commonly call the first node of a linked list the **head** and the last node of a list the **tail**.\n",
    "\n",
    "On the list [5, 3, 8] the head is the node containing 5, and the tail is the node that contains 8:\n",
    "\n",
    "To implement list operations in constant time, the LinkedList class will keep track of three attributes:\n",
    "\n",
    "* The length of the list\n",
    "* The head node\n",
    "* The tail node\n",
    "\n",
    "\n",
    "Let's start by declaring the LinkedList class and its constructor (the _init__() method). A new list is initially empty. This means that the head and tail nodes don't exist yet. To represent that the node doesn't exist, we use the **None** value.\n",
    "\n",
    "In practice, the constructor should initialize the length to 0 and both the head and tail nodes to None."
   ]
  },
  {
   "cell_type": "code",
   "execution_count": 2,
   "metadata": {},
   "outputs": [],
   "source": [
    "class LinkedList:\n",
    "    def __init__(self):\n",
    "        self.head = None\n",
    "        self.tail = None\n",
    "        self.length = 0\n",
    "        \n",
    "lst = LinkedList()"
   ]
  },
  {
   "cell_type": "markdown",
   "metadata": {},
   "source": [
    "We'll start to implement functionality into our linked list. More specifically, we are going to implement a method to append a new value to the list.\n",
    "\n",
    "Notice that in a list with a single element, both the head and the tail point to the same node:\n",
    "\n",
    "\n",
    "\n",
    "To append a new element on an empty list we do the following:\n",
    "1. Create a node with the provided data\n",
    "2. Set both the head and the tail to the newly created node\n",
    "\n",
    "If the list isn't empty, then the new node should be placed as the next node of the tail\n",
    ". This implies doing the following:\n",
    "4. Setting the next node of the current tail to the newly created node\n",
    "5. Setting the previous node of the newly created node to be the current tail\n",
    "6. Making the newly created node become the new tail\n",
    "\n",
    "<Img src=\"https://github.com/rhnyewale/Data-Engineering/blob/main/Images/Node.gif?raw=true\">\n"
   ]
  },
  {
   "cell_type": "code",
   "execution_count": 3,
   "metadata": {},
   "outputs": [],
   "source": [
    "class node:\n",
    "    def __init__(self, data=None):\n",
    "        self.data = data\n",
    "        self.next = None"
   ]
  },
  {
   "cell_type": "code",
   "execution_count": 27,
   "metadata": {},
   "outputs": [],
   "source": [
    "class LinkedList:\n",
    "    def __init__(self):\n",
    "        self.head = node()\n",
    "        \n",
    "    def append(self,data):\n",
    "        new_node =  node(data)\n",
    "        cur = self.head\n",
    "        while cur.next != None:\n",
    "            cur = cur.next\n",
    "        cur.next = new_node\n",
    "    \n",
    "    def length(self):\n",
    "        cur = self.head\n",
    "        total = 0\n",
    "        while cur.next != None:\n",
    "            total +=1\n",
    "            cur = cur.next\n",
    "        return total\n",
    "    \n",
    "    def display(self):\n",
    "        elems = []\n",
    "        cur_node = self.head\n",
    "        while cur_node.next != None:\n",
    "            cur_node = cur_node.next\n",
    "            elems.append(cur_node.data)\n",
    "        print(elems)    \n",
    "        \n",
    "    def get(self,index):\n",
    "        if index >= self.length():\n",
    "            print (\"Error: Index out of Range\")\n",
    "            return None\n",
    "        cur_idx = 0\n",
    "        cur_node = self.head\n",
    "        while True:\n",
    "            cur_node = cur_node.next\n",
    "            if cur_idx == index: return cur_node.data\n",
    "            cur_idx += 1\n",
    "    def erase(self,index):\n",
    "        if index >= self.length():\n",
    "            print(\"Error: Index out of Range\")\n",
    "            return None\n",
    "        cur_idx = 0\n",
    "        cur_node = self.head\n",
    "        while True:\n",
    "            last_node = cur_node\n",
    "            cur_node = cur_node.next\n",
    "            if cur_idx == index:\n",
    "                last_node.next = cur_node.next\n",
    "                return\n",
    "            cur_idx += 1\n",
    "        \n",
    "        "
   ]
  },
  {
   "cell_type": "code",
   "execution_count": 29,
   "metadata": {},
   "outputs": [],
   "source": [
    "my_list = LinkedList()"
   ]
  },
  {
   "cell_type": "code",
   "execution_count": 30,
   "metadata": {},
   "outputs": [
    {
     "name": "stdout",
     "output_type": "stream",
     "text": [
      "[]\n"
     ]
    }
   ],
   "source": [
    "my_list.display()"
   ]
  },
  {
   "cell_type": "code",
   "execution_count": 31,
   "metadata": {},
   "outputs": [],
   "source": [
    "my_list.append(1)\n",
    "my_list.append(2)"
   ]
  },
  {
   "cell_type": "code",
   "execution_count": 32,
   "metadata": {},
   "outputs": [
    {
     "name": "stdout",
     "output_type": "stream",
     "text": [
      "[1, 2]\n"
     ]
    }
   ],
   "source": [
    "my_list.display()"
   ]
  },
  {
   "cell_type": "code",
   "execution_count": 33,
   "metadata": {},
   "outputs": [],
   "source": [
    "my_list.append(3)\n",
    "my_list.append(4)\n",
    "my_list.append(5)"
   ]
  },
  {
   "cell_type": "code",
   "execution_count": 34,
   "metadata": {},
   "outputs": [
    {
     "name": "stdout",
     "output_type": "stream",
     "text": [
      "[1, 2, 3, 4, 5]\n"
     ]
    }
   ],
   "source": [
    "my_list.display()"
   ]
  },
  {
   "cell_type": "code",
   "execution_count": 35,
   "metadata": {},
   "outputs": [],
   "source": [
    "my_list.erase(3)"
   ]
  },
  {
   "cell_type": "code",
   "execution_count": 36,
   "metadata": {},
   "outputs": [
    {
     "name": "stdout",
     "output_type": "stream",
     "text": [
      "[1, 2, 3, 5]\n"
     ]
    }
   ],
   "source": [
    "my_list.display()"
   ]
  },
  {
   "cell_type": "markdown",
   "metadata": {},
   "source": [
    "We learned how to implement a method to append elements to a list. But this isn't useful if we can't easily access list elements. To access list elements, we're going enable using for loops to iterate over all elements in a list.\n",
    "\n",
    "When implementing a class, for loops aren't automatically available. We need to specify what it means to iterate over the class. In other words, we need to make our class an iterable.\n",
    "\n",
    "For example, with the Person class defined in the first screen, we cannot write for x in person if person is a Person instance. In the same way, we cannot (yet) write for x in lst where lst is a LinkedList instance.\n",
    "\n",
    "We can iterate over our linked list by starting at the head of the list and following the links to the next nodes until we reach the tail. Here's an animation demonstrating this process:"
   ]
  }
 ],
 "metadata": {
  "kernelspec": {
   "display_name": "Python 3",
   "language": "python",
   "name": "python3"
  },
  "language_info": {
   "codemirror_mode": {
    "name": "ipython",
    "version": 3
   },
   "file_extension": ".py",
   "mimetype": "text/x-python",
   "name": "python",
   "nbconvert_exporter": "python",
   "pygments_lexer": "ipython3",
   "version": "3.7.6"
  },
  "toc": {
   "base_numbering": 1,
   "nav_menu": {},
   "number_sections": true,
   "sideBar": true,
   "skip_h1_title": false,
   "title_cell": "Table of Contents",
   "title_sidebar": "Contents",
   "toc_cell": false,
   "toc_position": {},
   "toc_section_display": true,
   "toc_window_display": false
  }
 },
 "nbformat": 4,
 "nbformat_minor": 4
}
