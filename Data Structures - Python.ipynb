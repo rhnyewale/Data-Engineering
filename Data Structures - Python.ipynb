{
 "cells": [
  {
   "cell_type": "markdown",
   "metadata": {},
   "source": [
    "# Data Structures \n",
    "\n",
    "A data structure makes it possible to store data. Each data structure provides a set of operations that can be performed on the data. At its most basic, a data structure should allow a user to add and retrieve data.\n",
    "\n",
    "* Lists\n",
    "* Stacks\n",
    "* Queues\n",
    "* Dictionaries\n"
   ]
  },
  {
   "cell_type": "markdown",
   "metadata": {},
   "source": [
    "# Linked List\n",
    "\n",
    "We call these fundamental data structures because they exist in most programming languages and it's hard to write any program without using at least one of these. The reason why there are so many data structures is that each of them is specific to certain types of data manipulation.\n",
    "\n",
    "We implement all of these data structures using classes.\n",
    "\n",
    "Internally, Python lists are implemented in the C programming language using arrays. An array is a fixed-length chunk of memory that allows you to access each position in constant time. So the list [5, 3, 8] will be stored in an array where the first value is 5, the second is 3 and the third is 8.\n",
    "\n",
    "We're going to implement lists using a linked structure. This means that the list [5, 3, 8] will be stored using three objects. Each of these objects will store the value plus references (links) to the neighboring elements.\n",
    "\n",
    "The following figure shows the array structure and the linked structure of list [5, 3, 8] side-by-side:\n",
    "\n",
    "<Img src=\"https://github.com/rhnyewale/Data-Engineering/blob/main/Images/linked_list_1.JPG?raw=true\">\n",
    "\n",
    "When using a linked structure, we cannot access elements by index because, unlike arrays, the objects storing the values are not locating in consecutive memory positions. For example, to reach the third element in the linked structure, we need to start at 5 and follow the links from 5 to 3 and then from 3 to 8. Because of its linked structure, we call this data structure a linked list.\n",
    "\n",
    "To build a linked structure, we use an auxiliary class commonly called a node. Our nodes will keep track of three pieces of information:\n",
    "\n",
    "* The data\n",
    "* The previous node\n",
    "* The next node\n",
    "\n",
    "<Img src=\"https://github.com/rhnyewale/Data-Engineering/blob/main/Images/linked_list_2.JPG?raw=true\">\n",
    "\n",
    "\n",
    "For example, using this representation, we can display the linked list representation of list [5, 3, 8] as follows:\n",
    "\n",
    "\n",
    "<Img src=\"https://github.com/rhnyewale/Data-Engineering/blob/main/Images/linked_list_3.JPG?raw=true\">\n",
    "    \n",
    "Note that the first node doesn't have a previous node and that the last node does not have a next node. We will use the value None in these situations.\n",
    "    \n"
   ]
  },
  {
   "cell_type": "code",
   "execution_count": 4,
   "metadata": {},
   "outputs": [],
   "source": [
    "class Node:\n",
    "    def __init__(self,data):\n",
    "        self.data = data\n",
    "        self.prev = None\n",
    "        self.next = None\n",
    "    \n",
    "node = Node(42)"
   ]
  },
  {
   "cell_type": "markdown",
   "metadata": {},
   "source": [
    "We implemented a class to represent nodes in a linked list. You can use an individual node to store one list element via its *Node.data* attribute. Using the *Node.next* attribute, you can link nodes together to form a list.\n",
    "\n",
    "The *Node.prev* attribute will store the predecessor of each node. We call a linked list with predecessor links a doubly linked list. This isn't strictly necessary to implement a linked list. We'll see in the next two missions that having predecessor links is very convenient.\n",
    "\n",
    "We will implement the linked list in a class named *LinkedList*. This class will use the *Node* class to chain the data together into a list-like structure. We commonly call the first node of a linked list the **head** and the last node of a list the **tail**.\n",
    "\n",
    "On the list [5, 3, 8] the head is the node containing 5, and the tail is the node that contains 8:\n",
    "\n",
    "To implement list operations in constant time, the LinkedList class will keep track of three attributes:\n",
    "\n",
    "* The length of the list\n",
    "* The head node\n",
    "* The tail node\n",
    "\n",
    "\n",
    "Let's start by declaring the LinkedList class and its constructor (the _init__() method). A new list is initially empty. This means that the head and tail nodes don't exist yet. To represent that the node doesn't exist, we use the **None** value.\n",
    "\n",
    "In practice, the constructor should initialize the length to 0 and both the head and tail nodes to None."
   ]
  },
  {
   "cell_type": "code",
   "execution_count": 2,
   "metadata": {},
   "outputs": [],
   "source": [
    "class LinkedList:\n",
    "    def __init__(self):\n",
    "        self.head = None\n",
    "        self.tail = None\n",
    "        self.length = 0\n",
    "        \n",
    "lst = LinkedList()"
   ]
  },
  {
   "cell_type": "markdown",
   "metadata": {},
   "source": [
    "We'll start to implement functionality into our linked list. More specifically, we are going to implement a method to append a new value to the list.\n",
    "\n",
    "Notice that in a list with a single element, both the head and the tail point to the same node:\n",
    "\n",
    "\n",
    "\n",
    "To append a new element on an empty list we do the following:\n",
    "1. Create a node with the provided data\n",
    "2. Set both the head and the tail to the newly created node\n",
    "\n",
    "If the list isn't empty, then the new node should be placed as the next node of the tail\n",
    ". This implies doing the following:\n",
    "4. Setting the next node of the current tail to the newly created node\n",
    "5. Setting the previous node of the newly created node to be the current tail\n",
    "6. Making the newly created node become the new tail\n",
    "\n",
    "<Img src=\"https://github.com/rhnyewale/Data-Engineering/blob/main/Images/Node.gif?raw=true\">\n"
   ]
  },
  {
   "cell_type": "code",
   "execution_count": 5,
   "metadata": {},
   "outputs": [],
   "source": [
    "class node:\n",
    "    def __init__(self, data=None):\n",
    "        self.data = data\n",
    "        self.next = None"
   ]
  },
  {
   "cell_type": "code",
   "execution_count": 6,
   "metadata": {},
   "outputs": [],
   "source": [
    "class LinkedList:\n",
    "    def __init__(self):\n",
    "        self.head = node()\n",
    "        \n",
    "    def append(self,data):\n",
    "        new_node =  node(data)\n",
    "        cur = self.head\n",
    "        while cur.next != None:\n",
    "            cur = cur.next\n",
    "        cur.next = new_node\n",
    "    \n",
    "    def length(self):\n",
    "        cur = self.head\n",
    "        total = 0\n",
    "        while cur.next != None:\n",
    "            total +=1\n",
    "            cur = cur.next\n",
    "        return total\n",
    "    \n",
    "    def display(self):\n",
    "        elems = []\n",
    "        cur_node = self.head\n",
    "        while cur_node.next != None:\n",
    "            cur_node = cur_node.next\n",
    "            elems.append(cur_node.data)\n",
    "        print(elems)    \n",
    "        \n",
    "    def get(self,index):\n",
    "        if index >= self.length():\n",
    "            print (\"Error: Index out of Range\")\n",
    "            return None\n",
    "        cur_idx = 0\n",
    "        cur_node = self.head\n",
    "        while True:\n",
    "            cur_node = cur_node.next\n",
    "            if cur_idx == index: return cur_node.data\n",
    "            cur_idx += 1\n",
    "    def erase(self,index):\n",
    "        if index >= self.length():\n",
    "            print(\"Error: Index out of Range\")\n",
    "            return None\n",
    "        cur_idx = 0\n",
    "        cur_node = self.head\n",
    "        while True:\n",
    "            last_node = cur_node\n",
    "            cur_node = cur_node.next\n",
    "            if cur_idx == index:\n",
    "                last_node.next = cur_node.next\n",
    "                return\n",
    "            cur_idx += 1\n",
    "        \n",
    "        "
   ]
  },
  {
   "cell_type": "code",
   "execution_count": 7,
   "metadata": {},
   "outputs": [],
   "source": [
    "my_list = LinkedList()"
   ]
  },
  {
   "cell_type": "code",
   "execution_count": 8,
   "metadata": {},
   "outputs": [
    {
     "name": "stdout",
     "output_type": "stream",
     "text": [
      "[]\n"
     ]
    }
   ],
   "source": [
    "my_list.display()"
   ]
  },
  {
   "cell_type": "code",
   "execution_count": 9,
   "metadata": {},
   "outputs": [],
   "source": [
    "my_list.append(1)\n",
    "my_list.append(2)"
   ]
  },
  {
   "cell_type": "code",
   "execution_count": 10,
   "metadata": {},
   "outputs": [
    {
     "name": "stdout",
     "output_type": "stream",
     "text": [
      "[1, 2]\n"
     ]
    }
   ],
   "source": [
    "my_list.display()"
   ]
  },
  {
   "cell_type": "code",
   "execution_count": 11,
   "metadata": {},
   "outputs": [],
   "source": [
    "my_list.append(3)\n",
    "my_list.append(4)\n",
    "my_list.append(5)"
   ]
  },
  {
   "cell_type": "code",
   "execution_count": 12,
   "metadata": {},
   "outputs": [
    {
     "name": "stdout",
     "output_type": "stream",
     "text": [
      "[1, 2, 3, 4, 5]\n"
     ]
    }
   ],
   "source": [
    "my_list.display()"
   ]
  },
  {
   "cell_type": "code",
   "execution_count": 13,
   "metadata": {},
   "outputs": [],
   "source": [
    "my_list.erase(3)"
   ]
  },
  {
   "cell_type": "code",
   "execution_count": 14,
   "metadata": {},
   "outputs": [
    {
     "name": "stdout",
     "output_type": "stream",
     "text": [
      "[1, 2, 3, 5]\n"
     ]
    }
   ],
   "source": [
    "my_list.display()"
   ]
  },
  {
   "cell_type": "code",
   "execution_count": 15,
   "metadata": {},
   "outputs": [],
   "source": [
    "class Node:\n",
    "    def __init__(self,data):\n",
    "        self.data = data\n",
    "        self.prev = None\n",
    "        self.next = None\n",
    "    \n",
    "node = Node(42)"
   ]
  },
  {
   "cell_type": "markdown",
   "metadata": {},
   "source": [
    "**Implementing append method**"
   ]
  },
  {
   "cell_type": "code",
   "execution_count": 17,
   "metadata": {},
   "outputs": [],
   "source": [
    "class LinkedList:\n",
    "    def __init__(self):\n",
    "        self.head = None\n",
    "        self.tail = None\n",
    "        self.length = 0\n",
    "    def append(self,data):\n",
    "        new_node = Node(data)\n",
    "        if self.length == 0:\n",
    "            self.head = self.tail = new_node\n",
    "        else:\n",
    "            self.tail.next = new_node\n",
    "            new_node.prev = self.tail\n",
    "            self.tail = new_node\n",
    "        self.length += 1\n",
    "            \n",
    "        "
   ]
  },
  {
   "cell_type": "code",
   "execution_count": 18,
   "metadata": {},
   "outputs": [],
   "source": [
    "lst = LinkedList()"
   ]
  },
  {
   "cell_type": "code",
   "execution_count": 19,
   "metadata": {},
   "outputs": [
    {
     "name": "stdout",
     "output_type": "stream",
     "text": [
      "1 10 10\n"
     ]
    }
   ],
   "source": [
    "lst.append(10)\n",
    "print(lst.length,lst.head.data,lst.tail.data)"
   ]
  },
  {
   "cell_type": "code",
   "execution_count": 20,
   "metadata": {},
   "outputs": [],
   "source": [
    "lst.append(12)"
   ]
  },
  {
   "cell_type": "code",
   "execution_count": 21,
   "metadata": {},
   "outputs": [
    {
     "name": "stdout",
     "output_type": "stream",
     "text": [
      "2 10 12\n"
     ]
    }
   ],
   "source": [
    "print(lst.length,lst.head.data,lst.tail.data)"
   ]
  },
  {
   "cell_type": "markdown",
   "metadata": {},
   "source": [
    "We implemented a method to append elements to a list. But this isn't useful if we can't easily access list elements. To access list elements, we're going enable using for loops to iterate over all elements in a list.\n",
    "\n",
    "When implementing a class, for loops aren't automatically available. We need to specify what it means to iterate over the class. In other words, we need to make our class an iterable.\n",
    "\n",
    "For example, with the **Person** class defined in the first screen, we cannot write *for x in person* if *person* is a *Person* instance. In the same way, we cannot (yet) write *for x in lst* where lst is a LinkedList instance.\n",
    "\n",
    "<Img src= \"https://github.com/rhnyewale/Data-Engineering/blob/main/Images/iterate_node.gif?raw=true\">\n",
    "    \n",
    "In practice, to enable for loops, we define two methods in our class:\n",
    "\n",
    "1. The _iter__() method: This method should set up all the necessary data to start a new iteration. When making a class iterable in this way, this method should return always return self.\n",
    "\n",
    "2. The _next__() method: This method should return the current iteration element and move on to the next one. It should also notify when the iteration is over.\n"
   ]
  },
  {
   "cell_type": "markdown",
   "metadata": {},
   "source": [
    "Let's focus on the _iter__() method. To keep track of the current iteration node, we will assign this node to an attribute called _iter_node. We chose to use an underscore (_) at the start of the attribute name to signal to users of our class that they should not access it. It should only be used internally. \n",
    "\n",
    "We learned that the _iter__() method is responsible to initialize the iteration. In our case, this means initializing _iter_node to the head of the linked list. Also, as we mentioned, this method should return self. This is because this method needs to return a reference to the object over which we are iterating."
   ]
  },
  {
   "cell_type": "code",
   "execution_count": 22,
   "metadata": {},
   "outputs": [],
   "source": [
    "class LinkedList:\n",
    "    def __init__(self):\n",
    "        self.head = None\n",
    "        self.tail = None\n",
    "        self.length = 0\n",
    "    def append(self,data):\n",
    "        new_node = Node(data)\n",
    "        if self.length == 0:\n",
    "            self.head = self.tail = new_node\n",
    "        else:\n",
    "            self.tail.next = new_node\n",
    "            new_node.prev = self.tail\n",
    "            self.tail = new_node\n",
    "        self.length += 1\n",
    "    def __iter__(self):\n",
    "        self._iter_node = self.head\n",
    "        return self"
   ]
  },
  {
   "cell_type": "markdown",
   "metadata": {},
   "source": [
    "We've started making our linked list into an iterable. An **iterable is an object over which we can iterate using a for loop**"
   ]
  },
  {
   "cell_type": "markdown",
   "metadata": {},
   "source": [
    "<Img src= \"https://github.com/rhnyewale/Data-Engineering/blob/main/Images/iterate_node.gif?raw=true\">\n",
    "    \n",
    "We implemented the __iter__() method, which is responsible for initializing the iteration. We did it by creating an attribute named _iter_node and setting it to the head of the list.\n",
    "    \n",
    "To actually iterate over the list, we need to implement the __next__() method. This method is responsible for:\n",
    "\n",
    "1. Returning the current iteration value. In our case this is the data stored in the node stored in _iter_node.\n",
    "2. Moving the iteration to the next value. In our case this means moving _iter_node to the next node.\n",
    "3. Notifying when the iteration is over. In our case, this happens when we run out of nodes and _iter_node becomes None.\n",
    "    \n",
    "In the example above, the __next__() method should return the value 5 and move _iter_node to the next node, as we see in the following diagram:\n",
    "    \n",
    "<Img src=\"https://github.com/rhnyewale/Data-Engineering/blob/main/Images/iter_next_method.JPG?raw=true\">\n",
    "    \n",
    "Note that since the return statement is the last thing executed in a method, we need to move the _iter_node before returning the value. One way to overcome this is to store the data in the _iter_node before moving it to the next node.\n",
    "    \n",
    "The _next__() method also needs to let Python know when the iteration is over. This is done by raising a **StopIteration exception**. The **iteration ends when the _iter_node becomes None**"
   ]
  },
  {
   "cell_type": "code",
   "execution_count": 23,
   "metadata": {},
   "outputs": [],
   "source": [
    "\n",
    "class LinkedList:\n",
    "    \n",
    "    def __init__(self):\n",
    "        self.head = None\n",
    "        self.tail = None\n",
    "        self.length = 0\n",
    "        \n",
    "    def append(self, data):\n",
    "        new_node = Node(data)\n",
    "        if self.length == 0:\n",
    "            self.head = self.tail = new_node\n",
    "        else:\n",
    "            self.tail.next = new_node\n",
    "            new_node.prev = self.tail\n",
    "            self.tail = new_node\n",
    "        self.length += 1\n",
    "        \n",
    "    def __iter__(self):\n",
    "        self._iter_node = self.head\n",
    "        return self\n",
    "    \n",
    "    \n",
    "    def __next__(self):\n",
    "        if self._iter_node is None:\n",
    "            raise StopIteration\n",
    "        # Rest of the implementation goes here\n",
    "        ret = self._iter_node.data\n",
    "        self._iter_node = self._iter_node.next\n",
    "        return ret\n",
    "    "
   ]
  },
  {
   "cell_type": "code",
   "execution_count": 24,
   "metadata": {},
   "outputs": [
    {
     "name": "stdout",
     "output_type": "stream",
     "text": [
      "5\n",
      "3\n",
      "8\n"
     ]
    }
   ],
   "source": [
    "# Testing the implementation\n",
    "lst = LinkedList()\n",
    "lst.append(5)\n",
    "lst.append(3)\n",
    "lst.append(8)\n",
    "for value in lst:\n",
    "    print(value)"
   ]
  },
  {
   "cell_type": "markdown",
   "metadata": {},
   "source": [
    "We've implemented our first list data structure. We can now add data to our list and iterate over all of the data it contains.\n",
    "\n",
    "When compared to Python lists, this might not seem like much. For example, we can't access an element from its index given its position on the list. We could implement a method to do it, but it would require us to traverse the list making it a O(N) operation, where N is the length of the list. By contrast, Python lists can do this in constant time.\n",
    "\n",
    "However, linked lists have advantages over array-based implementations. For example, we can append values in constant time. In contrast, as we insert elements in a Python list, since the array is a fixed-length data structure, this array needs to grow. Every time this happens, the whole list needs to be recreated. This means that appending to a Python list has O(N) complexity or O(1) amortized complexity.\n",
    "\n",
    "Another thing that we can do with a linked list is to prepend elements in constant time — that is, adding an element to the start of the list. Here's an animation describing the step for doing this:\n",
    "\n"
   ]
  }
 ],
 "metadata": {
  "kernelspec": {
   "display_name": "Python 3",
   "language": "python",
   "name": "python3"
  },
  "language_info": {
   "codemirror_mode": {
    "name": "ipython",
    "version": 3
   },
   "file_extension": ".py",
   "mimetype": "text/x-python",
   "name": "python",
   "nbconvert_exporter": "python",
   "pygments_lexer": "ipython3",
   "version": "3.7.6"
  },
  "toc": {
   "base_numbering": 1,
   "nav_menu": {},
   "number_sections": true,
   "sideBar": true,
   "skip_h1_title": false,
   "title_cell": "Table of Contents",
   "title_sidebar": "Contents",
   "toc_cell": false,
   "toc_position": {},
   "toc_section_display": true,
   "toc_window_display": false
  }
 },
 "nbformat": 4,
 "nbformat_minor": 4
}
