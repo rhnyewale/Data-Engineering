{
 "cells": [
  {
   "cell_type": "markdown",
   "metadata": {},
   "source": [
    "In the Working with Strings in Python mission, we worked with simple dates: the year in which an artist produced each piece of art as well as that artist's year of birth and death. These year values were represented as integers, which made them easy to work with. Unfortunately, working with date/time data is often a lot more complex:\n",
    "\n",
    "* Where you have a compound date format, like January 1, 1901, separating each component value and converting it to its numeric form is cumbersome.\n",
    "* There are many different formats, e.g. 12-hour time versus 24-hour time.\n",
    "* Adding and subtracting across date/time boundaries isn't easy — for instance, if I wanted to add 1 hour 35 minutes to the time 32 minutes, we need to account for the fact that there are 60 minutes in an hour to be able to come up with the correct answer, 2 hours 7 minutes.\n",
    "\n",
    "\n",
    "Luckily, Python comes with functionality that makes working with dates and times easier\n",
    "\n",
    "Python has three standard modules that are designed to help working with dates and times:\n",
    "\n",
    "* The calendar module\n",
    "* The time module\n",
    "* The datetime module\n",
    "\n",
    "The datetime module contains a number of classes, including:\n",
    "\n",
    "* datetime.datetime: For working with date and time data.\n",
    "* datetime.time: For working with time data only.\n",
    "* datetime.timedelta: For representing time periods."
   ]
  },
  {
   "cell_type": "markdown",
   "metadata": {},
   "source": [
    "# Data Structures \n",
    "\n",
    "A data structure makes it possible to store data. Each data structure provides a set of operations that can be performed on the data. At its most basic, a data structure should allow a user to add and retrieve data.\n",
    "\n",
    "* Lists\n",
    "* Stacks\n",
    "* Queues\n",
    "* Dictionaries\n"
   ]
  },
  {
   "cell_type": "markdown",
   "metadata": {},
   "source": [
    "# Linked List\n",
    "\n",
    "We call these fundamental data structures because they exist in most programming languages and it's hard to write any program without using at least one of these. The reason why there are so many data structures is that each of them is specific to certain types of data manipulation.\n",
    "\n",
    "We implement all of these data structures using classes.\n",
    "\n",
    "Internally, Python lists are implemented in the C programming language using arrays. An array is a fixed-length chunk of memory that allows you to access each position in constant time. So the list [5, 3, 8] will be stored in an array where the first value is 5, the second is 3 and the third is 8.\n",
    "\n",
    "We're going to implement lists using a linked structure. This means that the list [5, 3, 8] will be stored using three objects. Each of these objects will store the value plus references (links) to the neighboring elements.\n",
    "\n",
    "The following figure shows the array structure and the linked structure of list [5, 3, 8] side-by-side:\n",
    "\n",
    "\n",
    "\n",
    "\n",
    "When using a linked structure, we cannot access elements by index because, unlike arrays, the objects storing the values are not locating in consecutive memory positions. For example, to reach the third element in the linked structure, we need to start at 5 and follow the links from 5 to 3 and then from 3 to 8. Because of its linked structure, we call this data structure a linked list.\n",
    "\n",
    "To build a linked structure, we use an auxiliary class commonly called a node. Our nodes will keep track of three pieces of information:\n",
    "\n",
    "* The data\n",
    "* The previous node\n",
    "* The next node\n",
    "\n"
   ]
  },
  {
   "cell_type": "code",
   "execution_count": null,
   "metadata": {},
   "outputs": [],
   "source": []
  }
 ],
 "metadata": {
  "kernelspec": {
   "display_name": "Python 3",
   "language": "python",
   "name": "python3"
  },
  "language_info": {
   "codemirror_mode": {
    "name": "ipython",
    "version": 3
   },
   "file_extension": ".py",
   "mimetype": "text/x-python",
   "name": "python",
   "nbconvert_exporter": "python",
   "pygments_lexer": "ipython3",
   "version": "3.7.6"
  },
  "toc": {
   "base_numbering": 1,
   "nav_menu": {},
   "number_sections": true,
   "sideBar": true,
   "skip_h1_title": false,
   "title_cell": "Table of Contents",
   "title_sidebar": "Contents",
   "toc_cell": false,
   "toc_position": {},
   "toc_section_display": true,
   "toc_window_display": false
  }
 },
 "nbformat": 4,
 "nbformat_minor": 4
}
