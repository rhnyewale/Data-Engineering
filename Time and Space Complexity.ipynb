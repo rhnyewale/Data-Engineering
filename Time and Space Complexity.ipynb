{
 "cells": [
  {
   "cell_type": "markdown",
   "metadata": {},
   "source": [
    "Simply put, an **algorithm** is a program or function that solves some specific problem. For example, a sorting algorithm is an algorithm that, given a list of values, outputs that same list of values but rearranges them in increasing (or decreasing) order.\n",
    "\n",
    "Ultimately, our goal is not to measure the time of a specific execution of an algorithm, but rather to analyze the algorithm and predict how the execution time will evolve as data grows larger.\n",
    "\n",
    "Intuitively, the more data an algorithm needs to process, the more time it will take to run. What we are interested in is building a model that tells us by how much the execution time grows as we increase the amount of data. We call these models the **time complexity of an algorithm**. By analyzing the time complexity of an algorithm, we want to be able to answer questions like:\n",
    "\n",
    "*If we double the data, do we double the execution time, do we quadruple it, or something else entirely?*\n",
    "\n"
   ]
  },
  {
   "cell_type": "code",
   "execution_count": 1,
   "metadata": {},
   "outputs": [],
   "source": [
    "import time"
   ]
  },
  {
   "cell_type": "markdown",
   "metadata": {},
   "source": [
    "print(time.time())  the total number of seconds that have passed from January 1, 1970, until now"
   ]
  },
  {
   "cell_type": "code",
   "execution_count": 2,
   "metadata": {},
   "outputs": [
    {
     "name": "stdout",
     "output_type": "stream",
     "text": [
      "1622674591.2581313\n"
     ]
    }
   ],
   "source": [
    "print(time.time())"
   ]
  },
  {
   "cell_type": "markdown",
   "metadata": {},
   "source": [
    "random.randint() function that, given two integers a and b, outputs a random number between a and b (inclusive)"
   ]
  },
  {
   "cell_type": "code",
   "execution_count": 3,
   "metadata": {},
   "outputs": [
    {
     "name": "stdout",
     "output_type": "stream",
     "text": [
      "9\n",
      "6\n",
      "5\n",
      "9\n"
     ]
    }
   ],
   "source": [
    "import random\n",
    "print(random.randint(1, 10))\n",
    "print(random.randint(1, 10))\n",
    "print(random.randint(1, 10))\n",
    "print(random.randint(1, 10))"
   ]
  },
  {
   "cell_type": "markdown",
   "metadata": {},
   "source": [
    "Using list comprehensions, we can use the random.randint() function to generate a random list of length 500 with values, say, from -1,000 to 1,000, as follows:"
   ]
  },
  {
   "cell_type": "code",
   "execution_count": 4,
   "metadata": {},
   "outputs": [],
   "source": [
    "values = [random.randint(-1000, 1000) for _ in range(500)]"
   ]
  },
  {
   "cell_type": "markdown",
   "metadata": {},
   "source": [
    "Notice that we used the _ notation in the above for loop. This is a notation that can be used when we do not use the iteration variable. It gives the exact same result that we would get using some variable name, but avoids having to find a name for something that we will not use."
   ]
  },
  {
   "cell_type": "code",
   "execution_count": 5,
   "metadata": {},
   "outputs": [],
   "source": [
    "import time\n",
    "import random"
   ]
  },
  {
   "cell_type": "code",
   "execution_count": 6,
   "metadata": {},
   "outputs": [],
   "source": [
    "def maximum(values):\n",
    "    answer = None\n",
    "    for value in values:\n",
    "        if answer == None or answer < value:\n",
    "            answer = value\n",
    "    return answer"
   ]
  },
  {
   "cell_type": "code",
   "execution_count": 7,
   "metadata": {},
   "outputs": [],
   "source": [
    "def gen_input(length):\n",
    "    return [random.randint(-1000, 1000) for _ in range(length)]"
   ]
  },
  {
   "cell_type": "code",
   "execution_count": 8,
   "metadata": {},
   "outputs": [
    {
     "name": "stdout",
     "output_type": "stream",
     "text": [
      "[0.0, 0.0, 0.0, 0.0, 0.0, 0.0, 0.0, 0.0, 0.0, 0.0, 0.0, 0.0, 0.0, 0.0, 0.0, 0.0, 0.0, 0.0, 0.0, 0.0, 0.0, 0.0, 0.0, 0.0, 0.0, 0.0, 0.0, 0.0, 0.0, 0.0, 0.0, 0.0, 0.0, 0.0, 0.0, 0.0, 0.0, 0.0009968280792236328, 0.0, 0.0, 0.0, 0.0, 0.0, 0.0, 0.0, 0.0, 0.0, 0.0, 0.0, 0.0, 0.0, 0.0, 0.0, 0.0, 0.0, 0.0, 0.0, 0.0, 0.0, 0.0, 0.0, 0.0005252361297607422, 0.0, 0.0, 0.0, 0.0, 0.0, 0.0, 0.0, 0.0, 0.0, 0.0, 0.0, 0.0, 0.0, 0.0, 0.0, 0.0, 0.0, 0.0, 0.0, 0.0, 0.0, 0.0, 0.0, 0.0, 0.0, 0.0, 0.0, 0.0, 0.0, 0.0, 0.0, 0.0, 0.0, 0.0, 0.0, 0.0, 0.0, 0.0, 0.0, 0.0, 0.0, 0.0, 0.0, 0.0, 0.0, 0.0009970664978027344, 0.0, 0.0, 0.0, 0.0, 0.0, 0.0, 0.0, 0.0, 0.0, 0.0, 0.0, 0.0, 0.0, 0.0, 0.0, 0.0, 0.0, 0.0, 0.0, 0.0, 0.0, 0.0, 0.0, 0.0, 0.0, 0.0, 0.0, 0.0, 0.0, 0.0, 0.0, 0.0, 0.0, 0.0, 0.0, 0.0, 0.0, 0.0, 0.0, 0.0, 0.0, 0.0, 0.0, 0.0, 0.0, 0.0, 0.0, 0.0, 0.0, 0.0, 0.0, 0.0, 0.0, 0.0, 0.0, 0.0, 0.0, 0.0, 0.0, 0.0, 0.0, 0.0, 0.0, 0.0, 0.0, 0.0, 0.0, 0.0, 0.0, 0.0, 0.0, 0.0, 0.0, 0.0, 0.0, 0.0, 0.0009980201721191406, 0.0, 0.0, 0.0, 0.0, 0.0, 0.0, 0.0, 0.0, 0.0, 0.0, 0.0, 0.0, 0.0, 0.0, 0.0, 0.0, 0.0, 0.0, 0.0, 0.0, 0.0, 0.0, 0.0, 0.0, 0.0, 0.0, 0.0, 0.0, 0.0, 0.0, 0.0, 0.0, 0.0, 0.0, 0.0, 0.0, 0.0, 0.0, 0.0, 0.0, 0.0, 0.0, 0.0, 0.0, 0.0, 0.0, 0.0, 0.0, 0.0, 0.0, 0.0009996891021728516, 0.0, 0.0, 0.0009961128234863281, 0.0, 0.0, 0.0, 0.0, 0.0, 0.0, 0.0009970664978027344, 0.0, 0.0, 0.0, 0.0, 0.0, 0.0, 0.0, 0.0, 0.0, 0.0, 0.0, 0.0, 0.0, 0.0, 0.000997304916381836, 0.0, 0.0, 0.0, 0.0, 0.0, 0.0, 0.0, 0.0, 0.0, 0.0, 0.0, 0.0, 0.0, 0.0, 0.0, 0.0, 0.0009486675262451172, 0.0, 0.0003066062927246094, 0.0, 0.0, 0.0, 0.0, 0.0, 0.0, 0.0, 0.0, 0.0, 0.00012040138244628906, 0.0, 0.0, 0.0, 0.0, 0.0, 0.0, 0.0, 0.0, 0.0, 0.0, 0.0, 0.0, 0.0, 0.0, 0.0, 0.0, 0.0, 0.0001575946807861328, 0.0, 0.0, 0.0, 0.0, 0.0, 0.0, 0.0, 0.0, 0.0, 0.0, 0.0, 0.0, 0.0, 0.0, 0.0, 0.0, 0.0, 0.0, 0.0, 0.0, 0.0, 0.0, 0.0, 0.0, 0.0, 0.0, 0.0, 0.0, 0.0, 0.0, 0.0, 0.0010380744934082031, 0.0, 0.0, 0.0, 0.0, 0.0, 0.0, 0.0, 0.0, 0.0, 0.0, 0.0, 0.0, 0.0, 0.0, 0.0, 0.0, 0.0, 0.0, 0.0, 0.0, 0.0, 0.0, 0.0, 0.0, 0.0, 0.0, 0.0, 0.0, 0.0, 0.0, 0.0, 0.0, 0.0, 0.0, 0.0, 0.0, 0.0, 0.0, 0.0, 0.0, 0.0, 0.0, 0.0, 0.0, 0.0, 0.0, 0.0, 0.0, 0.0, 0.0, 0.0, 0.0, 0.0, 0.0, 0.0, 0.0, 0.0, 0.0, 0.0, 0.0, 0.0, 0.0, 0.0, 0.0, 0.0, 0.0, 0.0, 0.0, 0.0, 0.0009961128234863281, 0.0, 8.606910705566406e-05, 0.0, 0.0, 0.0, 0.0, 0.0, 0.0, 0.0, 0.0, 0.0, 0.0009970664978027344, 0.0, 0.0, 0.0, 0.0010027885437011719, 0.0, 0.0, 0.0009982585906982422, 0.0, 0.0, 0.0, 0.0, 0.0, 0.0, 0.0, 0.0, 0.0009968280792236328, 0.0, 0.0, 0.0, 0.0, 0.0, 0.0, 0.0, 0.0, 0.0, 0.0, 0.0, 0.0, 0.0, 0.0, 0.0, 0.0, 0.0, 0.0, 0.0, 0.0, 0.0, 0.0, 0.0, 0.0, 0.0, 0.0, 0.0, 0.0, 0.0, 0.0, 0.0, 0.0, 0.0, 0.0, 0.0, 0.0, 0.0, 0.000993490219116211, 0.0, 0.0, 0.0, 0.000997304916381836, 4.363059997558594e-05, 0.0, 0.0, 0.0, 0.0, 0.0, 0.0, 0.0, 0.0, 0.0, 0.0, 0.0, 0.0, 0.0, 0.0, 0.0, 0.0, 0.0, 0.0, 0.0]\n"
     ]
    }
   ],
   "source": [
    "# add your code below\n",
    "times = []\n",
    "for length in range(1,501):\n",
    "    values = gen_input(length)\n",
    "    start = time.time()\n",
    "    maximum(values)\n",
    "    end  = time.time()\n",
    "    runtime = end - start\n",
    "    times.append(runtime)\n",
    "    \n",
    "print(times)"
   ]
  },
  {
   "cell_type": "markdown",
   "metadata": {},
   "source": [
    "On the previous screen, we evaluated the execution time of the maximum() function on input lists ranging from length 1 to length 500. The printed results are hard to read, so let's plot these times for visualizing how they are growing:\n",
    "\n",
    "<Img src = \"https://github.com/rhnyewale/Data-Engineering/blob/main/Images/tc_1.JPG?raw=true\">\n",
    "    \n",
    "We can see some spikes on the execution times at some points. These are due to external factors such as CPU load, memory management, among others. However, despite the lack of accuracy of these measures, we can see a line forming underneath, which roughly describes how the execution time is increasing. This is shown in red in the following plot:\n",
    "    \n",
    "<Img src = \"https://github.com/rhnyewale/Data-Engineering/blob/main/Images/tc_2.JPG?raw=true\">\n",
    "\n",
    "We can see that as the data increases, so does the execution time. This is not surprising since there is more data to process. However, this tells us more. It gives us an insight on the rate at which it is increasing. The red line is a straight line, which means that the time is growing somewhat proportionally with the data.\n",
    "\n",
    "This is good news because it means that the execution time grows at the same rate as the data. Doubling the amount of data will double the amount of time needed to process it.\n",
    "\n",
    "The purpose of this mission is to learn how to look at an algorithm and derive a mathematical expression for the red line. As mentioned before, we call such an expression the **time complexity of the algorithm**:\n",
    "    \n",
    "<Img src = \"https://github.com/rhnyewale/Data-Engineering/blob/main/Images/tc_3.JPG?raw=true\">\n",
    "    \n",
    "With the time complexity model, we are able to plug in a list length and get an idea of the execution time of the algorithm for that input length without needing to actually run the code. In general, the time complexity can have several behaviors; it does not always grow as a straight line. We will learn several types of growth throughout this course. By the end of this course, you'll be able to analyze an algorithm and provide a time complexity model:\n",
    "    \n",
    "<Img src = \"https://github.com/rhnyewale/Data-Engineering/blob/main/Images/tc_4.JPG?raw=true\">\n",
    "    "
   ]
  },
  {
   "cell_type": "code",
   "execution_count": 10,
   "metadata": {},
   "outputs": [],
   "source": [
    "def sum_values(values):\n",
    "    total = 0            # c1, 1 time\n",
    "    for value in values: # c2, N times\n",
    "        total += value   # c3, N times\n",
    "    return total         # c4, 1 time"
   ]
  },
  {
   "cell_type": "markdown",
   "metadata": {},
   "source": [
    "Now we multiply the execution time of each line by the number of times it is executed, and add those together:\n",
    "\n",
    "c1 + c2 X N + c3 X N + c4\n",
    "\n",
    "(c2+c3) X N + (c1 + c4)\n",
    "\n",
    "We can simplify a bit further by renaming c2 + c3 as another constant — let's say a — and c1 + c4 as b. By doing so, we obtain a cleaner expression for the execution time in terms of the size of the input (N):\n",
    "\n",
    "a × N + b\n",
    "\n",
    "The following figure shows the plot of aN + b for the different a, b value pairs:\n",
    "\n",
    "\n",
    "<Img src =\"https://github.com/rhnyewale/Data-Engineering/blob/main/Images/tc_5.JPG?raw=true\">\n",
    "\n",
    "As you can see, regardless of the values of a and b, the function aN + b is a straight line. We call an algorithm whose time complexity is a straight line a linear time algorithm. These algorithms have the property that the execution times grows proportionally to the data:\n",
    "\n",
    "\n",
    "<Img src =\"https://github.com/rhnyewale/Data-Engineering/blob/main/Images/tc_6.JPG?raw=true\">\n",
    "    \n",
    "    \n"
   ]
  },
  {
   "cell_type": "code",
   "execution_count": 14,
   "metadata": {},
   "outputs": [
    {
     "data": {
      "image/png": "[encoded data removed]",
      "text/plain": [
       "<Figure size 432x288 with 1 Axes>"
      ]
     },
     "metadata": {
      "needs_background": "light"
     },
     "output_type": "display_data"
    }
   ],
   "source": [
    "import time\n",
    "import random\n",
    "import matplotlib.pyplot as plt\n",
    "\n",
    "def plot_times(times):\n",
    "    plt.plot(times)\n",
    "    plt.ylabel('runtime')\n",
    "    plt.xlabel('size')\n",
    "    plt.show()\n",
    "\n",
    "def sum_values(values):\n",
    "    total = 0            \n",
    "    for value in values: \n",
    "        total += value   \n",
    "    return total  \n",
    "\n",
    "def gen_input(length):\n",
    "    return [random.randint(-1000, 1000) for _ in range(length)]\n",
    "\n",
    "# add your code below\n",
    "\n",
    "times = []\n",
    "for length in range(1,501):\n",
    "    values = gen_input(length)\n",
    "    start = time.time()\n",
    "    sum_values(values)\n",
    "    end = time.time()\n",
    "    runtime = end - start\n",
    "    times.append(runtime)\n",
    "    \n",
    "plot_times(times)"
   ]
  },
  {
   "cell_type": "markdown",
   "metadata": {},
   "source": [
    "How many times is the line answer = value executed? Well, that depends on the values list. The first time, it is always executed because answer is initially set to None. After that, it depends on the order of the elements in values.\n",
    "\n",
    "For example, if values = [1, 2, 3, 4, 5] then, at every subsequent iteration, answer < value will be true, so the line will be executed one time for each value. On the other hand, if values = [5, 4, 3, 2, 1] then, the first time answer will be set to 5, and then the line will never be executed again.\n",
    "\n",
    "We say that the first is a **worst-case** execution analysis and the latter a **best-case** execution analysis. When building a model for the execution time of an algorithm, we often focus on the **worst case**. There a few reasons for doing so:\n",
    "\n",
    "1. We usually want to process data from a lot of different sources and, consequently, it turns out that the worst-case actually occurs quite often.\n",
    "\n",
    "2. It provides an upper bound. By focusing on the worst-case when building the execution time model, we can guarantee that the executions times will always behave at most as badly as the models predicts. Imagine that you are selling an algorithm that 1% of the time takes one second, and 99% takes over one year. If you advertise it as taking one second (best case), your customers will not be very pleased."
   ]
  },
  {
   "cell_type": "markdown",
   "metadata": {},
   "source": [
    "That slow algorithms will eventually become the bottleneck of applications regardless of technological advances on computers.\n",
    "1. How to measure the execution time of a Python function.\n",
    "2. How to generate random inputs.\n",
    "3. How to build a model to understand how the execution time of a function grows with the input data.\n",
    "4. How to simplify these models.\n",
    "5. We've also leaned two types of complexity linear time complexity, O(N), and quadratic time complexity, O(N2). Linear time algorithms have an execution time that is proportional to the amount of data while quadratic time algorithms quadruple their execution time when data is doubled:\n",
    "\n",
    "<Img src=\"https://github.com/rhnyewale/Data-Engineering/blob/main/Images/tc_7.JPG?raw=true\">"
   ]
  },
  {
   "cell_type": "markdown",
   "metadata": {},
   "source": [
    "# Constant Time Complexity\n",
    "\n",
    "An algorithm with **constant time complexity** is an algorithm whose **execution time does not depend on the data** that it is processing. A constant time algorithm can be very slow; what characterizes it, is the fact that the time it takes is independent of the amount of data:\n",
    "\n",
    "The way of modeling the time complexity in the previous mission assumed that each line execution takes a constant amount of time. In other words, each line of code is somewhat a constant time algorithm.\n",
    "\n",
    "In this mission, we are going to learn that this assumption does not necessarily hold all of the time. We will see which operations a computer can perform in constant time and which ones it cannot."
   ]
  },
  {
   "cell_type": "markdown",
   "metadata": {},
   "source": [
    "The following general principle will help you not to miss some hidden complexities.\n",
    "\n",
    "An algorithm cannot have a complexity lower than the size of its output.\n",
    "More concretely, a piece of code that results in N elements of data cannot possibly make less than N operations. This is because just storing a value in memory already costs O(1).\n",
    "\n",
    "In particular, this means that creating a list with N elements cannot have a complexity lower than O(N). But this does not mean that all lists created using list comprehension have time complexity O(N) where N is the final length of the list. This is only a lower bound, it could actually have a higher complexity."
   ]
  },
  {
   "cell_type": "code",
   "execution_count": 16,
   "metadata": {},
   "outputs": [],
   "source": [
    "#values = [1, 3 ,5, 7, 11, 13]\n",
    "#sums = [sum(values) / i for i in range(1, N)]"
   ]
  },
  {
   "cell_type": "markdown",
   "metadata": {},
   "source": [
    "In this example, each element of sums is computed by calling the sum() function on some other list, then dividing the result by the current index i. If values has length M, then each element of sums takes O(M) time to be computed. Therefore, since there are N such values, the total complexity of creating the sums list is O(N×M)."
   ]
  },
  {
   "cell_type": "markdown",
   "metadata": {},
   "source": [
    "# NumPy"
   ]
  },
  {
   "cell_type": "code",
   "execution_count": 1,
   "metadata": {},
   "outputs": [],
   "source": [
    "import numpy as np"
   ]
  },
  {
   "cell_type": "code",
   "execution_count": 2,
   "metadata": {},
   "outputs": [],
   "source": [
    "x = np.array([\n",
    " [7., 9., 2., 2.],\n",
    " [3., 2., 6., 4.],\n",
    " [5., 6., 5., 7.]\n",
    "])\n"
   ]
  },
  {
   "cell_type": "code",
   "execution_count": 3,
   "metadata": {},
   "outputs": [
    {
     "name": "stdout",
     "output_type": "stream",
     "text": [
      "[[6. 8. 1. 1.]\n",
      " [2. 1. 5. 3.]\n",
      " [4. 5. 4. 6.]]\n"
     ]
    }
   ],
   "source": [
    "ones = np.ones(x.shape)\n",
    "x -=ones\n",
    "print(x)"
   ]
  },
  {
   "cell_type": "code",
   "execution_count": 4,
   "metadata": {},
   "outputs": [],
   "source": [
    "r = 1/x"
   ]
  },
  {
   "cell_type": "code",
   "execution_count": 5,
   "metadata": {},
   "outputs": [
    {
     "name": "stdout",
     "output_type": "stream",
     "text": [
      "[[7. 9. 2. 2.]\n",
      " [3. 2. 6. 4.]\n",
      " [5. 6. 5. 7.]]\n"
     ]
    }
   ],
   "source": [
    "print(x+1)"
   ]
  },
  {
   "cell_type": "code",
   "execution_count": 6,
   "metadata": {},
   "outputs": [
    {
     "name": "stdout",
     "output_type": "stream",
     "text": [
      "[[12. 16.  2.  2.]\n",
      " [ 4.  2. 10.  6.]\n",
      " [ 8. 10.  8. 12.]]\n"
     ]
    }
   ],
   "source": [
    "print(x*2)"
   ]
  },
  {
   "cell_type": "markdown",
   "metadata": {},
   "source": [
    "This feature is called **broadcasting**. Broadcasting is a mechanism that makes it possible to do calculations between ndarrays that have different shapes.\n",
    "\n",
    "We can think of a numeric value as a 1-dimensional array with a single entry. Then, a mental model of what broadcasting is doing, is that it tries to match the shapes of two ndarrays that we are trying to operate. It does so by stretching them until their shapes match.\n",
    "\n"
   ]
  },
  {
   "cell_type": "code",
   "execution_count": 7,
   "metadata": {},
   "outputs": [],
   "source": [
    "x = np.array([\n",
    "    [4, 2, 1, 5],\n",
    "    [6, 7, 3, 8]\n",
    "])\n",
    "y = np.array([\n",
    "    [1],\n",
    "    [2]\n",
    "])"
   ]
  },
  {
   "cell_type": "code",
   "execution_count": 8,
   "metadata": {},
   "outputs": [],
   "source": [
    "z = x + y"
   ]
  },
  {
   "cell_type": "code",
   "execution_count": 9,
   "metadata": {},
   "outputs": [
    {
     "name": "stdout",
     "output_type": "stream",
     "text": [
      "[[ 5  3  2  6]\n",
      " [ 8  9  5 10]]\n"
     ]
    }
   ],
   "source": [
    "print(z)"
   ]
  },
  {
   "cell_type": "markdown",
   "metadata": {},
   "source": [
    "When we look at the result, we see that 1 was added to each value in the first row of x, and 2 was added to each value in its second row."
   ]
  },
  {
   "cell_type": "markdown",
   "metadata": {},
   "source": [
    "Broadcasting also works in the vertical direction. Let's try it."
   ]
  },
  {
   "cell_type": "code",
   "execution_count": 10,
   "metadata": {},
   "outputs": [
    {
     "name": "stdout",
     "output_type": "stream",
     "text": [
      "[[ 5  4  4  9]\n",
      " [ 7  9  6 12]]\n"
     ]
    }
   ],
   "source": [
    "x = np.array([\n",
    "    [4, 2, 1, 5],\n",
    "    [6, 7, 3, 8]\n",
    "])\n",
    "\n",
    "y = np.array([1,2,3,4])\n",
    "z = x+y\n",
    "print(z)"
   ]
  },
  {
   "cell_type": "markdown",
   "metadata": {},
   "source": [
    "As before, the way to think about how NumPy decides what to add where is to imagine that it expands the smaller ndarray with copies of itself until both have the same shape. In this case, because of the shapes, the copies need to be done vertically. "
   ]
  },
  {
   "cell_type": "code",
   "execution_count": 12,
   "metadata": {},
   "outputs": [
    {
     "name": "stdout",
     "output_type": "stream",
     "text": [
      "[[2 3 4]\n",
      " [3 4 5]\n",
      " [4 5 6]]\n"
     ]
    }
   ],
   "source": [
    "x = np.array([1,2,3])\n",
    "y = np.array([[1],\n",
    "              [2],\n",
    "              [3]])\n",
    "z = x+y\n",
    "print(z)"
   ]
  },
  {
   "cell_type": "code",
   "execution_count": 13,
   "metadata": {},
   "outputs": [
    {
     "name": "stdout",
     "output_type": "stream",
     "text": [
      "[[ 2  3  4  5  6  7]\n",
      " [ 3  4  5  6  7  8]\n",
      " [ 4  5  6  7  8  9]\n",
      " [ 5  6  7  8  9 10]\n",
      " [ 6  7  8  9 10 11]\n",
      " [ 7  8  9 10 11 12]]\n"
     ]
    }
   ],
   "source": [
    "dice1 = np.array([1,2,3,4,5,6])\n",
    "dice2 = np.array([[1],\n",
    "                 [2],\n",
    "                 [3],\n",
    "                 [4],\n",
    "                 [5],\n",
    "                 [6]])\n",
    "dice_sums = dice1+dice2\n",
    "print(dice_sums)"
   ]
  },
  {
   "cell_type": "markdown",
   "metadata": {},
   "source": [
    "Broadcasting is not always possible. In this screen, we'll learn the general rules that NumPy applies to try to make two ndarrays the same shape."
   ]
  },
  {
   "cell_type": "code",
   "execution_count": 14,
   "metadata": {},
   "outputs": [
    {
     "ename": "ValueError",
     "evalue": "operands could not be broadcast together with shapes (3,2) (3,) ",
     "output_type": "error",
     "traceback": [
      "\u001b[1;31m---------------------------------------------------------------------------\u001b[0m",
      "\u001b[1;31mValueError\u001b[0m                                Traceback (most recent call last)",
      "\u001b[1;32m<ipython-input-14-c0658abe1952>\u001b[0m in \u001b[0;36m<module>\u001b[1;34m\u001b[0m\n\u001b[0;32m      5\u001b[0m ])\n\u001b[0;32m      6\u001b[0m \u001b[0my\u001b[0m \u001b[1;33m=\u001b[0m \u001b[0mnp\u001b[0m\u001b[1;33m.\u001b[0m\u001b[0marray\u001b[0m\u001b[1;33m(\u001b[0m\u001b[1;33m[\u001b[0m\u001b[1;36m1\u001b[0m\u001b[1;33m,\u001b[0m \u001b[1;36m2\u001b[0m\u001b[1;33m,\u001b[0m \u001b[1;36m3\u001b[0m\u001b[1;33m]\u001b[0m\u001b[1;33m)\u001b[0m\u001b[1;33m\u001b[0m\u001b[1;33m\u001b[0m\u001b[0m\n\u001b[1;32m----> 7\u001b[1;33m \u001b[0mprint\u001b[0m\u001b[1;33m(\u001b[0m\u001b[0mx\u001b[0m \u001b[1;33m+\u001b[0m \u001b[0my\u001b[0m\u001b[1;33m)\u001b[0m\u001b[1;33m\u001b[0m\u001b[1;33m\u001b[0m\u001b[0m\n\u001b[0m",
      "\u001b[1;31mValueError\u001b[0m: operands could not be broadcast together with shapes (3,2) (3,) "
     ]
    }
   ],
   "source": [
    "x = np.array([\n",
    "    [1, 2],\n",
    "    [3, 4],\n",
    "    [5, 6]\n",
    "])\n",
    "y = np.array([1, 2, 3])\n",
    "print(x + y)"
   ]
  },
  {
   "cell_type": "code",
   "execution_count": 16,
   "metadata": {},
   "outputs": [
    {
     "name": "stdout",
     "output_type": "stream",
     "text": [
      "[1 2 3 4 5 6]\n"
     ]
    }
   ],
   "source": [
    "x = np.array([\n",
    "    [1, 2],\n",
    "    [3, 4],\n",
    "    [5, 6]\n",
    "])\n",
    "print(x.reshape(6))"
   ]
  },
  {
   "cell_type": "code",
   "execution_count": 18,
   "metadata": {},
   "outputs": [
    {
     "name": "stdout",
     "output_type": "stream",
     "text": [
      "[1 2 3 4 5 6]\n"
     ]
    }
   ],
   "source": [
    "dice1 =  np.array([i for i in range(1,7)])\n",
    "print(dice1)"
   ]
  },
  {
   "cell_type": "code",
   "execution_count": 19,
   "metadata": {},
   "outputs": [
    {
     "name": "stdout",
     "output_type": "stream",
     "text": [
      "[[1]\n",
      " [2]\n",
      " [3]\n",
      " [4]\n",
      " [5]\n",
      " [6]]\n"
     ]
    }
   ],
   "source": [
    "dice2 = dice1.reshape((6,1))\n",
    "print(dice2)"
   ]
  },
  {
   "cell_type": "code",
   "execution_count": 21,
   "metadata": {},
   "outputs": [
    {
     "name": "stdout",
     "output_type": "stream",
     "text": [
      "[[ 2  3  4  5  6  7]\n",
      " [ 3  4  5  6  7  8]\n",
      " [ 4  5  6  7  8  9]\n",
      " [ 5  6  7  8  9 10]\n",
      " [ 6  7  8  9 10 11]\n",
      " [ 7  8  9 10 11 12]]\n"
     ]
    }
   ],
   "source": [
    "dice_sums = dice1+dice2\n",
    "print(dice_sums)"
   ]
  },
  {
   "cell_type": "markdown",
   "metadata": {},
   "source": [
    "We can reshape an ndarray by providing the new shape. However, we cannot reshape an ndarray into any shape.\n",
    "\n",
    "The only condition that the reshape method requires is for the new shape to hold the same number of values as the original ndarray. The number of values that a shape can hold is equal to the product of all shape values.\n",
    "\n",
    "For example, shape (3, 5) can hold 3 × 5 = 15 values. The shape (5, 1) can hold 5 × 1 = 5 values.\n",
    "\n",
    "Even though we didn't work with ndarray with three or more dimensions, the same rule applies. For example, an ndarray with shape (4, 2, 3) can hold 4 × 2 × 3 = 24 values.\n",
    "\n"
   ]
  },
  {
   "cell_type": "code",
   "execution_count": 22,
   "metadata": {},
   "outputs": [
    {
     "name": "stdout",
     "output_type": "stream",
     "text": [
      "[ True  True False  True False]\n"
     ]
    }
   ],
   "source": [
    "x = np.array([4, 2, 3, 1, 2])\n",
    "y = np.array([5, 4, 2, 3, 1])\n",
    "less = x < y\n",
    "print(less)"
   ]
  },
  {
   "cell_type": "markdown",
   "metadata": {},
   "source": [
    "NumPy performs these comparisons element by element and creates a new ndarray with booleans values equal to the result of comparing the values index by index"
   ]
  },
  {
   "cell_type": "markdown",
   "metadata": {},
   "source": [
    "NumPy arrays have other useful methods to work on boolean arrays. The ndarray.any() method checks whether there is at least one True value in an ndarray. It is useful to check whether at least one value satisfies a given condition.\n",
    "\n"
   ]
  },
  {
   "cell_type": "code",
   "execution_count": 23,
   "metadata": {},
   "outputs": [
    {
     "name": "stdout",
     "output_type": "stream",
     "text": [
      "True\n"
     ]
    }
   ],
   "source": [
    "x = np.array([3, 2, 4, 5])\n",
    "print((x > 3).any())"
   ]
  },
  {
   "cell_type": "markdown",
   "metadata": {},
   "source": [
    "The ndarray.all() method checks whether all values are True in an ndarray. This method is useful to check whether all values in an ndarray satisfy a given condition."
   ]
  },
  {
   "cell_type": "code",
   "execution_count": 24,
   "metadata": {},
   "outputs": [
    {
     "name": "stdout",
     "output_type": "stream",
     "text": [
      "False\n"
     ]
    }
   ],
   "source": [
    "x = np.array([3, 2, 4, 5])\n",
    "print((x > 3).all())"
   ]
  },
  {
   "cell_type": "code",
   "execution_count": 25,
   "metadata": {},
   "outputs": [
    {
     "name": "stdout",
     "output_type": "stream",
     "text": [
      "[False  True  True False  True]\n"
     ]
    }
   ],
   "source": [
    "x = np.array([4, 2, 3, 1, 2])\n",
    "print((x >= 2) & (x <= 3))"
   ]
  },
  {
   "cell_type": "markdown",
   "metadata": {},
   "source": [
    "A handy feature of NumPy is the ability to filter an ndarray using a boolean mask. A boolean mask for an ndarray is essentially a boolean ndarray with the same shape."
   ]
  },
  {
   "cell_type": "code",
   "execution_count": 26,
   "metadata": {},
   "outputs": [
    {
     "name": "stdout",
     "output_type": "stream",
     "text": [
      "[2 4]\n"
     ]
    }
   ],
   "source": [
    "x = np.array([3, 2, 4, 5])\n",
    "mask_x = np.array([False, True, True, False])\n",
    "print(x[mask_x])"
   ]
  },
  {
   "cell_type": "markdown",
   "metadata": {},
   "source": [
    "Boolean masks are not restricted to 1-dimensional arrays. We can also use them in higher dimensions.\n",
    "\n",
    "However, the result of applying a boolean mask is always a 1-dimensional array, even when applied to 2-dimensional arrays."
   ]
  },
  {
   "cell_type": "code",
   "execution_count": 28,
   "metadata": {},
   "outputs": [
    {
     "name": "stdout",
     "output_type": "stream",
     "text": [
      "[3 2 1 2]\n"
     ]
    }
   ],
   "source": [
    "x = np.array([\n",
    "    [3, 2, 4, 5],\n",
    "    [7, 6, 1, 2]\n",
    "])\n",
    "print(x[x <= 3])"
   ]
  },
  {
   "cell_type": "code",
   "execution_count": 29,
   "metadata": {},
   "outputs": [
    {
     "name": "stdout",
     "output_type": "stream",
     "text": [
      "[5 2 3 4]\n"
     ]
    }
   ],
   "source": [
    "x = np.array([1, 2, 3, 4])\n",
    "x[0] = 5.5\n",
    "print(x)"
   ]
  },
  {
   "cell_type": "markdown",
   "metadata": {},
   "source": [
    "The reason why this happens is all values in an ndarrays must be of the same datatype. Since the list of values that we provided only contained integers, NumPy used an integer datatype to store the values of x. We can access the datatype of an ndarray using the ndarray.dtype attribute."
   ]
  },
  {
   "cell_type": "code",
   "execution_count": 30,
   "metadata": {},
   "outputs": [
    {
     "name": "stdout",
     "output_type": "stream",
     "text": [
      "int32\n"
     ]
    }
   ],
   "source": [
    "x = np.array([1, 2, 3, 4])\n",
    "print(x.dtype)"
   ]
  },
  {
   "cell_type": "code",
   "execution_count": 32,
   "metadata": {},
   "outputs": [
    {
     "name": "stdout",
     "output_type": "stream",
     "text": [
      "[5.5 2.  3.  4. ]\n"
     ]
    }
   ],
   "source": [
    "values = [1, 2, 3, 4]\n",
    "x = np.array(values, dtype=np.float32\n",
    "            )\n",
    "x[0] = 5.5\n",
    "print(x)"
   ]
  },
  {
   "cell_type": "code",
   "execution_count": null,
   "metadata": {},
   "outputs": [],
   "source": []
  }
 ],
 "metadata": {
  "kernelspec": {
   "display_name": "Python 3",
   "language": "python",
   "name": "python3"
  },
  "language_info": {
   "codemirror_mode": {
    "name": "ipython",
    "version": 3
   },
   "file_extension": ".py",
   "mimetype": "text/x-python",
   "name": "python",
   "nbconvert_exporter": "python",
   "pygments_lexer": "ipython3",
   "version": "3.7.6"
  },
  "toc": {
   "base_numbering": 1,
   "nav_menu": {},
   "number_sections": true,
   "sideBar": true,
   "skip_h1_title": false,
   "title_cell": "Table of Contents",
   "title_sidebar": "Contents",
   "toc_cell": false,
   "toc_position": {},
   "toc_section_display": true,
   "toc_window_display": false
  }
 },
 "nbformat": 4,
 "nbformat_minor": 4
}
