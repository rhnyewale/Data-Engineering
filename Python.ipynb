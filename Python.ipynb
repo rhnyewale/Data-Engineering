{
 "cells": [
  {
   "cell_type": "markdown",
   "metadata": {},
   "source": [
    "# LIST\n",
    "\n",
    "To retrieve the list slice we want by using the syntax a_list[m:n], where:\n",
    "* m represents the index number of the first element of the slice; and\n",
    "* n represents the index number of the last element of the slice plus one (if the last element has the index number 2, then n will be 3, if the last element has the index number 4, then n will be 5, and so on).\n",
    "\n",
    "<Img src=\"https://github.com/rhnyewale/Data-Engineering/blob/main/Images/Lists.jpg?raw=true\">"
   ]
  },
  {
   "cell_type": "markdown",
   "metadata": {},
   "source": [
    "# Dictionary\n",
    "\n",
    "When we populate a dictionary, we also need to make sure each key in that dictionary is unique. If we use an identical key for two or more different values, Python keeps only the last key-value pair in the dictionary and removes the others — this means that we'll lose data.\n",
    "\n",
    "\n",
    "An odd \"gotcha\" is when we mix integers with Booleans as dictionary keys. The hash() command converts the Boolean True to 1, and the Boolean False to 0. This means the Booleans True and False will conflict with the integers 0 and 1. The dictionary keys won't be unique anymore, and Python will only keep the last key-value pair in cases like that.\n",
    "\n",
    "\n",
    "We can check, for instance, whether the value '12+' exists as a key in the dictionary {'4+': 4433, '9+': 987, '12+': 1155, '17+': 622}. To do that, we use the **in** operator.\n",
    "\n",
    " **The search is done only over the dictionary's keys**\n",
    " \n",
    " **When we iterate over a dictionary with a for loop, the looping is done by default over the dictionary keys**"
   ]
  },
  {
   "cell_type": "markdown",
   "metadata": {},
   "source": [
    "# Tuple\n",
    "\n",
    "Just as a list, a tuple is usually used for storing multiple values. Creating a tuple is similar to creating a list, with the exception that we need to use parentheses () instead of brackets[ ].\n",
    "\n",
    "Just as lists, tuples support positive and negative indexing.\n",
    "\n",
    "The main difference between tuples and lists boils down to whether we can modify the existing values or not. In the case of tuples, we can't modify the existing values, while in the case of lists, we can. Below, we're trying to modify the first value of a list and a tuple.\n",
    "\n",
    "<Img src=\"https://github.com/rhnyewale/Data-Engineering/blob/main/Images/Tuples.PNG?raw=true\">\n",
    "\n",
    "Tuples are called immutable data types because we can't change their state after they've been created. Conversely, lists are mutable data types because their state can be changed after they've been created. The only way we could modify tuples, and immutable data types in general, is by recreating them. This is a list of all the mutable and immutable data types we've learned so far.\n",
    "\n",
    "<Img src=\"https://github.com/rhnyewale/Data-Engineering/blob/main/Images/Mutable_Immutable.PNG?raw=true\">\n",
    "\n",
    "\n",
    "\n"
   ]
  },
  {
   "cell_type": "markdown",
   "metadata": {},
   "source": [
    "# Functions\n",
    "\n",
    "Parameters and return statements are optional.\n",
    "Functions without a return statement don't return any value.\n",
    "However, strictly speaking, they return a None value, which practically represents the absence of a value. The None value is an instance of the NoneType data type (just like 5.321 is an instance of the float data type)."
   ]
  },
  {
   "cell_type": "markdown",
   "metadata": {},
   "source": [
    "# Strings\n",
    "\n",
    "string_var.replace()\n",
    "string_var.title()\n",
    "\n",
    "if not var: (we can use if statement to check if the string is empty)"
   ]
  },
  {
   "cell_type": "markdown",
   "metadata": {},
   "source": [
    "# Set\n",
    "\n",
    "We created a set by separating its values with commas and encompassing it all within curly braces. Note that sets are different from dictionaries. In dictionaries, we have key value pairs between the curly braces; in sets, we just have its elements.\n",
    "\n",
    "We can think of sets as unordered collections of objects **without repetition**.\n",
    "\n",
    "* Unordered because it doesn't matter in which order the elements of a set are arranged upon creation, nor how they are displayed when we print a set\n",
    "\n",
    "* Without repetition because it can't have more than one of each element\n",
    "\n"
   ]
  },
  {
   "cell_type": "markdown",
   "metadata": {},
   "source": [
    "# Object Oriented Programming\n",
    "\n",
    "Python is an object-oriented language.\n",
    "This means almost everything in Python is actually an object; when you're working with Python, you are creating and manipulating objects.\n",
    "\n",
    "As you continue to learn to work with data in Python, you'll encounter objects everywhere:\n",
    "\n",
    "NumPy and pandas — the two libraries essential to working with data in Python — both define a number of their own object types.\n",
    "\n",
    "Matplotlib — which you use to create data visualizations — uses object types to define the charts you create.\n",
    "\n",
    "Scikit-learn — which you use to create machine learning models — uses object types to represent the models you train and make predictions with\n",
    "\n",
    "\n",
    "In OOP, objects have types, but instead of \"type\" we use the word class. So far, we've been using the word \"type\" to describe different variables:\n",
    "\n",
    "* String type\n",
    "* List type\n",
    "* Dictionary type\n",
    "\n",
    "Technically, the correct name for each of these is:\n",
    "\n",
    "* String class\n",
    "* List class\n",
    "* Dictionary class\n",
    "\n",
    "The word class refers to a group of similar things. In OOP, we use the word similarly — a class is a type of object.\n",
    "\n",
    "## Class & Object\n",
    "\n",
    "* An object is an entity that stores data\n",
    "* An object's class defines specific properties objects of that class will have\n",
    "\n",
    "One way to understand the difference between a class and an object in Python is by comparing them to real-world objects. We'll compare Python string objects to Tesla electric cars.\n",
    "\n",
    "There are hundreds of thousands of Tesla cars around the world. Each car is similar in that it is a Tesla — it's not a Ford or Toyota — but at the same time, it is not necessarily identical to other Teslas. We would say that each of the cars are objects that belong to the Tesla class\n",
    "\n",
    "Tesla has a blueprint — or plan — for making their cars. The blueprint defines what the car is, what it does, and how — everything that makes the car unique. That said, the blueprint isn't a car, it's just all the information needed to create the car. Similarly, in Python, we have code blueprints for classes. These blueprints are class definitions\n",
    "\n",
    "We define a class in a very similar way to how we define a function:\n",
    "\n",
    "<Img src=\"https://github.com/rhnyewale/Data-Engineering/blob/main/Images/Class.PNG?raw=true\">\n",
    "    \n",
    "In OOP, we use instance to describe each different object. Let's look at an example:\n",
    "    \n",
    "<Img src=\"https://github.com/rhnyewale/Data-Engineering/blob/main/Images/Instance.PNG?raw=true\">\n",
    "    \n",
    "The same can be said of Python strings. We might create two Python strings, and they can hold different values, but they work the same way:\n",
    "    \n",
    "<Img src=\"https://github.com/rhnyewale/Data-Engineering/blob/main/Images/Instance_string.JPG?raw=true\">\n",
    "    \n",
    "Once we have defined our class, we can create an object of that class, which is known as instantiation. If you create an object of a particular class, the technical phrase for what you did is to \"Instantiate an object of that class.\" Let's learn how to instantiate an instance of our new class:\n",
    "    \n",
    "    my_class_instance = MyClass()\n",
    "    \n",
    "That single line of our code actually did two things:\n",
    "\n",
    "* Instantiated an object of the class MyClass\n",
    "* Assigned that instance to the variable named my_class_instance\n",
    "    \n",
    "\n",
    "To illustrate this more clearly, let's look at an example using Python's built-in integer class. In the previous mission, we used the syntax int() to convert numeric values stored as strings to integers. Let's look at a simple example of this in code and break down the syntax into parts, which we'll read right-to-left:\n",
    "    \n",
    "<Img src = \"https://github.com/rhnyewale/Data-Engineering/blob/main/Images/Instance_example.JPG?raw=true\">\n",
    "    \n",
    "The syntax to the right of the assignment operator (=) instantiates the object, and the assignment operator and variable name create the variable. This helps us understand some of the subtle differences between an object and a variable.\n",
    "    \n",
    "Keep in mind that in casual usage, \"object\" and \"variable\"' are commonly used interchangeably. The distinction is usually only important if you're talking about OOP concepts like classes.\n",
    "    \n",
    "## Methods\n",
    "    \n",
    "Methods allow objects to perform actions\n",
    "    \n",
    "Relating back to our Tesla metaphor, an object of the Tesla \"class\" can do things like \"unlock\" and \"accelerate\". Similarly, Python strings have methods that can replace substrings, convert the case of the object, and more:\n",
    "\n",
    "   <Img src=\"https://github.com/rhnyewale/Data-Engineering/blob/main/Images/Methods.JPG?raw=true\">\n",
    "\n",
    "You can think of methods like special functions that belong to a particular class. This is why we call the replace method str.replace()— because the method belongs to the str class.\n",
    "       \n",
    "       \n",
    "Each class has its own set of methods.\n",
    "list.append() \n",
    "str.replace()\n",
    "       \n",
    "We can't use a method from one class with the other class.\n",
    "       \n",
    "The syntax for creating a method is almost identical to when we create a function, except it is indented within our class definition.\n",
    "       \n",
    "      "
   ]
  },
  {
   "cell_type": "code",
   "execution_count": 1,
   "metadata": {},
   "outputs": [],
   "source": [
    "class NewClass():\n",
    "    def first_method():\n",
    "        return \"hello\"\n",
    "    "
   ]
  },
  {
   "cell_type": "code",
   "execution_count": 2,
   "metadata": {},
   "outputs": [],
   "source": [
    "instance = NewClass()"
   ]
  },
  {
   "cell_type": "code",
   "execution_count": 3,
   "metadata": {},
   "outputs": [
    {
     "ename": "TypeError",
     "evalue": "first_method() takes 0 positional arguments but 1 was given",
     "output_type": "error",
     "traceback": [
      "\u001b[1;31m---------------------------------------------------------------------------\u001b[0m",
      "\u001b[1;31mTypeError\u001b[0m                                 Traceback (most recent call last)",
      "\u001b[1;32m<ipython-input-3-9234a9c537f6>\u001b[0m in \u001b[0;36m<module>\u001b[1;34m\u001b[0m\n\u001b[1;32m----> 1\u001b[1;33m \u001b[0minstance\u001b[0m\u001b[1;33m.\u001b[0m\u001b[0mfirst_method\u001b[0m\u001b[1;33m(\u001b[0m\u001b[1;33m)\u001b[0m\u001b[1;33m\u001b[0m\u001b[1;33m\u001b[0m\u001b[0m\n\u001b[0m",
      "\u001b[1;31mTypeError\u001b[0m: first_method() takes 0 positional arguments but 1 was given"
     ]
    }
   ],
   "source": [
    "instance.first_method()"
   ]
  },
  {
   "cell_type": "markdown",
   "metadata": {},
   "source": [
    "This error is a bit confusing. It says that one argument was given to first_method(), but when we called the method we didn't provide any arguments. It seems like there is a \"phantom\" argument being inserted somewhere. To understand what's happening, let's look at what happens behind the scenes when we call a method. We'll start by looking at our instance object containing a single method:\n",
    "\n",
    "\n",
    "When we call the first_method() method belonging to the instance object, Python interprets that syntax and adds in an argument representing the instance we're calling the method on:\n",
    "\n",
    "<Img src=\"https://github.com/rhnyewale/Data-Engineering/blob/main/Images/first_method.JPG?raw=true\">\n",
    "    \n",
    "We can verify that this is the case by checking it with Python's built-in str type. We'll use str.title() to convert a string to title case."
   ]
  },
  {
   "cell_type": "code",
   "execution_count": 4,
   "metadata": {},
   "outputs": [
    {
     "name": "stdout",
     "output_type": "stream",
     "text": [
      "My String\n"
     ]
    }
   ],
   "source": [
    "# create a str object\n",
    "s = \"MY STRING\"\n",
    "\n",
    "# call `str.title() directly\n",
    "# instead of `s.title()`\n",
    "result = str.title(s)\n",
    "print(result)"
   ]
  },
  {
   "cell_type": "markdown",
   "metadata": {},
   "source": [
    "The extra argument that Python has added, which is the instance itself, is what is causing our error. \n",
    "\n",
    "Proving extra argument is the object itself"
   ]
  },
  {
   "cell_type": "code",
   "execution_count": 5,
   "metadata": {},
   "outputs": [],
   "source": [
    "class MyClass():\n",
    "    def print_self(self):\n",
    "        print(self)\n",
    "        \n",
    "mc = MyClass()\n"
   ]
  },
  {
   "cell_type": "markdown",
   "metadata": {},
   "source": [
    "Let's print the mc object so we can understand what the object itself looks like when its printed"
   ]
  },
  {
   "cell_type": "code",
   "execution_count": 6,
   "metadata": {},
   "outputs": [
    {
     "name": "stdout",
     "output_type": "stream",
     "text": [
      "<__main__.MyClass object at 0x0000020C35463548>\n"
     ]
    }
   ],
   "source": [
    "print(mc)"
   ]
  },
  {
   "cell_type": "markdown",
   "metadata": {},
   "source": [
    "Lastly, let's call our print_self() method to see whether the output is the same as when we printed the object itself:"
   ]
  },
  {
   "cell_type": "code",
   "execution_count": 7,
   "metadata": {},
   "outputs": [
    {
     "name": "stdout",
     "output_type": "stream",
     "text": [
      "<__main__.MyClass object at 0x0000020C35463548>\n"
     ]
    }
   ],
   "source": [
    "mc.print_self()"
   ]
  },
  {
   "cell_type": "markdown",
   "metadata": {},
   "source": [
    "The same output was displayed both when we printed the object using the syntax print(mc) and when we printed the object inside the method using print_self() — which proves that this **\"phantom\" argument** is the object itself!\n",
    "\n",
    "Technically, we can give this first argument — which is passed to every method — any parameter name we like. However, the convention is to call the parameter **self**. This is an important convention, as without it class definitions can get confusing.\n",
    "\n",
    "* Methods have a \"phantom\" argument that gets passed to them when they are called\n",
    "* The \"phantom\" argument is actually the object itself\n",
    "* We need to include that in our method definition\n",
    "* The convention is to call the \"phantom\" argument **self**\n",
    "\n",
    "Like with functions, methods are often called with one or more arguments so that the method can use or modify that argument.\n",
    "\n",
    "Let's create a method that accepts a string argument and then returns that string. The **first argument** will always be the **object itself**, so we'll specify self as the first argument, and the **string** as our **second argument**:"
   ]
  },
  {
   "cell_type": "code",
   "execution_count": 8,
   "metadata": {},
   "outputs": [],
   "source": [
    "class MyClass():\n",
    "    def return_string(self, string):\n",
    "        return string"
   ]
  },
  {
   "cell_type": "code",
   "execution_count": 10,
   "metadata": {},
   "outputs": [
    {
     "name": "stdout",
     "output_type": "stream",
     "text": [
      "Hello!!\n"
     ]
    }
   ],
   "source": [
    "mc = MyClass()\n",
    "result = mc.return_string(\"Hello!!\")\n",
    "print(result)"
   ]
  },
  {
   "cell_type": "markdown",
   "metadata": {},
   "source": [
    "A method that takes input and returns output without interacting with the object — isn't often used. After all, we could do the same thing with a function without the hassle of defining a class and method. \n",
    "\n",
    "The power of objects is in their ability to store data, and data is stored inside objects using **attributes**.\n",
    "\n",
    "Relating back to our Tesla metaphor, an object of the Tesla \"class\" has attributes like their color, battery, and motor. Similarly, Python strings have attributes — the data stored inside the string:\n",
    "\n",
    "<Img src=\"https://github.com/rhnyewale/Data-Engineering/blob/main/Images/Attributes.JPG?raw=true\">\n",
    "    \n",
    "You can think of attributes like special variables that belong to a particular class. Attributes let us store specific values about each instance of our class.\n",
    "    \n",
    "When we instantiate an object, most of the time we specify the data that we want to store inside that object. Let's look at an example of instantiating an int object:"
   ]
  },
  {
   "cell_type": "code",
   "execution_count": 11,
   "metadata": {},
   "outputs": [],
   "source": [
    "my_int = int(\"3\")"
   ]
  },
  {
   "cell_type": "markdown",
   "metadata": {},
   "source": [
    "When we used int(), we provided the argument \"3\", which was converted and stored inside the object. We define what is done with any arguments provided at instantiation using the **init method**\n",
    "\n",
    "The init method — also called a **constructor** — is a special method that runs when an instance is created so we can perform any tasks to set up the instance.\n",
    "\n",
    "The init method has a special name that starts and ends with two underscores: _init_()"
   ]
  },
  {
   "cell_type": "code",
   "execution_count": 14,
   "metadata": {},
   "outputs": [
    {
     "name": "stdout",
     "output_type": "stream",
     "text": [
      "Hola!!\n"
     ]
    }
   ],
   "source": [
    "class MyClass():\n",
    "    def __init__(self,string):\n",
    "        print(string)\n",
    "\n",
    "mc = MyClass(\"Hola!!\")"
   ]
  },
  {
   "cell_type": "markdown",
   "metadata": {},
   "source": [
    "Let's walk through how it works:\n",
    "\n",
    "* We defined the __init__() method inside our class as accepting two arguments: self and string.\n",
    "* Inside the __init__() method, we called the print() function on the string argument.\n",
    "* When we instantiated mc — our MyClass object — we passed \"Hola!\" as an argument. The init function ran immediately, displaying the text \"Hola!\"\n",
    "\n",
    "\n",
    "It's unusual to use print() inside an init method, but it helps us understand that the method has access to any arguments passed when we instantiate an object.\n",
    "\n",
    "The **init method's** most common usage is to **store data as an attribute**:\n"
   ]
  },
  {
   "cell_type": "code",
   "execution_count": 15,
   "metadata": {},
   "outputs": [],
   "source": [
    "class MyClass():\n",
    "    def __init__(self,string):\n",
    "        self.my_attribute = string\n",
    "        \n",
    "mc = MyClass(\"Hola!\")"
   ]
  },
  {
   "cell_type": "markdown",
   "metadata": {},
   "source": [
    "When we instantiate our new object, Python calls the init method, passing in the object:\n",
    "\n"
   ]
  }
 ],
 "metadata": {
  "kernelspec": {
   "display_name": "Python 3",
   "language": "python",
   "name": "python3"
  },
  "language_info": {
   "codemirror_mode": {
    "name": "ipython",
    "version": 3
   },
   "file_extension": ".py",
   "mimetype": "text/x-python",
   "name": "python",
   "nbconvert_exporter": "python",
   "pygments_lexer": "ipython3",
   "version": "3.7.6"
  },
  "toc": {
   "base_numbering": 1,
   "nav_menu": {},
   "number_sections": true,
   "sideBar": true,
   "skip_h1_title": false,
   "title_cell": "Table of Contents",
   "title_sidebar": "Contents",
   "toc_cell": false,
   "toc_position": {},
   "toc_section_display": true,
   "toc_window_display": false
  }
 },
 "nbformat": 4,
 "nbformat_minor": 4
}
