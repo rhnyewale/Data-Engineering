{
 "cells": [
  {
   "cell_type": "markdown",
   "metadata": {},
   "source": [
    "# LIST\n",
    "\n",
    "To retrieve the list slice we want by using the syntax a_list[m:n], where:\n",
    "* m represents the index number of the first element of the slice; and\n",
    "* n represents the index number of the last element of the slice plus one (if the last element has the index number 2, then n will be 3, if the last element has the index number 4, then n will be 5, and so on).\n",
    "\n",
    "<Img src=\"https://github.com/rhnyewale/Data-Engineering/blob/main/Images/Lists.jpg?raw=true\">"
   ]
  },
  {
   "cell_type": "markdown",
   "metadata": {},
   "source": [
    "# Dictionary\n",
    "\n",
    "When we populate a dictionary, we also need to make sure each key in that dictionary is unique. If we use an identical key for two or more different values, Python keeps only the last key-value pair in the dictionary and removes the others — this means that we'll lose data.\n",
    "\n",
    "\n",
    "An odd \"gotcha\" is when we mix integers with Booleans as dictionary keys. The hash() command converts the Boolean True to 1, and the Boolean False to 0. This means the Booleans True and False will conflict with the integers 0 and 1. The dictionary keys won't be unique anymore, and Python will only keep the last key-value pair in cases like that.\n",
    "\n",
    "\n",
    "We can check, for instance, whether the value '12+' exists as a key in the dictionary {'4+': 4433, '9+': 987, '12+': 1155, '17+': 622}. To do that, we use the **in** operator.\n",
    "\n",
    " **The search is done only over the dictionary's keys**\n",
    " \n",
    " **When we iterate over a dictionary with a for loop, the looping is done by default over the dictionary keys**"
   ]
  },
  {
   "cell_type": "markdown",
   "metadata": {},
   "source": [
    "# Tuple\n",
    "\n",
    "Just as a list, a tuple is usually used for storing multiple values. Creating a tuple is similar to creating a list, with the exception that we need to use parentheses () instead of brackets[ ].\n",
    "\n",
    "Just as lists, tuples support positive and negative indexing.\n",
    "\n",
    "The main difference between tuples and lists boils down to whether we can modify the existing values or not. In the case of tuples, we can't modify the existing values, while in the case of lists, we can. Below, we're trying to modify the first value of a list and a tuple.\n",
    "\n",
    "<Img src=\"https://github.com/rhnyewale/Data-Engineering/blob/main/Images/Tuples.PNG?raw=true\">\n",
    "\n",
    "Tuples are called immutable data types because we can't change their state after they've been created. Conversely, lists are mutable data types because their state can be changed after they've been created. The only way we could modify tuples, and immutable data types in general, is by recreating them. This is a list of all the mutable and immutable data types we've learned so far.\n",
    "\n",
    "<Img src=\"https://github.com/rhnyewale/Data-Engineering/blob/main/Images/Mutable_Immutable.PNG?raw=true\">\n",
    "\n",
    "\n",
    "\n"
   ]
  },
  {
   "cell_type": "markdown",
   "metadata": {},
   "source": [
    "# Functions\n",
    "\n",
    "Parameters and return statements are optional.\n",
    "Functions without a return statement don't return any value.\n",
    "However, strictly speaking, they return a None value, which practically represents the absence of a value. The None value is an instance of the NoneType data type (just like 5.321 is an instance of the float data type)."
   ]
  },
  {
   "cell_type": "markdown",
   "metadata": {},
   "source": [
    "# Strings\n",
    "\n",
    "string_var.replace()\n",
    "string_var.title()\n",
    "\n",
    "if not var: (we can use if statement to check if the string is empty)"
   ]
  },
  {
   "cell_type": "markdown",
   "metadata": {},
   "source": [
    "# Set\n",
    "\n",
    "We created a set by separating its values with commas and encompassing it all within curly braces. Note that sets are different from dictionaries. In dictionaries, we have key value pairs between the curly braces; in sets, we just have its elements.\n",
    "\n",
    "We can think of sets as unordered collections of objects **without repetition**.\n",
    "\n",
    "* Unordered because it doesn't matter in which order the elements of a set are arranged upon creation, nor how they are displayed when we print a set\n",
    "\n",
    "* Without repetition because it can't have more than one of each element\n",
    "\n"
   ]
  },
  {
   "cell_type": "markdown",
   "metadata": {},
   "source": [
    "# Object Oriented Programming\n",
    "\n",
    "Python is an object-oriented language.\n",
    "This means almost everything in Python is actually an object; when you're working with Python, you are creating and manipulating objects.\n",
    "\n",
    "As you continue to learn to work with data in Python, you'll encounter objects everywhere:\n",
    "\n",
    "NumPy and pandas — the two libraries essential to working with data in Python — both define a number of their own object types.\n",
    "\n",
    "Matplotlib — which you use to create data visualizations — uses object types to define the charts you create.\n",
    "\n",
    "Scikit-learn — which you use to create machine learning models — uses object types to represent the models you train and make predictions with\n",
    "\n",
    "\n",
    "In OOP, objects have types, but instead of \"type\" we use the word class. So far, we've been using the word \"type\" to describe different variables:\n",
    "\n",
    "* String type\n",
    "* List type\n",
    "* Dictionary type\n",
    "\n",
    "Technically, the correct name for each of these is:\n",
    "\n",
    "* String class\n",
    "* List class\n",
    "* Dictionary class\n",
    "\n",
    "The word class refers to a group of similar things. In OOP, we use the word similarly — a class is a type of object.\n",
    "\n",
    "## Class & Object\n",
    "\n",
    "* An object is an entity that stores data\n",
    "* An object's class defines specific properties objects of that class will have\n",
    "\n",
    "One way to understand the difference between a class and an object in Python is by comparing them to real-world objects. We'll compare Python string objects to Tesla electric cars.\n",
    "\n",
    "There are hundreds of thousands of Tesla cars around the world. Each car is similar in that it is a Tesla — it's not a Ford or Toyota — but at the same time, it is not necessarily identical to other Teslas. We would say that each of the cars are objects that belong to the Tesla class\n",
    "\n",
    "Tesla has a blueprint — or plan — for making their cars. The blueprint defines what the car is, what it does, and how — everything that makes the car unique. That said, the blueprint isn't a car, it's just all the information needed to create the car. Similarly, in Python, we have code blueprints for classes. These blueprints are class definitions\n",
    "\n",
    "We define a class in a very similar way to how we define a function:\n",
    "\n",
    "<Img src=\"https://github.com/rhnyewale/Data-Engineering/blob/main/Images/Class.PNG?raw=true\">\n",
    "    \n",
    "In OOP, we use instance to describe each different object. Let's look at an example:\n",
    "    \n",
    "<Img src=\"\">"
   ]
  },
  {
   "cell_type": "code",
   "execution_count": null,
   "metadata": {},
   "outputs": [],
   "source": []
  }
 ],
 "metadata": {
  "kernelspec": {
   "display_name": "Python 3",
   "language": "python",
   "name": "python3"
  },
  "language_info": {
   "codemirror_mode": {
    "name": "ipython",
    "version": 3
   },
   "file_extension": ".py",
   "mimetype": "text/x-python",
   "name": "python",
   "nbconvert_exporter": "python",
   "pygments_lexer": "ipython3",
   "version": "3.7.6"
  },
  "toc": {
   "base_numbering": 1,
   "nav_menu": {},
   "number_sections": true,
   "sideBar": true,
   "skip_h1_title": false,
   "title_cell": "Table of Contents",
   "title_sidebar": "Contents",
   "toc_cell": false,
   "toc_position": {},
   "toc_section_display": true,
   "toc_window_display": false
  }
 },
 "nbformat": 4,
 "nbformat_minor": 4
}
