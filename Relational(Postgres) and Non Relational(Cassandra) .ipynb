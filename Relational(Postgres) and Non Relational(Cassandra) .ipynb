{
 "cells": [
  {
   "cell_type": "markdown",
   "metadata": {},
   "source": [
    "The goal of the data engineer is to unlock an organization's data ecosystem to a wide group of analysts, data scientists, or any other interested member. Sure, we could share the SQLite file around to every interested user, but what if there were 10,000 people interested in the data? SQLite does not scale well for that use case so we require a better choice.\n",
    "\n",
    "To serve such a vast amount of users, we would be better off using another database engine. In this course we'll use an open source relational database management system (RDBMS) called **Postgres**. Postgres is a much more robust engine that is implemented as a server rather than a single file. As a server, Postgres accepts connections from clients who can run queries like a **SELECT, INSERT**, or any other type of SQL query making the data accessible to a wide range of people.\n",
    "\n",
    "Using this model, Postgres can handle multiple connections to the database solving one of the main data engineering challenges.\n",
    "\n",
    "<Img src=\"https://github.com/rhnyewale/Data-Engineering/blob/main/Images/postgres1.jpg?raw=true\">\n",
    "    \n",
    "The above diagram illustrates the client-server model used by Postgres. Two users, Rose and Bruno can both be connected to the same Postgres server and access the databases it contains.\n",
    "\n",
    "Let's explore necessary skills to interact and manage a Postgres database. This is a fundamental skill that any data engineer should have, as one of the main roles of a data engineer is ensure that data is readily available and stored in a way that makes accessing it easy and efficient. We will start by learning how to connect to a Postgres database and run simple SQL queries.\n",
    "    \n"
   ]
  },
  {
   "cell_type": "markdown",
   "metadata": {},
   "source": [
    "# Introduction\n",
    "Create a table for storing data representing user accounts. The dataset that we will be using is stored in a CSV file named user_accounts.csv. Its data does not correspond to real users, it was randomly generated data using faker.\n",
    "\n",
    "In order to communicate with our Postgres server, we will be using the open source psycopg2 Python library. You can think of **psycopg2** being similar to connecting to a SQLite database using the sqlite3 library.\n",
    "\n",
    "To connect to the database we use the *psycopg2.connect()* function by passing it a string containing the name of the database to which we want to connect to as well as our username. So, to connect to a database named dq using psycopg2, a user named Rose we would do the following:\n",
    "\n",
    "import psycopg2\n",
    "\n",
    "conn = psycopg2.connect(\"dbname=dq user=Rose\")\n",
    "\n",
    "As you see, Rose connects to the database by specifying the database name dbname and a user user in the psycopg2.connect() function. The string \"dbname=dq user=Rose\" is referred to as connection string. In the above example, the connection string specifies that Rose wants to connect to a database named dq using her username, Rose.\n",
    "\n",
    "Because Postgres supports multiple simultaneous connections, Postgres uses multiple users and databases as a way to improve security and division of data. Without those values attached, Postgres will not know who is trying to connect and where so it will fail. Once Rose is connected, she is ready to take advantage of the features Postgres has.\n",
    "\n",
    "Once she's finished doing what she wants to do with the database, Rose should close the connection to avoid leaving useless, resource consuming connections opened. To do so, she can use the connection.close() method:\n",
    "\n",
    "conn.close()"
   ]
  },
  {
   "cell_type": "code",
   "execution_count": 2,
   "metadata": {},
   "outputs": [
    {
     "name": "stdout",
     "output_type": "stream",
     "text": [
      "Collecting psycopg2\n",
      "  Downloading psycopg2-2.8.6-cp37-cp37m-win_amd64.whl (1.1 MB)\n",
      "Installing collected packages: psycopg2\n",
      "Successfully installed psycopg2-2.8.6\n",
      "Note: you may need to restart the kernel to use updated packages.\n"
     ]
    }
   ],
   "source": [
    "pip install psycopg2"
   ]
  },
  {
   "cell_type": "markdown",
   "metadata": {},
   "source": [
    "# Advantages of Using a Relational Database\n",
    "* Flexibility for writing in SQL queries: With SQL being the most common database query language.\n",
    "* Modeling the data not modeling queries\n",
    "* Ability to do JOINS\n",
    "* Ability to do aggregations and analytics\n",
    "* Secondary Indexes available : You have the advantage of being able to add another index to help with quick searching.\n",
    "* Smaller data volumes: If you have a smaller data volume (and not big data) you can use a relational database for its simplicity.\n",
    "* ACID Transactions: Allows you to meet a set of properties of database transactions intended to guarantee validity even in the event of errors, power failures, and thus maintain data integrity.\n",
    "* Easier to change to business requirements\n",
    "\n",
    "\n",
    "# ACID Transactions\n",
    "Properties of database transactions intended to guarantee validity even in the event of errors or power failures.\n",
    "\n",
    "* **Atomicity**: The whole transaction is processed or nothing is processed. A commonly cited example of an atomic transaction is money transactions between two bank accounts. The transaction of transferring money from one account to the other is made up of two operations. First, you have to withdraw money in one account, and second you have to save the withdrawn money to the second account. An atomic transaction, i.e., when either all operations occur or nothing occurs, keeps the database in a consistent state. This ensures that if either of those two operations (withdrawing money from the 1st account or saving the money to the 2nd account) fail, the money is neither lost nor created. Source Wikipedia for a detailed description of this example.\n",
    "\n",
    "\n",
    "\n",
    "* **Consistency**: Only transactions that abide by constraints and rules are written into the database, otherwise the database keeps the previous state. The data should be correct across all rows and tables. Check out additional information about consistency on Wikipedia.\n",
    "\n",
    "\n",
    "* **Isolation**: Transactions are processed independently and securely, order does not matter. A low level of isolation enables many users to access the data simultaneously, however this also increases the possibilities of concurrency effects (e.g., dirty reads or lost updates). On the other hand, a high level of isolation reduces these chances of concurrency effects, but also uses more system resources and transactions blocking each other. Source: Wikipedia\n",
    "\n",
    "* **Durability**: Completed transactions are saved to database even in cases of system failure. A commonly cited example includes tracking flight seat bookings. So once the flight booking records a confirmed seat booking, the seat remains booked even if a system failure occurs.\n",
    "Source: Wikipedia.\n",
    "\n",
    "\n",
    "# When Not to Use a Relational Database\n",
    "* Have large amounts of data: Relational Databases are not distributed databases and because of this they can only scale vertically by adding more storage in the machine itself. You are limited by how much you can scale and how much data you can store on one machine. You cannot add more machines like you can in NoSQL databases.\n",
    "* Need to be able to store different data type formats: Relational databases are not designed to handle unstructured data.\n",
    "* Need high throughput -- fast reads: While ACID transactions bring benefits, they also slow down the process of reading and writing data. If you need very fast reads and writes, using a relational database may not suit your needs.\n",
    "* Need a flexible schema: Flexible schema can allow for columns to be added that do not have to be used by every row, saving disk space.\n",
    "* Need high availability: The fact that relational databases are not distributed (and even when they are, they have a coordinator/worker architecture), they have a single point of failure. When that database goes down, a fail-over to a backup system occurs and takes time.\n",
    "* Need horizontal scalability: Horizontal scalability is the ability to add more machines or nodes to a system to increase performance and space for data.\n",
    "\n"
   ]
  },
  {
   "cell_type": "code",
   "execution_count": 1,
   "metadata": {},
   "outputs": [],
   "source": [
    "import psycopg2"
   ]
  },
  {
   "cell_type": "code",
   "execution_count": 14,
   "metadata": {},
   "outputs": [],
   "source": [
    "try:\n",
    "    conn = psycopg2.connect(\"dbname=demoDB user=postgres password=123\")\n",
    "except psycopg2.Error as e:\n",
    "    print(\"Error:Could not make connection to Postgres Database\")\n",
    "    printt(e)"
   ]
  },
  {
   "cell_type": "markdown",
   "metadata": {},
   "source": [
    "Next use that connect to get a cursor that we will use to execute queries"
   ]
  },
  {
   "cell_type": "code",
   "execution_count": 15,
   "metadata": {
    "scrolled": true
   },
   "outputs": [],
   "source": [
    "try:\n",
    "    cur = conn.cursor()\n",
    "except psycopg2.Error as e:\n",
    "    print(\"Error:Could not get cursor to Postgres Database\")\n",
    "    printt(e)"
   ]
  },
  {
   "cell_type": "code",
   "execution_count": 16,
   "metadata": {},
   "outputs": [],
   "source": [
    "conn.set_session(autocommit=True)"
   ]
  },
  {
   "cell_type": "code",
   "execution_count": 17,
   "metadata": {},
   "outputs": [],
   "source": [
    "try:\n",
    "    cur.execute(\"create database udacity\")\n",
    "except psycopg2.Error as e:\n",
    "    print(e)"
   ]
  },
  {
   "cell_type": "code",
   "execution_count": 22,
   "metadata": {},
   "outputs": [],
   "source": [
    "try:\n",
    "    conn.close()\n",
    "except psycopg2.Error as e:\n",
    "    print(e)\n",
    "    \n",
    "try:\n",
    "    conn = psycopg2.connect(\"dbname=udacity user=postgres password=123\")\n",
    "except psycopg2.Error as e:\n",
    "    print(\"Error:Could not make connection to the Postgres Database\")\n",
    "    print(e)\n",
    "    \n",
    "try:\n",
    "    cur=conn.cursor()\n",
    "except psycopg2.Error as e:\n",
    "    print(\"Error:Could not get cursor to Postgres Database\")\n",
    "    printt(e)\n",
    "    \n",
    "conn.set_session(autocommit=True)"
   ]
  },
  {
   "cell_type": "code",
   "execution_count": 24,
   "metadata": {},
   "outputs": [],
   "source": [
    "try:\n",
    "    cur.execute(\"CREATE TABLE IF NOT EXISTS music_library(album_name varchar,artist_name varchar,year int);\")\n",
    "except psycopg2.Error as e:\n",
    "    print(\"Error: Issue creating Table\")\n",
    "    print(e)"
   ]
  },
  {
   "cell_type": "code",
   "execution_count": 27,
   "metadata": {},
   "outputs": [],
   "source": [
    "try:\n",
    "    cur.execute(\"select count(*) from music_library\")\n",
    "except psycopg2.Error as e:\n",
    "    print(\"Error: Issue creating Table\")\n",
    "    print(e)"
   ]
  },
  {
   "cell_type": "code",
   "execution_count": 28,
   "metadata": {},
   "outputs": [
    {
     "name": "stdout",
     "output_type": "stream",
     "text": [
      "[(0,)]\n"
     ]
    }
   ],
   "source": [
    "print(cur.fetchall())"
   ]
  },
  {
   "cell_type": "code",
   "execution_count": 32,
   "metadata": {},
   "outputs": [],
   "source": [
    "try:\n",
    "    cur.execute(\"INSERT INTO music_library (album_name, artist_name, year) \\\n",
    "    VALUES (%s, %s, %s)\",\\\n",
    "                (\"Let It be\",\"The Beatles\",1970))\n",
    "except psycopg2.Error as e:\n",
    "    print(\"Error: Inserting Rows\")\n",
    "    print(e)"
   ]
  },
  {
   "cell_type": "code",
   "execution_count": 33,
   "metadata": {},
   "outputs": [],
   "source": [
    "try:\n",
    "    cur.execute(\"INSERT INTO music_library (album_name, artist_name, year) \\\n",
    "    VALUES (%s, %s, %s)\",\\\n",
    "                (\"Rubber Soul\",\"The Beatles\",1965))\n",
    "except psycopg2.Error as e:\n",
    "    print(\"Error: Inserting Rows\")\n",
    "    print(e)"
   ]
  },
  {
   "cell_type": "code",
   "execution_count": 34,
   "metadata": {},
   "outputs": [
    {
     "name": "stdout",
     "output_type": "stream",
     "text": [
      "('Let It be', 'The Beatles', 1970)\n",
      "('Rubber Soul', 'The Beatles', 1965)\n"
     ]
    }
   ],
   "source": [
    "try:\n",
    "    cur.execute(\"SELECT * from music_library;\")\n",
    "except psycopg2.Error as e:\n",
    "    print(\"Error: Select *\")\n",
    "    print(e)\n",
    "    \n",
    "row = cur.fetchone()\n",
    "while row:\n",
    "    print(row)\n",
    "    row = cur.fetchone()"
   ]
  },
  {
   "cell_type": "code",
   "execution_count": 35,
   "metadata": {},
   "outputs": [],
   "source": [
    "try:\n",
    "    cur.execute(\"DROP table music_library\")\n",
    "except psycopg2.Error as e:\n",
    "    print(\"Error: Dropping Table\")\n",
    "    print(e)"
   ]
  },
  {
   "cell_type": "code",
   "execution_count": 36,
   "metadata": {},
   "outputs": [],
   "source": [
    "cur.close()\n",
    "conn.close()"
   ]
  },
  {
   "cell_type": "markdown",
   "metadata": {},
   "source": [
    "# When to use a NoSQL Database\n",
    "* **Need to be able to store different data type formats:** NoSQL was also created to handle different data configurations: structured, semi-structured, and unstructured data. JSON, XML documents can all be handled easily with NoSQL.\n",
    "* **Large amounts of data:** Relational Databases are not distributed databases and because of this they can only scale vertically by adding more storage in the machine itself. NoSQL databases were created to be able to be horizontally scalable. The more servers/systems you add to the database the more data that can be hosted with high availability and low latency (fast reads and writes).\n",
    "* **Need horizontal scalability:** Horizontal scalability is the ability to add more machines or nodes to a system to increase performance and space for data\n",
    "* **Need high throughput:** While ACID transactions bring benefits they also slow down the process of reading and writing data. If you need very fast reads and writes using a relational database may not suit your needs.\n",
    "* **Need a flexible schema:** Flexible schema can allow for columns to be added that do not have to be used by every row, saving disk space.\n",
    "* **Need high availability:** Relational databases have a single point of failure. When that database goes down, a failover to a backup system must happen and takes time.\n",
    "\n",
    "# When NOT to use a NoSQL Database?\n",
    "* **When you have a small dataset:** NoSQL databases were made for big datasets not small datasets and while it works it wasn’t created for that.\n",
    "* **When you need ACID Transactions:** If you need a consistent database with ACID transactions, then most NoSQL databases will not be able to serve this need. NoSQL database are eventually consistent and do not provide ACID transactions. However, there are exceptions to it. Some non-relational databases like MongoDB can support ACID transactions.\n",
    "* **When you need the ability to do JOINS across tables:** NoSQL does not allow the ability to do JOINS. This is not allowed as this will result in full table scans.\n",
    "If you want to be able to do aggregations and analytics\n",
    "* **If you have changing business requirements :** Ad-hoc queries are possible but difficult as the data model was done to fix particular queries\n",
    "* **If your queries are not available and you need the flexibility :** You need your queries in advance. If those are not available or you will need to be able to have flexibility on how you query your data you might need to stick with a relational database"
   ]
  },
  {
   "cell_type": "code",
   "execution_count": 39,
   "metadata": {},
   "outputs": [
    {
     "name": "stdout",
     "output_type": "stream",
     "text": [
      "Collecting cassandra-driver\n",
      "  Downloading cassandra_driver-3.25.0-cp37-cp37m-win_amd64.whl (2.7 MB)\n",
      "Collecting geomet<0.3,>=0.1\n",
      "  Downloading geomet-0.2.1.post1-py3-none-any.whl (18 kB)\n",
      "Requirement already satisfied: six>=1.9 in c:\\users\\rhnye\\anaconda3\\lib\\site-packages (from cassandra-driver) (1.14.0)\n",
      "Requirement already satisfied: click in c:\\users\\rhnye\\anaconda3\\lib\\site-packages (from geomet<0.3,>=0.1->cassandra-driver) (7.0)\n",
      "Installing collected packages: geomet, cassandra-driver\n",
      "Successfully installed cassandra-driver-3.25.0 geomet-0.2.1.post1\n",
      "Note: you may need to restart the kernel to use updated packages.\n"
     ]
    }
   ],
   "source": [
    "pip install cassandra-driver"
   ]
  },
  {
   "cell_type": "code",
   "execution_count": 1,
   "metadata": {},
   "outputs": [],
   "source": [
    "import cassandra"
   ]
  },
  {
   "cell_type": "code",
   "execution_count": 23,
   "metadata": {},
   "outputs": [],
   "source": [
    "from cassandra.cluster import Cluster\n",
    "try:\n",
    "    cluster= Cluster(['127.0.0.1'])\n",
    "    session=cluster.connect()\n",
    "except Exception as e:\n",
    "    print(e)"
   ]
  },
  {
   "cell_type": "code",
   "execution_count": 24,
   "metadata": {},
   "outputs": [
    {
     "name": "stdout",
     "output_type": "stream",
     "text": [
      "<Error from server: code=2000 [Syntax error in CQL query] message=\"line 1:28 mismatched character '<EOF>' expecting '\"'\">\n"
     ]
    }
   ],
   "source": [
    "try:\n",
    "    session.execute(\"\"\"\"select * from music_library\"\"\")\n",
    "except Exception as e:\n",
    "    print(e)"
   ]
  },
  {
   "cell_type": "markdown",
   "metadata": {},
   "source": [
    "## Lets create a keyspace"
   ]
  },
  {
   "cell_type": "code",
   "execution_count": 25,
   "metadata": {},
   "outputs": [],
   "source": [
    "try:\n",
    "    session.execute(\"\"\"\n",
    "    CREATE KEYSPACE IF NOT EXISTS udacity\n",
    "    WITH REPLICATION = \n",
    "    {'class':'SimpleStrategy', 'replication_factor':1}\"\"\"\n",
    "    )\n",
    "except Exception as e:\n",
    "    print(e)"
   ]
  },
  {
   "cell_type": "markdown",
   "metadata": {},
   "source": [
    "Connect to our keyspace same as we had to create new session in postgres"
   ]
  },
  {
   "cell_type": "code",
   "execution_count": 26,
   "metadata": {},
   "outputs": [],
   "source": [
    "try:\n",
    "    session.set_keyspace('udacity')\n",
    "except Exception as e:\n",
    "    print(e)"
   ]
  },
  {
   "cell_type": "code",
   "execution_count": 27,
   "metadata": {},
   "outputs": [],
   "source": [
    "# Create a Table\n",
    "\n",
    "query = \"CREATE TABLE IF NOT EXISTS music_library\"\n",
    "query = query+\"(year int, artist_name text, album_name text, PRIMARY KEY(year, artist_name))\"\n",
    "try:\n",
    "    session.execute(query)\n",
    "except Exception as e:\n",
    "    print(e)"
   ]
  },
  {
   "cell_type": "code",
   "execution_count": 28,
   "metadata": {},
   "outputs": [
    {
     "name": "stdout",
     "output_type": "stream",
     "text": [
      "Row(count=0)\n"
     ]
    }
   ],
   "source": [
    "# Lets check if table is created \n",
    "query = \"select count(*) from music_library\"\n",
    "try:\n",
    "    count = session.execute(query)\n",
    "except Exception as e:\n",
    "    print(e)\n",
    "\n",
    "print(count.one())"
   ]
  },
  {
   "cell_type": "code",
   "execution_count": 29,
   "metadata": {},
   "outputs": [],
   "source": [
    "# Insert 2 Rows\n",
    "query = \"INSERT INTO music_library(year,artist_name,album_name)\"\n",
    "query = query + \"VALUES(%s, %s, %s)\"\n",
    "\n",
    "try:\n",
    "    session.execute(query,(1970,\"The Beatles\",\"Let it Be\"))\n",
    "except Exception as e:\n",
    "    print(e)\n",
    "    \n",
    "try:\n",
    "    session.execute(query,(1965,\"The Beatles\",\"Rubber Soul\"))\n",
    "except Exception as e:\n",
    "    print(e)"
   ]
  },
  {
   "cell_type": "code",
   "execution_count": 30,
   "metadata": {},
   "outputs": [
    {
     "name": "stdout",
     "output_type": "stream",
     "text": [
      "1965 Rubber Soul The Beatles\n",
      "1970 Let it Be The Beatles\n"
     ]
    }
   ],
   "source": [
    "query = 'SELECT * FROM music_library'\n",
    "try:\n",
    "    rows = session.execute(query)\n",
    "except Exception as e:\n",
    "    print(e)\n",
    "    \n",
    "for row in rows:\n",
    "    print(row.year, row.album_name, row.artist_name)"
   ]
  },
  {
   "cell_type": "code",
   "execution_count": 31,
   "metadata": {},
   "outputs": [
    {
     "name": "stdout",
     "output_type": "stream",
     "text": [
      "<cassandra.cluster.ResultSet object at 0x000002043E8304C8>\n"
     ]
    }
   ],
   "source": [
    "print(rows)"
   ]
  },
  {
   "cell_type": "code",
   "execution_count": 35,
   "metadata": {},
   "outputs": [
    {
     "name": "stdout",
     "output_type": "stream",
     "text": [
      "1970 Let it Be The Beatles\n"
     ]
    }
   ],
   "source": [
    "query = \"SELECT * FROM music_library WHERE year=1970 AND artist_name='The Beatles'\"\n",
    "try:\n",
    "    rows = session.execute(query)\n",
    "except Exception as e:\n",
    "    print(e)\n",
    "    \n",
    "for row in rows:\n",
    "    print(row.year, row.album_name, row.artist_name)"
   ]
  },
  {
   "cell_type": "code",
   "execution_count": 36,
   "metadata": {},
   "outputs": [],
   "source": [
    "query = 'drop table music_library'\n",
    "try:\n",
    "    rows = session.execute(query)\n",
    "except Exception as e:\n",
    "    print(e)"
   ]
  },
  {
   "cell_type": "code",
   "execution_count": 37,
   "metadata": {},
   "outputs": [],
   "source": [
    "session.shutdown()\n",
    "cluster.shutdown()"
   ]
  },
  {
   "cell_type": "code",
   "execution_count": null,
   "metadata": {},
   "outputs": [],
   "source": []
  }
 ],
 "metadata": {
  "kernelspec": {
   "display_name": "Python 3",
   "language": "python",
   "name": "python3"
  },
  "language_info": {
   "codemirror_mode": {
    "name": "ipython",
    "version": 3
   },
   "file_extension": ".py",
   "mimetype": "text/x-python",
   "name": "python",
   "nbconvert_exporter": "python",
   "pygments_lexer": "ipython3",
   "version": "3.7.6"
  },
  "toc": {
   "base_numbering": 1,
   "nav_menu": {},
   "number_sections": true,
   "sideBar": true,
   "skip_h1_title": false,
   "title_cell": "Table of Contents",
   "title_sidebar": "Contents",
   "toc_cell": false,
   "toc_position": {},
   "toc_section_display": true,
   "toc_window_display": false
  }
 },
 "nbformat": 4,
 "nbformat_minor": 4
}
