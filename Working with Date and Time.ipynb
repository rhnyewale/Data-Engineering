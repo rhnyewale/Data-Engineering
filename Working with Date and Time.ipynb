{
 "cells": [
  {
   "cell_type": "markdown",
   "metadata": {},
   "source": [
    "In the Working with Strings in Python mission, we worked with simple dates: the year in which an artist produced each piece of art as well as that artist's year of birth and death. These year values were represented as integers, which made them easy to work with. Unfortunately, working with date/time data is often a lot more complex:\n",
    "\n",
    "* Where you have a compound date format, like January 1, 1901, separating each component value and converting it to its numeric form is cumbersome.\n",
    "* There are many different formats, e.g. 12-hour time versus 24-hour time.\n",
    "* Adding and subtracting across date/time boundaries isn't easy — for instance, if I wanted to add 1 hour 35 minutes to the time 32 minutes, we need to account for the fact that there are 60 minutes in an hour to be able to come up with the correct answer, 2 hours 7 minutes.\n",
    "\n",
    "\n",
    "Luckily, Python comes with functionality that makes working with dates and times easier\n",
    "\n",
    "Python has three standard modules that are designed to help working with dates and times:\n",
    "\n",
    "* The calendar module\n",
    "* The time module\n",
    "* The datetime module\n",
    "\n",
    "The datetime module contains a number of classes, including:\n",
    "\n",
    "* datetime.datetime: For working with date and time data.\n",
    "* datetime.time: For working with time data only.\n",
    "* datetime.timedelta: For representing time periods."
   ]
  },
  {
   "cell_type": "code",
   "execution_count": null,
   "metadata": {},
   "outputs": [],
   "source": []
  }
 ],
 "metadata": {
  "kernelspec": {
   "display_name": "Python 3",
   "language": "python",
   "name": "python3"
  },
  "language_info": {
   "codemirror_mode": {
    "name": "ipython",
    "version": 3
   },
   "file_extension": ".py",
   "mimetype": "text/x-python",
   "name": "python",
   "nbconvert_exporter": "python",
   "pygments_lexer": "ipython3",
   "version": "3.7.6"
  },
  "toc": {
   "base_numbering": 1,
   "nav_menu": {},
   "number_sections": true,
   "sideBar": true,
   "skip_h1_title": false,
   "title_cell": "Table of Contents",
   "title_sidebar": "Contents",
   "toc_cell": false,
   "toc_position": {},
   "toc_section_display": true,
   "toc_window_display": false
  }
 },
 "nbformat": 4,
 "nbformat_minor": 4
}
