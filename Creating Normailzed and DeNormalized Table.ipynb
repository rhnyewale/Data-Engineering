{
 "cells": [
  {
   "cell_type": "markdown",
   "metadata": {},
   "source": [
    "# Normalization"
   ]
  },
  {
   "cell_type": "code",
   "execution_count": 2,
   "metadata": {},
   "outputs": [],
   "source": [
    "import psycopg2"
   ]
  },
  {
   "cell_type": "code",
   "execution_count": 39,
   "metadata": {},
   "outputs": [],
   "source": [
    "try:\n",
    "    conn = psycopg2.connect(\"dbname=udacity user=postgres password=123\")\n",
    "except psycopg2.Error as e:\n",
    "    print(\"Error: Could not make connection to the Postgres database\")\n",
    "    print(e)\n",
    "\n",
    "try:\n",
    "    cur=conn.cursor()\n",
    "except psycopg2.Error as e:\n",
    "    print(\"Error: Could not get cursor to the dataase\")\n",
    "    print(e)\n",
    "\n",
    "conn.set_session(autocommit=True)"
   ]
  },
  {
   "cell_type": "code",
   "execution_count": 6,
   "metadata": {},
   "outputs": [
    {
     "name": "stdout",
     "output_type": "stream",
     "text": [
      "(1, 'Rubber Soul', 'The Beattles', 1965, ['Michelle', 'Think For Yourself', 'In My Life'])\n",
      "(2, 'Let It Be', 'The Beattles', 1970, ['Let It Be', 'Across The Universe'])\n"
     ]
    }
   ],
   "source": [
    "try:\n",
    "    cur.execute(\"CREATE TABLE IF NOT EXISTS music_library(album_id int,album_name varchar, artist_name varchar, year int, songs text[]);\")\n",
    "except psycopg2.Error as e:\n",
    "    print(\"Error: Issue creating table\")\n",
    "    print(e)\n",
    "    \n",
    "#Inserting Rows\n",
    "try:\n",
    "    cur.execute(\"INSERT INTO music_library(album_id, album_name,artist_name,year,songs)\\\n",
    "                VALUES (%s, %s, %s, %s, %s)\",\\\n",
    "               (1,\"Rubber Soul\", \"The Beattles\",1965,[\"Michelle\",\"Think For Yourself\",\"In My Life\"]))\n",
    "except psycopg2.Error as e:\n",
    "    print(\"Error:Inserting Rows\")\n",
    "    print(e)\n",
    "\n",
    "\n",
    "try:\n",
    "    cur.execute(\"INSERT INTO music_library(album_id, album_name,artist_name,year,songs)\\\n",
    "                VALUES (%s, %s, %s, %s, %s)\",\\\n",
    "               (2,\"Let It Be\", \"The Beattles\",1970,[\"Let It Be\",\"Across The Universe\"]))\n",
    "except psycopg2.Error as e:\n",
    "    print(\"Error:Inserting Rows\")\n",
    "    print(e)\n",
    "\n",
    "    \n",
    "try:\n",
    "    cur.execute(\"SELECT * FROM music_library;\")\n",
    "except psycopg2.Error as e:\n",
    "    print(\"Error: Select *\")\n",
    "    print(e)\n",
    "    \n",
    "row = cur.fetchone()\n",
    "while row:\n",
    "    print(row)\n",
    "    row = cur.fetchone()\n"
   ]
  },
  {
   "cell_type": "markdown",
   "metadata": {},
   "source": [
    "## 1st Normal Form (1NF)"
   ]
  },
  {
   "cell_type": "code",
   "execution_count": 7,
   "metadata": {},
   "outputs": [
    {
     "name": "stdout",
     "output_type": "stream",
     "text": [
      "(1, 'Rubber Soul', 'The Beattles', 1965, 'Michelle')\n",
      "(1, 'Rubber Soul', 'The Beattles', 1965, 'Think For Yourself')\n",
      "(1, 'Rubber Soul', 'The Beattles', 1965, 'In My Life')\n",
      "(2, 'Let It Be', 'The Beattles', 1970, 'Let It Be')\n",
      "(2, 'Let It Be', 'The Beattles', 1970, 'Across The Universe')\n"
     ]
    }
   ],
   "source": [
    "try:\n",
    "    cur.execute(\"CREATE TABLE IF NOT EXISTS music_library2(album_id int,album_name varchar, artist_name varchar, year int, song_name varchar);\")\n",
    "except psycopg2.Error as e:\n",
    "    print(\"Error: Issue creating table\")\n",
    "    print(e)\n",
    "    \n",
    "#Inserting Rows\n",
    "try:\n",
    "    cur.execute(\"INSERT INTO music_library2(album_id, album_name,artist_name,year,song_name)\\\n",
    "                VALUES (%s, %s, %s, %s, %s)\",\\\n",
    "               (1,\"Rubber Soul\", \"The Beattles\",1965,\"Michelle\"))\n",
    "except psycopg2.Error as e:\n",
    "    print(\"Error:Inserting Rows\")\n",
    "    print(e)\n",
    "\n",
    "try:\n",
    "    cur.execute(\"INSERT INTO music_library2(album_id, album_name,artist_name,year,song_name)\\\n",
    "                VALUES (%s, %s, %s, %s, %s)\",\\\n",
    "               (1,\"Rubber Soul\", \"The Beattles\",1965,\"Think For Yourself\"))\n",
    "except psycopg2.Error as e:\n",
    "    print(\"Error:Inserting Rows\")\n",
    "    print(e)\n",
    "\n",
    "try:\n",
    "    cur.execute(\"INSERT INTO music_library2(album_id, album_name,artist_name,year,song_name)\\\n",
    "                VALUES (%s, %s, %s, %s, %s)\",\\\n",
    "               (1,\"Rubber Soul\", \"The Beattles\",1965,\"In My Life\"))\n",
    "except psycopg2.Error as e:\n",
    "    print(\"Error:Inserting Rows\")\n",
    "    print(e)\n",
    "\n",
    "\n",
    "try:\n",
    "    cur.execute(\"INSERT INTO music_library2(album_id, album_name,artist_name,year,song_name)\\\n",
    "                VALUES (%s, %s, %s, %s, %s)\",\\\n",
    "               (2,\"Let It Be\", \"The Beattles\",1970,\"Let It Be\"))\n",
    "except psycopg2.Error as e:\n",
    "    print(\"Error:Inserting Rows\")\n",
    "    print(e)\n",
    "\n",
    "try:\n",
    "    cur.execute(\"INSERT INTO music_library2(album_id, album_name,artist_name,year,song_name)\\\n",
    "                VALUES (%s, %s, %s, %s, %s)\",\\\n",
    "               (2,\"Let It Be\", \"The Beattles\",1970,\"Across The Universe\"))\n",
    "except psycopg2.Error as e:\n",
    "    print(\"Error:Inserting Rows\")\n",
    "    print(e)\n",
    "\n",
    "    \n",
    "try:\n",
    "    cur.execute(\"SELECT * FROM music_library2;\")\n",
    "except psycopg2.Error as e:\n",
    "    print(\"Error: Select *\")\n",
    "    print(e)\n",
    "    \n",
    "row = cur.fetchone()\n",
    "while row:\n",
    "    print(row)\n",
    "    row = cur.fetchone()\n"
   ]
  },
  {
   "cell_type": "markdown",
   "metadata": {},
   "source": [
    "## 2nd Normal Form 2NF"
   ]
  },
  {
   "cell_type": "code",
   "execution_count": 12,
   "metadata": {},
   "outputs": [],
   "source": [
    "# cur.execute(\"DROP TABLE album_library\")"
   ]
  },
  {
   "cell_type": "code",
   "execution_count": 14,
   "metadata": {},
   "outputs": [],
   "source": [
    "try:\n",
    "    cur.execute(\"CREATE TABLE IF NOT EXISTS album_library(album_id int,album_name varchar, artist_name varchar, year int);\")\n",
    "except psycopg2.Error as e:\n",
    "    print(\"Error: Issue creating table\")\n",
    "    print(e)\n",
    "    \n",
    "#Inserting Rows\n",
    "try:\n",
    "    cur.execute(\"INSERT INTO album_library(album_id, album_name,artist_name,year)\\\n",
    "                VALUES (%s, %s, %s, %s)\",\\\n",
    "               (1,\"Rubber Soul\", \"The Beattles\",1965))\n",
    "except psycopg2.Error as e:\n",
    "    print(\"Error:Inserting Rows\")\n",
    "    print(e)\n",
    "\n",
    "try:\n",
    "    cur.execute(\"INSERT INTO album_library(album_id, album_name,artist_name,year)\\\n",
    "                VALUES (%s, %s, %s, %s)\",\\\n",
    "               (2,\"Let It Be\", \"The Beattles\",1970))\n",
    "except psycopg2.Error as e:\n",
    "    print(\"Error:Inserting Rows\")\n",
    "    print(e)"
   ]
  },
  {
   "cell_type": "code",
   "execution_count": 15,
   "metadata": {},
   "outputs": [
    {
     "name": "stdout",
     "output_type": "stream",
     "text": [
      "(1, 'Rubber Soul', 'The Beattles', 1965)\n",
      "(2, 'Let It Be', 'The Beattles', 1970)\n"
     ]
    }
   ],
   "source": [
    "try:\n",
    "    cur.execute(\"SELECT * FROM album_library;\")\n",
    "except psycopg2.Error as e:\n",
    "    print(\"Error: Select *\")\n",
    "    print(e)\n",
    "    \n",
    "row = cur.fetchone()\n",
    "while row:\n",
    "    print(row)\n",
    "    row = cur.fetchone()"
   ]
  },
  {
   "cell_type": "code",
   "execution_count": 32,
   "metadata": {},
   "outputs": [],
   "source": [
    "cur.execute(\"DROP TABLE song_library\")"
   ]
  },
  {
   "cell_type": "code",
   "execution_count": 33,
   "metadata": {},
   "outputs": [],
   "source": [
    "try:\n",
    "    cur.execute(\"CREATE TABLE IF NOT EXISTS song_library(song_id int, album_id int, song_name varchar);\")\n",
    "except psycopg2.Error as e:\n",
    "    print(\"Error: Issue creating table\")\n",
    "    print(e)\n",
    "    \n",
    "#Inserting Rows\n",
    "try:\n",
    "    cur.execute(\"INSERT INTO song_library(song_id, album_id, song_name)\\\n",
    "                VALUES (%s, %s, %s)\",\\\n",
    "               (1,1,\"Michelle\"))\n",
    "except psycopg2.Error as e:\n",
    "    print(\"Error:Inserting Rows\")\n",
    "    print(e)\n",
    "    \n",
    "try:\n",
    "    cur.execute(\"INSERT INTO song_library(song_id, album_id, song_name)\\\n",
    "                VALUES (%s, %s, %s)\",\\\n",
    "               (2,1,\"Think For Yourself\"))\n",
    "except psycopg2.Error as e:\n",
    "    print(\"Error:Inserting Rows\")\n",
    "    print(e)\n",
    "\n",
    "try:\n",
    "    cur.execute(\"INSERT INTO song_library(song_id, album_id, song_name)\\\n",
    "                VALUES (%s, %s, %s)\",\\\n",
    "               (3,2,\"In My Life\"))\n",
    "except psycopg2.Error as e:\n",
    "    print(\"Error:Inserting Rows\")\n",
    "    print(e)\n",
    "\n",
    "try:\n",
    "    cur.execute(\"INSERT INTO song_library(song_id, album_id, song_name)\\\n",
    "                VALUES (%s, %s, %s)\",\\\n",
    "               (4,2,\"Let It Be\"))\n",
    "except psycopg2.Error as e:\n",
    "    print(\"Error:Inserting Rows\")\n",
    "    print(e)\n",
    "\n",
    "try:\n",
    "    cur.execute(\"INSERT INTO song_library(song_id, album_id, song_name)\\\n",
    "                VALUES (%s, %s, %s)\",\\\n",
    "               (5,2,\"Across the Universe\"))\n",
    "except psycopg2.Error as e:\n",
    "    print(\"Error:Inserting Rows\")\n",
    "    print(e)\n",
    "\n"
   ]
  },
  {
   "cell_type": "code",
   "execution_count": 34,
   "metadata": {},
   "outputs": [
    {
     "name": "stdout",
     "output_type": "stream",
     "text": [
      "\n",
      "Table: song_library\n",
      "\n",
      "(1, 1, 'Michelle')\n",
      "(2, 1, 'Think For Yourself')\n",
      "(3, 2, 'In My Life')\n",
      "(4, 2, 'Let It Be')\n",
      "(5, 2, 'Across the Universe')\n"
     ]
    }
   ],
   "source": [
    "print(\"\\nTable: song_library\\n\")\n",
    "try:\n",
    "    cur.execute(\"SELECT * FROM song_library;\")\n",
    "except psycopg2.Error as e:\n",
    "    print(\"Error: Select *\")\n",
    "    print(e)\n",
    "    \n",
    "row = cur.fetchone()\n",
    "while row:\n",
    "    print(row)\n",
    "    row = cur.fetchone()\n"
   ]
  },
  {
   "cell_type": "code",
   "execution_count": 17,
   "metadata": {},
   "outputs": [
    {
     "name": "stdout",
     "output_type": "stream",
     "text": [
      "(1, 'Rubber Soul', 'The Beattles', 1965, 1, 1, 'Michelle')\n",
      "(1, 'Rubber Soul', 'The Beattles', 1965, 3, 1, 'In My Life')\n",
      "(2, 'Let It Be', 'The Beattles', 1970, 2, 2, 'Think For Yourself')\n",
      "(2, 'Let It Be', 'The Beattles', 1970, 4, 2, 'Let It Be')\n"
     ]
    }
   ],
   "source": [
    "# JOIN\n",
    "try:\n",
    "    cur.execute(\"SELECT * FROM album_library \\\n",
    "                 JOIN song_library \\\n",
    "                 ON album_library.album_id = song_library.album_id;\")\n",
    "except psycopg2.Error as e:\n",
    "    print(\"Error: select *\")\n",
    "    print(e)\n",
    "    \n",
    "row = cur.fetchone()\n",
    "while row:\n",
    "    print(row)\n",
    "    row = cur.fetchone()"
   ]
  },
  {
   "cell_type": "markdown",
   "metadata": {},
   "source": [
    "## 3rd Normal Form (3NF)"
   ]
  },
  {
   "cell_type": "markdown",
   "metadata": {},
   "source": [
    "**Create Table album_library**"
   ]
  },
  {
   "cell_type": "code",
   "execution_count": 19,
   "metadata": {},
   "outputs": [],
   "source": [
    "try:\n",
    "    cur.execute(\"CREATE TABLE IF NOT EXISTS album_library2(album_id int,album_name varchar, artist_id int, year int);\")\n",
    "except psycopg2.Error as e:\n",
    "    print(\"Error: Issue creating table\")\n",
    "    print(e)\n",
    "    \n",
    "#Inserting Rows\n",
    "try:\n",
    "    cur.execute(\"INSERT INTO album_library2(album_id, album_name,artist_id,year)\\\n",
    "                VALUES (%s, %s, %s, %s)\",\\\n",
    "               (1,\"Rubber Soul\",1,1965))\n",
    "except psycopg2.Error as e:\n",
    "    print(\"Error:Inserting Rows\")\n",
    "    print(e)\n",
    "\n",
    "try:\n",
    "    cur.execute(\"INSERT INTO album_library2(album_id, album_name,artist_id,year)\\\n",
    "                VALUES (%s, %s, %s, %s)\",\\\n",
    "               (2,\"Let It Be\",1,1970))\n",
    "except psycopg2.Error as e:\n",
    "    print(\"Error:Inserting Rows\")\n",
    "    print(e)"
   ]
  },
  {
   "cell_type": "code",
   "execution_count": 23,
   "metadata": {},
   "outputs": [],
   "source": [
    "try:\n",
    "    cur.execute(\"SELECT * FROM album_library2\")\n",
    "except psycopg2.Error as e:\n",
    "    print(e)"
   ]
  },
  {
   "cell_type": "code",
   "execution_count": 24,
   "metadata": {},
   "outputs": [
    {
     "name": "stdout",
     "output_type": "stream",
     "text": [
      "\n",
      "Table: album_library2\n",
      "(1, 'Rubber Soul', 1, 1965)\n",
      "(2, 'Let It Be', 1, 1970)\n"
     ]
    }
   ],
   "source": [
    "print(\"\\nTable: album_library2\")\n",
    "row = cur.fetchone()\n",
    "while row:\n",
    "    print(row)\n",
    "    row = cur.fetchone()"
   ]
  },
  {
   "cell_type": "markdown",
   "metadata": {},
   "source": [
    "**Create TABLE artist_library**"
   ]
  },
  {
   "cell_type": "code",
   "execution_count": 26,
   "metadata": {},
   "outputs": [],
   "source": [
    "try:\n",
    "    cur.execute(\"CREATE TABLE IF NOT EXISTS artist_library(artist_id int, artist_name varchar);\")\n",
    "except psycopg2.Error as e:\n",
    "    print(\"Error creating Table\")\n",
    "    print(e)"
   ]
  },
  {
   "cell_type": "code",
   "execution_count": 27,
   "metadata": {},
   "outputs": [],
   "source": [
    "try:\n",
    "    cur.execute(\"INSERT INTO artist_library(artist_id, artist_name)\\\n",
    "                VALUES(%s,%s)\",\\\n",
    "                (1,\"The Beatles\"))\n",
    "except psycopg2.Error as e:\n",
    "    print(\"Error:Inserting Rows\")\n",
    "    print(e)"
   ]
  },
  {
   "cell_type": "code",
   "execution_count": 30,
   "metadata": {},
   "outputs": [
    {
     "name": "stdout",
     "output_type": "stream",
     "text": [
      "\n",
      "Table: artist_library\n",
      "(1, 'The Beatles')\n"
     ]
    }
   ],
   "source": [
    "try:\n",
    "    cur.execute(\"SELECT * FROM artist_library\")\n",
    "except psycopg2.Error as e:\n",
    "    print(e)\n",
    "\n",
    "print(\"\\nTable: artist_library\")\n",
    "row = cur.fetchone()\n",
    "while row:\n",
    "    print(row)\n",
    "    row = cur.fetchone()"
   ]
  },
  {
   "cell_type": "code",
   "execution_count": 35,
   "metadata": {},
   "outputs": [
    {
     "name": "stdout",
     "output_type": "stream",
     "text": [
      "\n",
      "Table\n",
      "(1, 'The Beatles', 1, 'Rubber Soul', 1, 1965, 1, 1, 'Michelle')\n",
      "(1, 'The Beatles', 1, 'Rubber Soul', 1, 1965, 2, 1, 'Think For Yourself')\n",
      "(1, 'The Beatles', 2, 'Let It Be', 1, 1970, 3, 2, 'In My Life')\n",
      "(1, 'The Beatles', 2, 'Let It Be', 1, 1970, 4, 2, 'Let It Be')\n",
      "(1, 'The Beatles', 2, 'Let It Be', 1, 1970, 5, 2, 'Across the Universe')\n"
     ]
    }
   ],
   "source": [
    "try:\n",
    "    cur.execute(\"SELECT * \\\n",
    "                FROM (artist_library \\\n",
    "                JOIN album_library2 \\\n",
    "                ON artist_library.artist_id = album_library2.artist_id) \\\n",
    "                JOIN song_library ON album_library2.album_id = song_library.album_id;\")\n",
    "except psycopg2.Error as e:\n",
    "    print(\"Error: select*\")\n",
    "    print(e)\n",
    "    \n",
    "print(\"\\nTable\")\n",
    "row = cur.fetchone()\n",
    "while row:\n",
    "    print(row)\n",
    "    row = cur.fetchone()"
   ]
  },
  {
   "cell_type": "code",
   "execution_count": 36,
   "metadata": {},
   "outputs": [],
   "source": [
    "try:\n",
    "    cur.execute(\"DROP TABLE song_library\")\n",
    "except psycopg2.Error as e:\n",
    "    print(e)\n",
    "\n",
    "try:\n",
    "    cur.execute(\"DROP TABLE album_library\")\n",
    "except psycopg2.Error as e:\n",
    "    print(e)\n",
    "    \n",
    "try:\n",
    "    cur.execute(\"DROP TABLE artist_library\")\n",
    "except psycopg2.Error as e:\n",
    "    print(e)\n",
    "    \n",
    "try:\n",
    "    cur.execute(\"DROP TABLE album_library2\")\n",
    "except psycopg2.Error as e:\n",
    "    print(e)\n",
    "    \n",
    "try:\n",
    "    cur.execute(\"DROP TABLE music_library\")\n",
    "except psycopg2.Error as e:\n",
    "    print(e)\n",
    "    \n",
    "try:\n",
    "    cur.execute(\"DROP TABLE music_library2\")\n",
    "except psycopg2.Error as e:\n",
    "    print(e)"
   ]
  },
  {
   "cell_type": "code",
   "execution_count": 37,
   "metadata": {},
   "outputs": [],
   "source": [
    "cur.close()\n",
    "conn.close()"
   ]
  },
  {
   "cell_type": "markdown",
   "metadata": {},
   "source": [
    "# Denormalization:\n",
    "\n",
    "JOINS on the database allow for outstanding flexibility but are extremely slow. If you are dealing with heavy reads on your database, you may want to think about denormalizing your tables. You get your data into normalized form, and then you proceed with denormalization. So, denormalization comes after normalization."
   ]
  },
  {
   "cell_type": "markdown",
   "metadata": {},
   "source": [
    "# Creating Fact and Dimension Tables with Star Schema"
   ]
  },
  {
   "cell_type": "markdown",
   "metadata": {},
   "source": [
    "**Create FACT Table**"
   ]
  },
  {
   "cell_type": "code",
   "execution_count": 40,
   "metadata": {},
   "outputs": [],
   "source": [
    "try:\n",
    "    cur.execute(\"CREATE TABLE IF NOT EXISTS customer_transaction(customer_id int, store_id int, spent numeric);\")\n",
    "except psycopg2.Error as e:\n",
    "    print(\"Error: Issue creating table\")\n",
    "    print(e)\n",
    "\n",
    "try:\n",
    "    cur.execute(\"INSERT INTO customer_transaction(customer_id,store_id,spent)\\\n",
    "                VALUES (%s,%s,%s)\",\\\n",
    "               (1,1,20.50))\n",
    "except psycopg2.Error as e:\n",
    "    print(\"Error: Issue creating table\")\n",
    "    print(e)\n",
    "    \n",
    "try:\n",
    "    cur.execute(\"INSERT INTO customer_transaction(customer_id,store_id,spent)\\\n",
    "                VALUES (%s,%s,%s)\",\\\n",
    "               (2,1,35.30))\n",
    "except psycopg2.Error as e:\n",
    "    print(\"Error: Issue creating table\")\n",
    "    print(e)"
   ]
  },
  {
   "cell_type": "markdown",
   "metadata": {},
   "source": [
    "**Create Dimension Table**"
   ]
  },
  {
   "cell_type": "code",
   "execution_count": 41,
   "metadata": {},
   "outputs": [],
   "source": [
    "try:\n",
    "    cur.execute(\"CREATE TABLE IF NOT EXISTS items_purchased(customer_id int, item_number int, item_name varchar);\")\n",
    "except psycopg2.Error as e:\n",
    "    print(\"Error: Issue creating table\")\n",
    "    print(e)\n",
    "    \n",
    "try:\n",
    "    cur.execute(\"INSERT INTO items_purchased(customer_id,item_number, item_name) \\\n",
    "                VALUES(%s,%s,%s)\",\\\n",
    "               (1,1,\"Rubber Soul\"))\n",
    "except psycopg2.Error as e:\n",
    "    print(\"Error: Inserting row\")\n",
    "    print(e)\n",
    "    \n",
    "try:\n",
    "    cur.execute(\"INSERT INTO items_purchased(customer_id,item_number, item_name) \\\n",
    "                VALUES(%s,%s,%s)\",\\\n",
    "               (2,3,\"Let it be\"))\n",
    "except psycopg2.Error as e:\n",
    "    print(\"Error: Inserting row\")\n",
    "    print(e)"
   ]
  },
  {
   "cell_type": "code",
   "execution_count": 44,
   "metadata": {},
   "outputs": [],
   "source": [
    "try: \n",
    "    cur.execute(\"CREATE TABLE IF NOT EXISTS store(store_id int, state varchar);\")\n",
    "except psycopg2.Error as e:\n",
    "    print(\"Error: Creating Table\")\n",
    "    print(e)\n",
    "    \n",
    "try:\n",
    "    cur.execute(\"INSERT INTO store(store_id, state)\\\n",
    "                VALUES(%s,%s)\",\\\n",
    "                (1,\"CA\"))\n",
    "except psycopg2.Error as e:\n",
    "    print(\"Error: Inserting Rows\")\n",
    "    print(e)\n",
    "    \n",
    "try:\n",
    "    cur.execute(\"INSERT INTO store(store_id, state)\\\n",
    "                VALUES(%s,%s)\",\\\n",
    "                (2,\"WA\"))\n",
    "except psycopg2.Error as e:\n",
    "    print(\"Error: Inserting Rows\")\n",
    "    print(e)\n",
    "    "
   ]
  },
  {
   "cell_type": "code",
   "execution_count": 47,
   "metadata": {},
   "outputs": [],
   "source": [
    "try: \n",
    "    cur.execute(\"CREATE TABLE IF NOT EXISTS customer(customer_id int, name varchar,rewards boolean);\")\n",
    "except psycopg2.Error as e:\n",
    "    print(\"Error: Creating Table\")\n",
    "    print(e)\n",
    "    \n",
    "try:\n",
    "    cur.execute(\"INSERT INTO customer(customer_id, name,rewards)\\\n",
    "                VALUES (%s,%s,%s)\",\\\n",
    "               (1,\"Amanda\",True))\n",
    "except psycopg2.Error as e:\n",
    "    print(\"Error: Inserting Rows\")\n",
    "    print(e)\n",
    "\n",
    "try:\n",
    "    cur.execute(\"INSERT INTO customer(customer_id, name,rewards)\\\n",
    "                VALUES (%s,%s,%s)\",\\\n",
    "               (2,\"Toby\",False))\n",
    "except psycopg2.Error as e:\n",
    "    print(\"Error: Inserting Rows\")\n",
    "    print(e)\n"
   ]
  },
  {
   "cell_type": "code",
   "execution_count": 53,
   "metadata": {},
   "outputs": [],
   "source": [
    "try:\n",
    "    cur.execute(\"SELECT name, item_name, rewards FROM customer_transaction \\\n",
    "                JOIN customer ON customer.customer_id = customer_transaction.customer_id\\\n",
    "                JOIN items_purchased ON \\\n",
    "                customer_transaction.customer_id = items_purchased.customer_id \\\n",
    "                WHERE spent > 30; \\\n",
    "                \")\n",
    "except psycopg2.Error as e:\n",
    "    print(\"Error: Select *\")\n",
    "    print(e)"
   ]
  },
  {
   "cell_type": "code",
   "execution_count": 54,
   "metadata": {},
   "outputs": [
    {
     "name": "stdout",
     "output_type": "stream",
     "text": [
      "('Toby', 'Let it be', False)\n"
     ]
    }
   ],
   "source": [
    "row = cur.fetchone()\n",
    "while row:\n",
    "    print(row)\n",
    "    row = cur.fetchone()"
   ]
  },
  {
   "cell_type": "code",
   "execution_count": null,
   "metadata": {},
   "outputs": [],
   "source": []
  }
 ],
 "metadata": {
  "kernelspec": {
   "display_name": "Python 3",
   "language": "python",
   "name": "python3"
  },
  "language_info": {
   "codemirror_mode": {
    "name": "ipython",
    "version": 3
   },
   "file_extension": ".py",
   "mimetype": "text/x-python",
   "name": "python",
   "nbconvert_exporter": "python",
   "pygments_lexer": "ipython3",
   "version": "3.7.6"
  },
  "toc": {
   "base_numbering": 1,
   "nav_menu": {},
   "number_sections": true,
   "sideBar": true,
   "skip_h1_title": false,
   "title_cell": "Table of Contents",
   "title_sidebar": "Contents",
   "toc_cell": false,
   "toc_position": {},
   "toc_section_display": true,
   "toc_window_display": false
  }
 },
 "nbformat": 4,
 "nbformat_minor": 4
}
