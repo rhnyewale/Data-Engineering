{
 "cells": [
  {
   "cell_type": "markdown",
   "metadata": {},
   "source": [
    "The goal of the data engineer is to unlock an organization's data ecosystem to a wide group of analysts, data scientists, or any other interested member. Sure, we could share the SQLite file around to every interested user, but what if there were 10,000 people interested in the data? SQLite does not scale well for that use case so we require a better choice.\n",
    "\n",
    "To serve such a vast amount of users, we would be better off using another database engine. In this course we'll use an open source relational database management system (RDBMS) called **Postgres**. Postgres is a much more robust engine that is implemented as a server rather than a single file. As a server, Postgres accepts connections from clients who can run queries like a **SELECT, INSERT**, or any other type of SQL query making the data accessible to a wide range of people.\n",
    "\n",
    "Using this model, Postgres can handle multiple connections to the database solving one of the main data engineering challenges.\n",
    "\n",
    "<Img src=\"https://github.com/rhnyewale/Data-Engineering/blob/main/Images/postgres1.jpg?raw=true\">\n",
    "    \n",
    "The above diagram illustrates the client-server model used by Postgres. Two users, Rose and Bruno can both be connected to the same Postgres server and access the databases it contains.\n",
    "\n",
    "Let's explore necessary skills to interact and manage a Postgres database. This is a fundamental skill that any data engineer should have, as one of the main roles of a data engineer is ensure that data is readily available and stored in a way that makes accessing it easy and efficient. We will start by learning how to connect to a Postgres database and run simple SQL queries.\n",
    "    \n"
   ]
  },
  {
   "cell_type": "markdown",
   "metadata": {},
   "source": [
    "# Introduction\n",
    "Create a table for storing data representing user accounts. The dataset that we will be using is stored in a CSV file named user_accounts.csv. Its data does not correspond to real users, it was randomly generated data using faker.\n",
    "\n",
    "In order to communicate with our Postgres server, we will be using the open source psycopg2 Python library. You can think of **psycopg2** being similar to connecting to a SQLite database using the sqlite3 library.\n",
    "\n",
    "To connect to the database we use the *psycopg2.connect()* function by passing it a string containing the name of the database to which we want to connect to as well as our username. So, to connect to a database named dq using psycopg2, a user named Rose we would do the following:\n",
    "\n",
    "import psycopg2\n",
    "\n",
    "conn = psycopg2.connect(\"dbname=dq user=Rose\")\n",
    "\n",
    "As you see, Rose connects to the database by specifying the database name dbname and a user user in the psycopg2.connect() function. The string \"dbname=dq user=Rose\" is referred to as connection string. In the above example, the connection string specifies that Rose wants to connect to a database named dq using her username, Rose.\n",
    "\n",
    "Because Postgres supports multiple simultaneous connections, Postgres uses multiple users and databases as a way to improve security and division of data. Without those values attached, Postgres will not know who is trying to connect and where so it will fail. Once Rose is connected, she is ready to take advantage of the features Postgres has.\n",
    "\n",
    "Once she's finished doing what she wants to do with the database, Rose should close the connection to avoid leaving useless, resource consuming connections opened. To do so, she can use the connection.close() method:\n",
    "\n",
    "conn.close()"
   ]
  },
  {
   "cell_type": "code",
   "execution_count": 2,
   "metadata": {},
   "outputs": [
    {
     "name": "stdout",
     "output_type": "stream",
     "text": [
      "Collecting psycopg2\n",
      "  Downloading psycopg2-2.8.6-cp37-cp37m-win_amd64.whl (1.1 MB)\n",
      "Installing collected packages: psycopg2\n",
      "Successfully installed psycopg2-2.8.6\n",
      "Note: you may need to restart the kernel to use updated packages.\n"
     ]
    }
   ],
   "source": [
    "pip install psycopg2"
   ]
  },
  {
   "cell_type": "code",
   "execution_count": null,
   "metadata": {},
   "outputs": [],
   "source": []
  }
 ],
 "metadata": {
  "kernelspec": {
   "display_name": "Python 3",
   "language": "python",
   "name": "python3"
  },
  "language_info": {
   "codemirror_mode": {
    "name": "ipython",
    "version": 3
   },
   "file_extension": ".py",
   "mimetype": "text/x-python",
   "name": "python",
   "nbconvert_exporter": "python",
   "pygments_lexer": "ipython3",
   "version": "3.7.6"
  },
  "toc": {
   "base_numbering": 1,
   "nav_menu": {},
   "number_sections": true,
   "sideBar": true,
   "skip_h1_title": false,
   "title_cell": "Table of Contents",
   "title_sidebar": "Contents",
   "toc_cell": false,
   "toc_position": {},
   "toc_section_display": true,
   "toc_window_display": false
  }
 },
 "nbformat": 4,
 "nbformat_minor": 4
}
