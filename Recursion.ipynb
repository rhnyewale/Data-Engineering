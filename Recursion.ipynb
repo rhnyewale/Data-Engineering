{
 "cells": [
  {
   "cell_type": "markdown",
   "metadata": {},
   "source": [
    "We learned about different data structures, such as **lists** and **dictionaries**. We have been describing how to efficiently search and update these structures, but there has always been a trade-off between the two. In this course, we will develop a data structure that has both fast search and efficient updates.\n",
    "\n",
    "Unfortunately, we are at a crossroads now where developing this new data structure requires a new way of thinking. This type of thinking is called **recursion**.\n",
    "\n",
    "Recursion commonly refers to a function that calls itself. This backward way of thinking takes some time to sink in, but you'll soon notice that many algorithms and structures you come up with are naturally defined this way. Recursion doesn't just happen in programming though — there are examples of it even in art!\n",
    "\n",
    "Think about a time when you rode an elevator with mirrors on both sides. The mirrors reflect each other, and it looks like they keep going on forever.\n",
    "\n",
    "In practice, we don't want our algorithms to keep going on forever. To stop recursion from continuing to infinity, we need to have some **base case** that makes sure it eventually stops. When we use recursion, we express the problem we want to solve as simpler instances of the same problem. The recursion comes from the fact that we use the same algorithm to solve those simpler instances. The base case happens when the problem becomes simple enough that we don't need to break it down further to solve it.\n",
    "\n",
    "Once you learn this shift in thinking, it can be incredibly valuable when trying to come up with unique solutions to problems."
   ]
  },
  {
   "cell_type": "markdown",
   "metadata": {},
   "source": [
    "Suppose we want to sum up the list of integers [1, 2, 3, 4, 5, 6, 7, 8, 9, 10]. We could use the iterative sum() built-in function but if we wanted to implement it ourselves it would look something like the following:"
   ]
  },
  {
   "cell_type": "code",
   "execution_count": 1,
   "metadata": {},
   "outputs": [],
   "source": [
    "def iterative_sum(values):\n",
    "    total = 0\n",
    "    for value in values:\n",
    "        total += value\n",
    "    return total\n",
    "\n",
    "result = iterative_sum([1, 2, 3, 4, 5, 6, 7, 8, 9, 10])"
   ]
  },
  {
   "cell_type": "code",
   "execution_count": 2,
   "metadata": {},
   "outputs": [
    {
     "data": {
      "text/plain": [
       "55"
      ]
     },
     "execution_count": 2,
     "metadata": {},
     "output_type": "execute_result"
    }
   ],
   "source": [
    "result"
   ]
  },
  {
   "cell_type": "markdown",
   "metadata": {},
   "source": [
    "Recursive Implementation"
   ]
  },
  {
   "cell_type": "code",
   "execution_count": 3,
   "metadata": {},
   "outputs": [],
   "source": [
    "def recursive_sum(values):\n",
    "    # Base case: the list is empty\n",
    "    if not values:\n",
    "        return 0\n",
    "    # General case: the list is not empty\n",
    "    return values[0] + recursive_sum(values[1:])\n",
    "\n",
    "result = recursive_sum([1, 2, 3, 4, 5, 6, 7, 8, 9, 10])"
   ]
  },
  {
   "cell_type": "code",
   "execution_count": 4,
   "metadata": {},
   "outputs": [
    {
     "data": {
      "text/plain": [
       "55"
      ]
     },
     "execution_count": 4,
     "metadata": {},
     "output_type": "execute_result"
    }
   ],
   "source": [
    "result"
   ]
  },
  {
   "cell_type": "markdown",
   "metadata": {},
   "source": [
    "As you can see in the second return statement, this algorithm calls itself. Such an algorithm is called a **recursive algorithm**."
   ]
  },
  {
   "cell_type": "markdown",
   "metadata": {},
   "source": [
    "Let's break down this recursive implementation. We call the code inside the `if` statement the \"base case\" because it terminates the recursion — it won't call the function again. This ensures that the function eventually stops.\n",
    "\n",
    "The base case corresponds to a case where the result of the calculation we are doing becomes trivial. In this case, it happens when the list is empty. The sum of all values in an empty list is 0 since there are no values to add.\n",
    "\n",
    "If the list isn't empty, we express the sum by saying that the result of adding all elements in the list is equal to the first value plus the sum of the remaining values (note that we drop the first value of the list when we make the recursive call). This is what we mean by expressing the problem as a simpler instance of the same problem. In this case, the simpler instance of the problem is the problem of adding together all values in a list with one less element.\n",
    "\n",
    "The following animation illustrates how the algorithm calculates the sum of a list with a single element:"
   ]
  }
 ],
 "metadata": {
  "kernelspec": {
   "display_name": "Python 3",
   "language": "python",
   "name": "python3"
  },
  "language_info": {
   "codemirror_mode": {
    "name": "ipython",
    "version": 3
   },
   "file_extension": ".py",
   "mimetype": "text/x-python",
   "name": "python",
   "nbconvert_exporter": "python",
   "pygments_lexer": "ipython3",
   "version": "3.7.6"
  },
  "toc": {
   "base_numbering": 1,
   "nav_menu": {},
   "number_sections": true,
   "sideBar": true,
   "skip_h1_title": false,
   "title_cell": "Table of Contents",
   "title_sidebar": "Contents",
   "toc_cell": false,
   "toc_position": {},
   "toc_section_display": true,
   "toc_window_display": false
  }
 },
 "nbformat": 4,
 "nbformat_minor": 4
}
