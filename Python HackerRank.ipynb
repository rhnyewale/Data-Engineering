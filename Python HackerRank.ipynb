{
 "cells": [
  {
   "cell_type": "code",
   "execution_count": null,
   "metadata": {},
   "outputs": [],
   "source": []
  },
  {
   "cell_type": "markdown",
   "metadata": {},
   "source": [
    "# String"
   ]
  },
  {
   "cell_type": "markdown",
   "metadata": {},
   "source": [
    "## 1119. Remove Vowels from a String"
   ]
  },
  {
   "cell_type": "code",
   "execution_count": 65,
   "metadata": {},
   "outputs": [],
   "source": [
    "def removeVowels(str):\n",
    "    return \"\".join(c for c in str if c not in \"aeiou\")"
   ]
  },
  {
   "cell_type": "code",
   "execution_count": 66,
   "metadata": {},
   "outputs": [],
   "source": [
    "a = removeVowels(\"aedfasgvuo\")"
   ]
  },
  {
   "cell_type": "code",
   "execution_count": 67,
   "metadata": {},
   "outputs": [
    {
     "data": {
      "text/plain": [
       "'dfsgv'"
      ]
     },
     "execution_count": 67,
     "metadata": {},
     "output_type": "execute_result"
    }
   ],
   "source": [
    "a "
   ]
  },
  {
   "cell_type": "markdown",
   "metadata": {},
   "source": [
    "## First Non Repeating Character"
   ]
  },
  {
   "cell_type": "code",
   "execution_count": 98,
   "metadata": {},
   "outputs": [],
   "source": [
    "a = \"acacabbdddevenaaxv\""
   ]
  },
  {
   "cell_type": "code",
   "execution_count": 92,
   "metadata": {},
   "outputs": [],
   "source": [
    "def nonrepeat(str_r):\n",
    "    hm = {}\n",
    "    for c in str_r:\n",
    "        if c in hm:\n",
    "            hm[c] += 1\n",
    "        else:\n",
    "            hm[c] = 1\n",
    "    \n",
    "    for c in str_r:\n",
    "        if hm[c] == 1:\n",
    "            return c\n",
    "        \n",
    "    "
   ]
  },
  {
   "cell_type": "code",
   "execution_count": 99,
   "metadata": {},
   "outputs": [],
   "source": [
    "d = nonrepeat(a)"
   ]
  },
  {
   "cell_type": "code",
   "execution_count": 100,
   "metadata": {},
   "outputs": [
    {
     "data": {
      "text/plain": [
       "'n'"
      ]
     },
     "execution_count": 100,
     "metadata": {},
     "output_type": "execute_result"
    }
   ],
   "source": [
    "d"
   ]
  },
  {
   "cell_type": "markdown",
   "metadata": {},
   "source": [
    "##  Remove Duplicates from Sorted Array"
   ]
  },
  {
   "cell_type": "code",
   "execution_count": 102,
   "metadata": {},
   "outputs": [],
   "source": [
    "    def removeDuplicates(self, nums):\n",
    "        l = 1\n",
    "        for r in range(1, len(nums)):\n",
    "            if nums[r] != nums[r-1]:\n",
    "                nums[l] = nums[r]\n",
    "                l+=1\n",
    "            r+=1\n",
    "        return l\n",
    "                "
   ]
  },
  {
   "cell_type": "code",
   "execution_count": null,
   "metadata": {},
   "outputs": [],
   "source": []
  },
  {
   "cell_type": "markdown",
   "metadata": {},
   "source": []
  },
  {
   "cell_type": "markdown",
   "metadata": {},
   "source": [
    "# Find a string"
   ]
  },
  {
   "cell_type": "markdown",
   "metadata": {},
   "source": [
    " using **string.startswith(substring)**"
   ]
  },
  {
   "cell_type": "code",
   "execution_count": 1,
   "metadata": {},
   "outputs": [],
   "source": [
    "# using startswith\n",
    "def count_substring(string, sub_string):\n",
    "    count = 0\n",
    "    for i in range(len(string)):\n",
    "        if string[i:].startswith(sub_string):\n",
    "            count += 1\n",
    "    return count"
   ]
  },
  {
   "cell_type": "code",
   "execution_count": 5,
   "metadata": {},
   "outputs": [
    {
     "data": {
      "text/plain": [
       "3"
      ]
     },
     "execution_count": 5,
     "metadata": {},
     "output_type": "execute_result"
    }
   ],
   "source": [
    "string = \"abbababcd\"\n",
    "substring = \"ab\"\n",
    "count = count_substring(string, substring)\n",
    "count"
   ]
  },
  {
   "cell_type": "markdown",
   "metadata": {},
   "source": [
    "using **string.find()**"
   ]
  },
  {
   "cell_type": "code",
   "execution_count": 6,
   "metadata": {},
   "outputs": [],
   "source": [
    "# using find\n",
    "def count_substring(string, sub_string):\n",
    "    count = 0\n",
    "    i = string.find(sub_string)\n",
    "    while i != -1:\n",
    "        count += 1\n",
    "        i = string.find(sub_string, i+1)\n",
    "    return count"
   ]
  },
  {
   "cell_type": "code",
   "execution_count": 4,
   "metadata": {},
   "outputs": [
    {
     "data": {
      "text/plain": [
       "3"
      ]
     },
     "execution_count": 4,
     "metadata": {},
     "output_type": "execute_result"
    }
   ],
   "source": []
  },
  {
   "cell_type": "markdown",
   "metadata": {},
   "source": [
    "# String Validation"
   ]
  },
  {
   "cell_type": "code",
   "execution_count": 7,
   "metadata": {},
   "outputs": [
    {
     "name": "stdout",
     "output_type": "stream",
     "text": [
      "asdf\n"
     ]
    }
   ],
   "source": [
    "s = input()"
   ]
  },
  {
   "cell_type": "code",
   "execution_count": 8,
   "metadata": {},
   "outputs": [
    {
     "name": "stdout",
     "output_type": "stream",
     "text": [
      "True\n",
      "True\n",
      "False\n",
      "True\n",
      "False\n"
     ]
    }
   ],
   "source": [
    "print(any([char.isalnum() for char in s]))\n",
    "print(any([char.isalpha() for char in s]))\n",
    "print(any([char.isdigit() for char in s]))\n",
    "print(any([char.islower() for char in s]))\n",
    "print(any([char.isupper() for char in s]))"
   ]
  },
  {
   "cell_type": "markdown",
   "metadata": {},
   "source": [
    "# Text Wrap"
   ]
  },
  {
   "cell_type": "code",
   "execution_count": 3,
   "metadata": {},
   "outputs": [],
   "source": [
    "import textwrap"
   ]
  },
  {
   "cell_type": "code",
   "execution_count": 12,
   "metadata": {},
   "outputs": [],
   "source": [
    "def wrap(string, max_width):\n",
    "    s = \"\"\n",
    "    for c in range(0,len(string), max_width):\n",
    "        s += string[c:c+max_width]+\"\\n\"\n",
    "    return s"
   ]
  },
  {
   "cell_type": "code",
   "execution_count": 13,
   "metadata": {},
   "outputs": [],
   "source": [
    "string = 'ABCDEFGHIJKLIMNOQRSTUVWXYZ'\n",
    "width=4"
   ]
  },
  {
   "cell_type": "code",
   "execution_count": 14,
   "metadata": {},
   "outputs": [
    {
     "data": {
      "text/plain": [
       "'ABCD\\nEFGH\\nIJKL\\nIMNO\\nQRST\\nUVWX\\nYZ\\n'"
      ]
     },
     "execution_count": 14,
     "metadata": {},
     "output_type": "execute_result"
    }
   ],
   "source": [
    "textwrap = wrap(string, width)\n",
    "textwrap"
   ]
  },
  {
   "cell_type": "code",
   "execution_count": 22,
   "metadata": {},
   "outputs": [],
   "source": [
    "def wrap(string, max_width):\n",
    "    return \"\\n\".join(textwrap.wrap(string, max_width))"
   ]
  },
  {
   "cell_type": "code",
   "execution_count": 23,
   "metadata": {},
   "outputs": [
    {
     "ename": "AttributeError",
     "evalue": "'str' object has no attribute 'wrap'",
     "output_type": "error",
     "traceback": [
      "\u001b[1;31m---------------------------------------------------------------------------\u001b[0m",
      "\u001b[1;31mAttributeError\u001b[0m                            Traceback (most recent call last)",
      "\u001b[1;32m<ipython-input-23-fa4f16aecea1>\u001b[0m in \u001b[0;36m<module>\u001b[1;34m\u001b[0m\n\u001b[1;32m----> 1\u001b[1;33m \u001b[0mwrap\u001b[0m\u001b[1;33m(\u001b[0m\u001b[0mstring\u001b[0m\u001b[1;33m,\u001b[0m \u001b[0mwidth\u001b[0m\u001b[1;33m)\u001b[0m\u001b[1;33m\u001b[0m\u001b[1;33m\u001b[0m\u001b[0m\n\u001b[0m",
      "\u001b[1;32m<ipython-input-22-923b2b841d10>\u001b[0m in \u001b[0;36mwrap\u001b[1;34m(string, max_width)\u001b[0m\n\u001b[0;32m      1\u001b[0m \u001b[1;32mdef\u001b[0m \u001b[0mwrap\u001b[0m\u001b[1;33m(\u001b[0m\u001b[0mstring\u001b[0m\u001b[1;33m,\u001b[0m \u001b[0mmax_width\u001b[0m\u001b[1;33m)\u001b[0m\u001b[1;33m:\u001b[0m\u001b[1;33m\u001b[0m\u001b[1;33m\u001b[0m\u001b[0m\n\u001b[1;32m----> 2\u001b[1;33m     \u001b[1;32mreturn\u001b[0m \u001b[1;34m\"\\n\"\u001b[0m\u001b[1;33m.\u001b[0m\u001b[0mjoin\u001b[0m\u001b[1;33m(\u001b[0m\u001b[0mtextwrap\u001b[0m\u001b[1;33m.\u001b[0m\u001b[0mwrap\u001b[0m\u001b[1;33m(\u001b[0m\u001b[0mstring\u001b[0m\u001b[1;33m,\u001b[0m \u001b[0mmax_width\u001b[0m\u001b[1;33m)\u001b[0m\u001b[1;33m)\u001b[0m\u001b[1;33m\u001b[0m\u001b[1;33m\u001b[0m\u001b[0m\n\u001b[0m",
      "\u001b[1;31mAttributeError\u001b[0m: 'str' object has no attribute 'wrap'"
     ]
    }
   ],
   "source": [
    "wrap(string, width)"
   ]
  },
  {
   "cell_type": "code",
   "execution_count": 24,
   "metadata": {},
   "outputs": [],
   "source": [
    "def wrap(string, max_width):\n",
    "    l= []\n",
    "    for i in range(0,len(string),max_width): l.append(string[i:i+max_width])\n",
    "    return \"\\n\".join(l)"
   ]
  },
  {
   "cell_type": "code",
   "execution_count": 25,
   "metadata": {},
   "outputs": [],
   "source": [
    "s = wrap(string,width)"
   ]
  },
  {
   "cell_type": "code",
   "execution_count": 26,
   "metadata": {},
   "outputs": [
    {
     "data": {
      "text/plain": [
       "'ABCD\\nEFGH\\nIJKL\\nIMNO\\nQRST\\nUVWX\\nYZ'"
      ]
     },
     "execution_count": 26,
     "metadata": {},
     "output_type": "execute_result"
    }
   ],
   "source": [
    "s"
   ]
  },
  {
   "cell_type": "code",
   "execution_count": 27,
   "metadata": {},
   "outputs": [
    {
     "name": "stdout",
     "output_type": "stream",
     "text": [
      "asdfAASGSDGSD\n",
      "3\n",
      "asd\n",
      "fAA\n",
      "SGS\n",
      "DGS\n",
      "D\n"
     ]
    }
   ],
   "source": [
    "import textwrap\n",
    "s = input()\n",
    "w = int(input())\n",
    "l = \" \".join(textwrap.wrap(s,w))\n",
    "print(textwrap.fill(l,w))"
   ]
  },
  {
   "cell_type": "markdown",
   "metadata": {},
   "source": []
  },
  {
   "cell_type": "markdown",
   "metadata": {},
   "source": [
    "# To remove duplicates from list"
   ]
  },
  {
   "cell_type": "code",
   "execution_count": 1,
   "metadata": {},
   "outputs": [],
   "source": [
    "test_list = [1, 3, 5, 6, 3, 5, 6, 1]"
   ]
  },
  {
   "cell_type": "code",
   "execution_count": 5,
   "metadata": {},
   "outputs": [],
   "source": [
    "def test(a):\n",
    "    res = []\n",
    "    for x in a:\n",
    "        if x not in res:\n",
    "            res.append(x)\n",
    "    return res"
   ]
  },
  {
   "cell_type": "code",
   "execution_count": 6,
   "metadata": {},
   "outputs": [],
   "source": [
    "a = test(test_list)"
   ]
  },
  {
   "cell_type": "code",
   "execution_count": 7,
   "metadata": {},
   "outputs": [
    {
     "name": "stdout",
     "output_type": "stream",
     "text": [
      "[1, 3, 5, 6]\n"
     ]
    }
   ],
   "source": [
    "print(a)"
   ]
  },
  {
   "cell_type": "code",
   "execution_count": 8,
   "metadata": {},
   "outputs": [],
   "source": [
    "b = list(set(test_list))"
   ]
  },
  {
   "cell_type": "code",
   "execution_count": 9,
   "metadata": {},
   "outputs": [
    {
     "data": {
      "text/plain": [
       "[1, 3, 5, 6]"
      ]
     },
     "execution_count": 9,
     "metadata": {},
     "output_type": "execute_result"
    }
   ],
   "source": [
    "b"
   ]
  },
  {
   "cell_type": "code",
   "execution_count": 48,
   "metadata": {},
   "outputs": [],
   "source": [
    "test_list = ['gfg, best, gfg', 'I, am, I', 'two, two, three' ]"
   ]
  },
  {
   "cell_type": "code",
   "execution_count": 49,
   "metadata": {},
   "outputs": [],
   "source": [
    "res = [set(x.split(', ')) for x in test_list]"
   ]
  },
  {
   "cell_type": "code",
   "execution_count": 50,
   "metadata": {},
   "outputs": [
    {
     "data": {
      "text/plain": [
       "[{'best', 'gfg'}, {'I', 'am'}, {'three', 'two'}]"
      ]
     },
     "execution_count": 50,
     "metadata": {},
     "output_type": "execute_result"
    }
   ],
   "source": [
    "res"
   ]
  },
  {
   "cell_type": "markdown",
   "metadata": {},
   "source": [
    "## Two Sum"
   ]
  },
  {
   "cell_type": "code",
   "execution_count": 55,
   "metadata": {},
   "outputs": [],
   "source": [
    "def twoSum(nums, target):\n",
    "        prevMap = {} #val:index\n",
    "        \n",
    "        for i,n in enumerate(nums):\n",
    "            diff = target - n\n",
    "            if diff in prevMap:\n",
    "                return [prevMap[diff],i]\n",
    "            prevMap[n]=i\n",
    "        return\n",
    "        "
   ]
  },
  {
   "cell_type": "code",
   "execution_count": 56,
   "metadata": {},
   "outputs": [],
   "source": [
    "a = twoSum([2,1,5,3,4], 9)"
   ]
  },
  {
   "cell_type": "code",
   "execution_count": 57,
   "metadata": {},
   "outputs": [
    {
     "data": {
      "text/plain": [
       "[2, 4]"
      ]
     },
     "execution_count": 57,
     "metadata": {},
     "output_type": "execute_result"
    }
   ],
   "source": [
    "a "
   ]
  },
  {
   "cell_type": "markdown",
   "metadata": {},
   "source": [
    "## 121. Best Time to Buy and Sell Stock"
   ]
  },
  {
   "cell_type": "code",
   "execution_count": 54,
   "metadata": {},
   "outputs": [],
   "source": [
    "def maxProfit(prices):\n",
    "        l,r = 0,1 # left = buy, right = sell\n",
    "        maxP = 0\n",
    "        \n",
    "        while r < len(prices):\n",
    "            if prices[l]<prices[r]:\n",
    "                profit = prices[r] - prices[l]\n",
    "                maxP = max(maxP,profit)\n",
    "            else:\n",
    "                l = r\n",
    "            r +=1\n",
    "        return maxP"
   ]
  },
  {
   "cell_type": "code",
   "execution_count": 62,
   "metadata": {},
   "outputs": [],
   "source": [
    "a = maxProfit([9,7,5,3,1,3,7,9])"
   ]
  },
  {
   "cell_type": "code",
   "execution_count": 63,
   "metadata": {},
   "outputs": [
    {
     "data": {
      "text/plain": [
       "8"
      ]
     },
     "execution_count": 63,
     "metadata": {},
     "output_type": "execute_result"
    }
   ],
   "source": [
    "a "
   ]
  },
  {
   "cell_type": "markdown",
   "metadata": {},
   "source": [
    "##  Best Time to Buy and Sell a Stock 2"
   ]
  },
  {
   "cell_type": "code",
   "execution_count": 103,
   "metadata": {},
   "outputs": [],
   "source": [
    "def maxProfit(self, prices):\n",
    "        profit = 0\n",
    "        for i in range(1,len(prices)):\n",
    "            if prices[i]>prices[i-1]:\n",
    "                profit += (prices[i]-prices[i-1])\n",
    "        return profit"
   ]
  },
  {
   "cell_type": "code",
   "execution_count": null,
   "metadata": {},
   "outputs": [],
   "source": []
  },
  {
   "cell_type": "markdown",
   "metadata": {},
   "source": [
    "## 238. Product of Array Except Self"
   ]
  },
  {
   "cell_type": "code",
   "execution_count": 64,
   "metadata": {},
   "outputs": [],
   "source": [
    "def productExceptSelf(nums):\n",
    "        res = [1] * (len(nums))\n",
    "        prefix = 1\n",
    "        for i in range (len(nums)):\n",
    "            res[i] = prefix\n",
    "            prefix *= nums[i]\n",
    "        postfix = 1\n",
    "        for i in range(len(nums)-1,-1,-1):\n",
    "            res[i] *=postfix\n",
    "            postfix*=nums[i]\n",
    "        return res\n",
    "        "
   ]
  },
  {
   "cell_type": "markdown",
   "metadata": {},
   "source": [
    "# Regular expressions"
   ]
  },
  {
   "cell_type": "code",
   "execution_count": 10,
   "metadata": {},
   "outputs": [],
   "source": [
    "string_list = [\"Julie's favorite color is Blue.\",\n",
    "               \"Keli's favorite color is Green.\",\n",
    "               \"Craig's favorite colors are blue and red.\"]\n"
   ]
  },
  {
   "cell_type": "code",
   "execution_count": 11,
   "metadata": {},
   "outputs": [],
   "source": [
    "import re "
   ]
  },
  {
   "cell_type": "code",
   "execution_count": 12,
   "metadata": {},
   "outputs": [],
   "source": [
    "blue_mentions = 0\n",
    "pattern = \"[Bb]lue\"\n",
    "\n",
    "for s in string_list:\n",
    "    if re.search(pattern, s):\n",
    "        blue_mentions +=1"
   ]
  },
  {
   "cell_type": "code",
   "execution_count": 14,
   "metadata": {},
   "outputs": [
    {
     "name": "stdout",
     "output_type": "stream",
     "text": [
      "2\n"
     ]
    }
   ],
   "source": [
    "print(blue_mentions)"
   ]
  },
  {
   "cell_type": "code",
   "execution_count": 15,
   "metadata": {},
   "outputs": [],
   "source": [
    "world_cup_str = \"\"\"\n",
    "[\n",
    "    {\n",
    "        \"team_1\": \"France\",\n",
    "        \"team_2\": \"Croatia\",\n",
    "        \"game_type\": \"Final\",\n",
    "        \"score\" : [4, 2]\n",
    "    },\n",
    "    {\n",
    "        \"team_1\": \"Belgium\",\n",
    "        \"team_2\": \"England\",\n",
    "        \"game_type\": \"3rd/4th Playoff\",\n",
    "        \"score\" : [2, 0]\n",
    "    }\n",
    "]\n",
    "\"\"\"\n"
   ]
  },
  {
   "cell_type": "code",
   "execution_count": 16,
   "metadata": {},
   "outputs": [],
   "source": [
    "import json\n",
    "world_cup_obj = json.loads(world_cup_str)"
   ]
  },
  {
   "cell_type": "code",
   "execution_count": 17,
   "metadata": {},
   "outputs": [
    {
     "data": {
      "text/plain": [
       "[{'team_1': 'France',\n",
       "  'team_2': 'Croatia',\n",
       "  'game_type': 'Final',\n",
       "  'score': [4, 2]},\n",
       " {'team_1': 'Belgium',\n",
       "  'team_2': 'England',\n",
       "  'game_type': '3rd/4th Playoff',\n",
       "  'score': [2, 0]}]"
      ]
     },
     "execution_count": 17,
     "metadata": {},
     "output_type": "execute_result"
    }
   ],
   "source": [
    "world_cup_obj"
   ]
  },
  {
   "cell_type": "code",
   "execution_count": 18,
   "metadata": {},
   "outputs": [
    {
     "name": "stdout",
     "output_type": "stream",
     "text": [
      "<class 'list'>\n"
     ]
    }
   ],
   "source": [
    "file = open('data/hn_2014.json')\n",
    "hn = json.load(file)\n",
    "\n",
    "print(type(hn))"
   ]
  },
  {
   "cell_type": "code",
   "execution_count": 19,
   "metadata": {},
   "outputs": [
    {
     "name": "stdout",
     "output_type": "stream",
     "text": [
      "35806\n"
     ]
    }
   ],
   "source": [
    "print(len(hn))"
   ]
  },
  {
   "cell_type": "code",
   "execution_count": 20,
   "metadata": {},
   "outputs": [
    {
     "name": "stdout",
     "output_type": "stream",
     "text": [
      "<class 'dict'>\n"
     ]
    }
   ],
   "source": [
    "print(type(hn[0]))"
   ]
  },
  {
   "cell_type": "code",
   "execution_count": 21,
   "metadata": {},
   "outputs": [
    {
     "name": "stdout",
     "output_type": "stream",
     "text": [
      "dict_keys(['author', 'numComments', 'points', 'url', 'storyText', 'createdAt', 'tags', 'createdAtI', 'title', 'objectId'])\n"
     ]
    }
   ],
   "source": [
    "print(hn[0].keys())"
   ]
  },
  {
   "cell_type": "markdown",
   "metadata": {},
   "source": [
    "To delete a key from a dictionary, we can use the del statement"
   ]
  },
  {
   "cell_type": "code",
   "execution_count": 22,
   "metadata": {},
   "outputs": [
    {
     "name": "stdout",
     "output_type": "stream",
     "text": [
      "{'b': 2, 'c': 3}\n"
     ]
    }
   ],
   "source": [
    "d = {'a': 1, 'b': 2, 'c': 3}\n",
    "del d['a']\n",
    "print(d)"
   ]
  },
  {
   "cell_type": "code",
   "execution_count": 23,
   "metadata": {},
   "outputs": [],
   "source": [
    "# List Comprehensions\n",
    "letters = ['a', 'b', 'c', 'd']\n",
    "\n",
    "caps = []\n",
    "for l in letters:\n",
    "    caps.append(l.upper())"
   ]
  },
  {
   "cell_type": "code",
   "execution_count": 24,
   "metadata": {},
   "outputs": [
    {
     "name": "stdout",
     "output_type": "stream",
     "text": [
      "['A', 'B', 'C', 'D']\n"
     ]
    }
   ],
   "source": [
    "# Target = Transformation for statement\n",
    "caps = [l.upper() for l in letters]\n",
    "print(caps)"
   ]
  },
  {
   "cell_type": "code",
   "execution_count": 26,
   "metadata": {},
   "outputs": [],
   "source": [
    "urls = [d['url'] for d in hn]"
   ]
  },
  {
   "cell_type": "code",
   "execution_count": 27,
   "metadata": {},
   "outputs": [
    {
     "data": {
      "text/plain": [
       "['http://ashleynolan.co.uk/blog/are-we-getting-too-sassy',\n",
       " 'http://spectrum.ieee.org/automaton/robotics/home-robots/telemba-telepresence-robot',\n",
       " 'http://online.wsj.com/articles/apple-to-buy-beats-1401308971',\n",
       " 'http://alexsblog.org/2014/05/29/dont-wait-for-inspiration/',\n",
       " 'http://techcrunch.com/2014/05/28/hackerone-get-9m-in-series-a-funding-to-build-bug-tracking-bounty-programs/',\n",
       " 'http://www.teslamotors.com/en_AU/models/design',\n",
       " 'http://gearapp.challengepost.com/',\n",
       " 'https://gigaom.com/2014/05/28/skype-will-soon-get-real-time-speech-translation-based-on-deep-learning/',\n",
       " 'http://www.nbcnews.com/feature/edward-snowden-interview/watch-primetime-special-inside-mind-edward-snowden-n117126',\n",
       " 'http://snippetrepo.com/snippets/linear-equation-solver-in-3-lines-of-python',\n",
       " 'http://www.quora.com/Websites/What-is-the-difference-between-a-privacy-policy-and-terms-and-conditions',\n",
       " 'http://techcrunch.com/gallery/five-super-successful-tech-pivots/',\n",
       " 'http://andrewgelman.com/2014/05/27/whole-fleet-gremlins-looking-carefully-richard-tols-twice-corrected-paper-economic-effects-climate-change/',\n",
       " 'http://coinbrief.net/onyx-ashanti-and-bitcoin/',\n",
       " 'https://www.kickstarter.com/projects/227461008/gi-bike-the-light-full-size-electric-folding-bike',\n",
       " 'http://blog.hoiio.com/2014/05/introducing-internet-call-on-hoiio-web-portal/',\n",
       " 'http://www.quicksprout.com/2014/05/27/the-definitive-guide-to-marketing-automation/',\n",
       " 'http://www.businessinsider.com/iphone-hack-in-australia-2014-5',\n",
       " 'http://www.google.com/about/appsecurity/learning/xss/',\n",
       " 'http://projects.aljazeera.com/2014/portrait-of-down-syndrome/index.html',\n",
       " 'http://userscripts.org:8080/',\n",
       " 'http://i.telegraph.co.uk/multimedia/archive/02924/france_2924759c.jpg',\n",
       " 'http://www.businessvibes.com/blog/london-tops-cities-opportunity-list-first-time',\n",
       " 'https://soundcloud.com/luciddreamworld/ww2-with-richard-t-williams',\n",
       " 'http://blog.erratasec.com/2014/05/no-you-cant-remotely-turn-on-phones.html',\n",
       " 'http://ariya.ofilabs.com/2013/07/es6-and-proxy.html',\n",
       " 'http://craig.is/writing/chrome-logger/',\n",
       " 'http://krebsonsecurity.com/2014/05/backdoor-in-call-monitoring-surveillance-gear/',\n",
       " 'http://pastebin.com/QXsFTNvE',\n",
       " 'http://heidiroizen.tumblr.com/post/87109518385/the-one-rule-for-building-your-company-culture',\n",
       " 'https://getpocket.com/premium?ep=4',\n",
       " 'http://www.usatoday.com/story/money/business/2014/05/26/the-motley-fool-the-top-25-companies-for-pay-and-perks/9542969/',\n",
       " 'http://modernfarmer.com/2014/05/brew-shoes/',\n",
       " 'http://arstechnica.com/information-technology/2014/05/microsoft-lays-out-the-future-of-internet-explorer/',\n",
       " 'http://crowdvit.ae/',\n",
       " 'http://www.nytimes.com/2014/05/29/technology/amazon-hachette-book-publisher-dispute.html',\n",
       " 'http://www.nytimes.com/2014/05/29/technology/personaltech/the-soylent-revolution-will-not-be-pleasurable.html?hp',\n",
       " 'https://github.com/yui/pure/releases/tag/v0.5.0',\n",
       " 'http://h30499.www3.hp.com/t5/HP-Software-Solutions-Blog/Use-Oracle-s-UPL-Abandon-Your-Intellectual-Property/ba-p/6485626',\n",
       " 'http://blog.sucuri.net/2014/05/analyzing-a-malicious-iframe-following-the-eval-trail.html',\n",
       " 'http://www.scottaaronson.com/blog/?p=1818',\n",
       " 'http://arstechnica.com/security/2014/05/root-backdoor-found-in-surveillance-gear-used-by-law-enforcement/',\n",
       " 'https://medium.com/startup-wisdom/6fdc8aeda039',\n",
       " 'https://www.tapresearch.com/app-development-research',\n",
       " 'http://www.adweek.com/news/advertising-branding/ad-day-coke-designs-friendly-bottle-can-only-be-opened-another-bottle-157988',\n",
       " 'https://blog.recurly.com/2014/05/clustering-redis-maximize-uptime-scale/',\n",
       " 'http://www.nationaljournal.com/next-economy/solutions-bank/is-computer-coding-the-legos-of-the-future-20140522',\n",
       " 'http://blog.graylog2.org/easily-manage-your-nginx-access-logs-with-graylog2/',\n",
       " 'http://www.siliconvalley.com/michelle-quinn/ci_25852582/quinn-google-workers-predominantly-male-and-white-rare',\n",
       " 'http://techcrunch.com/2014/05/28/uber-record-breaking-valuation/',\n",
       " 'http://blog.getprismatic.com/clojurescript-plumbing/',\n",
       " 'http://www.activestate.com/blog/2014/05/service-discovery-solutions',\n",
       " 'http://googleblog.blogspot.com/2014/05/getting-to-work-on-diversity-at-google.html',\n",
       " 'http://blog.sqwiggle.com/behind-business-episode-3-howard-lindzon/',\n",
       " 'https://filippo.io/salt-and-pepper/',\n",
       " 'https://www.youtube.com/watch?v=YVJQowph52s',\n",
       " 'http://www.thegoodfight.fm/episodes/23-the-plot-to-bring-democracy-to-america',\n",
       " 'http://www.loworbit.co/',\n",
       " 'http://stanfordreview.org/article/dark-wallet-taking-the-anonymity-of-bitcoin-one-step-further/',\n",
       " 'http://www.futureoncoming.com/achieve-your-goals-with-science/',\n",
       " 'http://cva.stanford.edu/classes/cs99s/papers/myer-sutherland-design-of-display-processors.pdf',\n",
       " 'http://www.theverge.com/2014/5/28/5700530/apple-confirms-beats-acquisition',\n",
       " 'https://developers.google.com/genomics/what-is-google-genomics',\n",
       " 'http://themindunleashed.org/2014/05/physicists-discover-clearest-evidence-yet-universe-hologram-2.html',\n",
       " 'http://blog.yummygum.com/post/86403610844/pro-tip-quickly-export-your-psd-files',\n",
       " 'https://en.wikipedia.org/wiki/Aramis_(personal_rapid_transit)',\n",
       " 'http://research.microsoft.com/en-us/news/features/translator-052714.aspx',\n",
       " 'http://www.newyorker.com/online/blogs/books/2014/03/bright-lights-big-data.html',\n",
       " 'http://www.newscientist.com/article/dn25459-induced-hallucination-turns-doctors-into-pizza-chefs.html',\n",
       " 'http://www.bostonglobe.com/business/2014/05/28/apple-purchases-beats-electronics-for-billion/sPtrl3BrThL4rfVbzXk3mI/story.html',\n",
       " 'http://www.washingtonpost.com/posteverything/wp/2014/05/28/its-not-just-jill-abramson-women-everywhere-are-getting-pushed-out-of-journalism/',\n",
       " 'http://www.wired.com/2014/05/google-self-driving-car-prototype/',\n",
       " 'http://ioshat.madebysource.com',\n",
       " 'http://www.apple.com/pr/library/2014/05/28Apple-to-Acquire-Beats-Music-Beats-Electronics.html',\n",
       " 'https://speakerdeck.com/mathiasbynens/hacking-with-unicode',\n",
       " 'http://www.businesswire.com/news/home/20140528006701/en/Apple-Acquire-Beats-Music-Beats-Electronics#.U4ZIBJRdVbs',\n",
       " 'http://training.github.com/kit/',\n",
       " 'http://signup.startupsagainsttrolls.com/',\n",
       " 'http://qz.com/214093/tesla-elon-musk-5-billion-gigafactory-gamble/',\n",
       " 'https://programmers.stackexchange.com/questions/60544/why-do-game-developers-prefer-windows/88055#88055',\n",
       " 'http://ioshat.madebysource.com/',\n",
       " 'http://www.cnn.com/2014/05/28/us/california-anonymous-donor-hidden-cash-twitter',\n",
       " 'http://developers.livechatinc.com/blog/6-tips-for-clear-email-communication/',\n",
       " 'http://thetechblock.com/kids-react-old-computers/',\n",
       " 'https://www.qconnewyork.com/presentation/event-driven-services-f-and-eventstore?utm_source=hackernews&utm_medium=link&utm_campaign=hackernews',\n",
       " 'http://www.wekeroad.com/2014/05/28/the-frustratingly-lovable-crazy-making-huggable-ball-of-whack-that-is-ember-js/',\n",
       " '',\n",
       " 'http://www.startupsfortherestofus.com/episodes/episode-186-life-hacks-for-entrepreneurs',\n",
       " 'http://blog.sendwithus.com/a-better-approach-to-ab-test-analysis/',\n",
       " 'http://www.aei.org/files/2014/03/14/-bill-gates-event-transcript_082217994272.pdf',\n",
       " 'http://techcrunch.com/2014/05/28/ben-davenport-bitgo/',\n",
       " 'http://www.frogdesign.com/frogventures',\n",
       " 'http://www.pewresearch.org/fact-tank/2014/05/27/a-shift-from-germany-to-mexico-for-americas-immigrants/',\n",
       " 'http://stopdatamining.me',\n",
       " 'http://www.bloomberg.com/news/2014-05-28/white-house-seeks-5-billion-fund-for-anti-terror-push.html',\n",
       " 'http://www.esa.int/spaceinvideos/esalive',\n",
       " 'http://make.wordpress.org/core/2014/05/25/json-rest-api-version-1-0/',\n",
       " 'http://www.quickcoin.co/',\n",
       " 'http://venturebeat.com/2014/05/26/the-white-list-tracks-which-startups-investors-have-their-eye-on/',\n",
       " 'https://github.com/fortytools/forty_facets',\n",
       " 'http://binaryjs.com',\n",
       " 'http://m.washingtonpost.com/blogs/wonkblog/wp/2014/05/28/want-to-spot-the-next-bubble-look-at-where-harvard-grads-work/?tid=HP_business',\n",
       " 'http://www.caffeineconsulting.com/when-should-you-use-node-js/',\n",
       " 'http://blog.gopivotal.com/cloud-foundry-pivotal/products/deploy-and-update-your-google-compute-engine-vms-using-cloud-foundry-bosh#sthash.zfxaFDZR.dpuf',\n",
       " '',\n",
       " 'http://recode.net/2014/05/27/a-joy-ride-in-googles-new-self-driving-clown-car-video/',\n",
       " 'http://marginalrevolution.com/marginalrevolution/2014/05/is-pikettys-second-law-of-capitalism-fundamental.html',\n",
       " '',\n",
       " 'http://www.entrepreneur.com/article/234289',\n",
       " 'http://swizec.com/blog/abusing-d3-js-to-make-a-pong-game/swizec/6578',\n",
       " 'http://www.areweprivateyet.com',\n",
       " 'http://www.theguardian.com/media-network/media-network-blog/2014/may/28/gocardless-debit-payment-card-matt-robinson?CMP=twt_gu',\n",
       " 'http://macaw.co/learners/',\n",
       " 'http://ithemes.com/2014/05/28/set-two-factor-authentication-wordpress-site-google-authenticator/?utm_source=WP+Security+Updates&utm_campaign=b913fbe152-ITSEC2-factor&utm_medium=email&utm_term=0_5176bfed9e-b913fbe152-295626457',\n",
       " 'http://www.googleblog.blogspot.in/2014/05/better-data-centers-through-machine.html',\n",
       " 'https://cointemporary.com/',\n",
       " 'http://www.newyorker.com/online/blogs/newsdesk/2014/05/christopher-michael-martinezs-father-gets-it-right.html',\n",
       " 'http://www.mergefil.es/',\n",
       " 'http://www.techtidbits.me/2014/05/chui-smart-technology-doorbell-in-the-spotlight.html#pages/2',\n",
       " 'http://venturebeat.com/2014/05/25/apple-reportedly-freaked-out-about-the-drunken-dr-dre-video/',\n",
       " 'https://getpocket.com/premium',\n",
       " 'http://www.nbcnews.com/feature/edward-snowden-interview',\n",
       " 'http://sap1ens.com/blog/2014/05/28/selenium-webdriver-as-a-deadly-weapon/',\n",
       " 'http://tucker.liberty.me/2014/05/26/filthy_laundry/',\n",
       " 'http://name.com/domains/ninja',\n",
       " 'https://research.microsoft.com/en-us/news/features/translator-052714.aspx',\n",
       " 'http://hackaday.com/2014/05/28/interview-inventing-the-unix-sudo-command/#comments',\n",
       " 'http://streetscore.media.mit.edu/',\n",
       " 'http://spectrum.ieee.org/semiconductors/materials/5-commandments',\n",
       " 'http://forum.nasaspaceflight.com/index.php?topic=34828.0',\n",
       " 'http://www.rss.org.uk/site/cms/contentviewarticle.asp?article=653',\n",
       " 'http://jasonlefkowitz.net/2014/05/tech-needs-to-decide-which-master-its-going-to-serve/',\n",
       " 'http://www.panabee.com/show-hn',\n",
       " 'https://duolist.io',\n",
       " 'http://codeinsider.us/i/4.html',\n",
       " 'http://news.stanford.edu/news/2014/may/slac-med-tcell-052214.html',\n",
       " 'http://www.technologyreview.com/news/516156/a-popular-ad-blocker-also-helps-the-ad-industry/',\n",
       " 'http://robohub.org/reader-poll-should-autonomous-cars-be-allowed-to-speed/',\n",
       " 'http://www.theverge.com/2014/5/28/5757116/google-is-building-a-hardware-empire-and-this-is-what-it-looks-like',\n",
       " 'https://www.youtube.com/watch?v=CqSDWoAhvLU',\n",
       " 'http://bits.shutterstock.com/2014/05/22/stop-buying-load-balancers-and-start-controlling-your-traffic-flow-with-software/',\n",
       " 'http://xamarin.com/forms',\n",
       " 'http://googleblog.blogspot.com.es/2014/05/better-data-centers-through-machine.html?m=1',\n",
       " 'http://blog.regehr.org/archives/1154',\n",
       " 'http://instamour.com',\n",
       " 'https://medium.com/this-happened-to-me/48c233e67ddc',\n",
       " 'http://www.developeragents.com/?hackernews',\n",
       " 'http://www.nebraskaentrepreneurship.com/featured-content-gallery/video-entrepreneurial-thinking-benefits-lincoln-homeless-shelter/',\n",
       " 'https://medium.com/@jiyinyiyong/bbaeed7a6291',\n",
       " 'http://www.linux.com/learn/tutorials/774426-radxa-the-100-quad-core-arm-raspberry-pi-alternative',\n",
       " 'https://medium.com/p/23cd6ed0cfa7',\n",
       " 'http://googleblog.blogspot.in/2014/05/better-data-centers-through-machine.html',\n",
       " 'http://blogs.law.harvard.edu/philg/2014/05/23/thomas-piketty-apple-fan-boy-and-sample-biacist/',\n",
       " 'http://www.builtinchicago.org/blog/money-doesnt-matter-anymore',\n",
       " 'http://recode.net/2014/05/27/microsoft-ceo-satya-nadella-at-the-code-conference-liveblog/',\n",
       " 'http://www.programmableweb.com/news/orchestrate-eases-complex-database-tasks/review/2014/05/28',\n",
       " 'http://wwdcstudents.co',\n",
       " 'http://www.nbcnews.com/feature/edward-snowden-interview/',\n",
       " 'http://www.thisamericanlife.org/blog/2014/05/radio-distribution-announcement',\n",
       " 'https://medium.com/p/73995ffe10f3',\n",
       " 'http://techcrunch.com/2014/05/28/infinit-io-raises-1-8-million-to-become-the-definite-file-sharing-app/',\n",
       " 'http://en.wikipedia.org/wiki/Biocentric_universe',\n",
       " 'http://justteachit.co.uk',\n",
       " 'http://www.npr.org/2014/05/28/316552657/research-children-of-judges-may-influence-court-decisions',\n",
       " 'http://www.fastcompany.com/3029457/technovore/uber-is-the-new-google',\n",
       " '',\n",
       " 'https://www.thalmic.com/blog/guest-post-myo-armband-dj-player/',\n",
       " 'https://medium.com/designed-thought/e3fae297c5bf',\n",
       " 'https://www.acquia.com/blog/killer-acquia-cloud-feature-you-need-start-using-right-now',\n",
       " 'http://www.forbes.com/sites/steveschaefer/2014/05/28/sp-gives-tesla-a-junk-bond-rating-cites-vulnerable-business/',\n",
       " 'https://shameonfeinstein.org/resetthenet.html',\n",
       " 'https://medium.com/@1000ch/8435760e0ec9',\n",
       " 'http://www.jackrabbitmobile.com/the-power-of-white-space-in-mobile-web-design/',\n",
       " 'http://www.ravn.co.uk/news/ravn-systems-ediscovery-services-selected-governments-revolutionary-cloudstore/',\n",
       " 'http://www.popsci.com/article/science/what-happens-when-mice-eat-nothing-powdered-food',\n",
       " 'http://www.jackrabbitmobile.com/developing-mobile-enterprise-three-commercial-apps-right/',\n",
       " 'http://spectrum.ieee.org/cars-that-think/transportation/advanced-cars/california-driving-licenses-autonomous-cars/',\n",
       " 'http://venturebeat.com/2014/05/27/soylent-style-powdered-food-shows-bad-long-term-consequences-in-mice/',\n",
       " 'http://cburgmer.github.io/csscritic/',\n",
       " 'http://jobs.zappos.com/',\n",
       " 'http://www.wired.com/2014/05/mod-t-printer/',\n",
       " 'http://matsel.net/silicon-valley-virtual-reality-conference-2014/',\n",
       " 'http://blog.iasaglobal.org/2014/05/27/dependency-management-is-risk-management/',\n",
       " 'http://www.kpcb.com/insights/2014-internet-trends?_ga=1.39844067.1390123805.1401284065',\n",
       " 'http://hglabhq.com/blog/2014/5/24/hglab-1-6-released',\n",
       " 'http://www.ugtastic.com/category/conferences/railsconf-chicago-2014-interviews/',\n",
       " 'http://informationisart.com/27/',\n",
       " 'http://www.goldmansachs.com/our-thinking/outlook/world-cup-and-economics-2014-folder/world-cup-economics-report.pdf',\n",
       " 'http://blog.xamarin.com/announcing-xamarin-3/',\n",
       " 'http://www.redbull.com/en/games/stories/1331654489586/e3-2014-predictions-10-things-we-want-to-see',\n",
       " 'http://blog.mailcloud.com/how-we-peaked-at-a-63-homepage-conversion-rate/',\n",
       " 'https://jakearchibald.github.io/isserviceworkerready/',\n",
       " 'http://photojojo.com/engineerprints/',\n",
       " 'http://boingboing.net/2014/05/28/do-not-combine-baby-with-hydro.html',\n",
       " 'https://itunes.apple.com/us/app/browse-rss-feed-reader/id778018149',\n",
       " 'http://techcrunch.com/2014/05/28/microsoft-buys-capptain-a-mobile-app-management-platform-based-in-paris/',\n",
       " 'http://blog.sauce.ly/why-we-love-the-new-facebook-login-and-why-you-should-too/',\n",
       " 'https://medium.com/user-experience-101/728dd6a6c5fd',\n",
       " 'https://www.kickstarter.com/projects/627324241/release-the-game',\n",
       " 'http://www.nbcnews.com/feature/edward-snowden-interview/exclusive-edward-snowden-tells-brian-williams-u-s-stranded-him-n116096',\n",
       " 'https://www.youtube.com/watch?v=ar0ri9NLArs',\n",
       " 'http://blog.semilshah.com/2014/05/27/the-turf-signaling-between-investors-and-founders/',\n",
       " 'https://bugzilla.redhat.com/show_bug.cgi?id=1048587#c3',\n",
       " 'http://blog.forecast.io/apple-developer-indifference/',\n",
       " 'http://stackoverflow.com/q/12267640/1577343',\n",
       " 'http://www.vox.com/2014/5/27/5752946/lobbying-and-policy-change-explains-why-silicon-valley-cant-win',\n",
       " 'http://hotspotapp.wordpress.com/2014/05/28/the-pursuit-of-happy-hours/',\n",
       " 'http://gulnara.svbtle.com/maintenance-for-startups',\n",
       " 'http://modernfarmer.com/2014/05/scarecrow-history-effigy/',\n",
       " 'http://sreecharans.blogspot.com/2011/08/how-to-build-apple-push-notification.html',\n",
       " 'http://blog.3tsoftwarelabs.com/post/86598168893/mongodb-gui-3t-data-manager-is-free-for-personal',\n",
       " 'https://www.digitalocean.com/company/blog/guest-post-trackjs/',\n",
       " 'http://dealbook.nytimes.com/2014/05/28/alibaba-to-buy-stake-in-singaporean-postal-system/',\n",
       " 'https://www.kickstarter.com/projects/capsulesio/capsulesio-a-new-digital-dimension/',\n",
       " 'http://tech.eu/news/microsoft-acquires-french-startup-capptain/',\n",
       " 'http://money.cnn.com/2014/05/28/investing/tesla-junk-bond-rating/',\n",
       " 'http://steamcommunity.com/groups/steamuniverse#announcements/detail/1820891223906967821',\n",
       " 'http://seventy-two.ch',\n",
       " 'http://www.hanselman.com/blog/WeAreAbstractingOnTheShouldersOfGiants.aspx',\n",
       " 'http://blog.lawnstarter.com/post/87099392543/just-because-it-doesnt-suck-doesnt-make-it-your',\n",
       " '',\n",
       " 'http://www.bloomberg.com/visual-data/world-cup/',\n",
       " 'http://mainroach.blogspot.co.uk/2013/07/css-compression-minifier-roulette.html',\n",
       " 'http://blogs.hbr.org/2014/05/why-germany-dominates-the-u-s-in-innovation/',\n",
       " 'http://vsecurity.com/download/papers/XMLDTDEntityAttacks.pdf',\n",
       " 'http://www.theguardian.com/world/2014/may/27/detroit-blight-remove-vacant-structures-buildings-report',\n",
       " 'http://365.unsplash.com/',\n",
       " 'http://www.farnamstreetblog.com/2014/05/the-origins-of-good-and-evil/',\n",
       " 'http://vladmihalcea.com/2014/05/28/the-data-knowledge-stack/',\n",
       " 'http://blog.jetbrains.com/teamcity/2014/05/maximize-outcomes-by-establishing-a-release-driven-workflow-upfront/',\n",
       " 'http://startupmanagement.org/2014/05/28/vcs-as-analysts-and-farmers-market-shoppers/',\n",
       " 'http://report.timetoendblight.org/',\n",
       " 'http://formstone.it/',\n",
       " 'https://www.indiegogo.com/projects/new-matter-mod-t-3d-printing-for-everyone',\n",
       " 'https://www.kickstarter.com/projects/athom/homey-the-living-room-talk-to-your-home',\n",
       " 'http://blogs.wsj.com/moneybeat/2014/05/28/goldman-sachs-predicts-the-world-cup-winner/',\n",
       " '',\n",
       " 'http://www.reizbombardement.de/archives/in-chrome-36-you-can-no-longer-disable-the-notification-icon-in-the-menu-bar-os-x',\n",
       " 'http://mobile.reuters.com/article/idUSKBN0E813P20140528?irpc=932',\n",
       " 'http://www.informationsecuritybuzz.com/ubisoft-consults-kaspersky-lab-authenticate-watch-dogs-script/',\n",
       " 'http://www.washingtonpost.com/national/massimo-vignelli-celebrated-designer-whose-work-included-nyc-subway-map-dies-at-83/2014/05/27/6cd685aa-e5b7-11e3-a86b-362fd5443d19_story.html',\n",
       " 'http://blog.prefabware.de/posts/201646',\n",
       " 'http://www.datacenterknowledge.com/archives/2014/05/28/google-using-machine-learning-boost-data-center-efficiency/',\n",
       " 'http://techcrunch.com/2014/05/28/strooder/',\n",
       " 'http://techcrunch.com/2014/05/28/facebook-whatsapp-europe/',\n",
       " 'http://spectrum.ieee.org/tech-talk/consumer-electronics/gadgets/google-glass-costs-just-152-to-make',\n",
       " 'https://en.wikipedia.org/wiki/Technocracy_movement',\n",
       " 'http://www.codenameone.com/',\n",
       " 'http://fluxxor.com',\n",
       " 'http://eocamera.jemcgarvey.com/',\n",
       " 'http://online.wsj.com/article/BT-CO-20140527-712847.html',\n",
       " 'http://www.theverge.com/2014/5/26/5751880/plan-to-cover-roads-with-solar-panels-raises-1-million',\n",
       " 'http://brandonhilkert.com/blog/7-reasons-why-im-sticking-with-minitest-and-fixtures-in-rails/?utm_source=hn&utm_medium=social&utm_campaign=minitest',\n",
       " 'http://jollamoralstandards.blogspot.com/',\n",
       " 'http://www.infoq.com/news/2014/05/dart-14',\n",
       " 'http://isocpp.org/blog/2014/05/n4047',\n",
       " 'http://creativejs.com/2013/06/the-race-for-speed-part-1-the-javascript-engine-family-tree/',\n",
       " 'http://www.theguardian.com/technology/2014/may/28/minecraft-36-times-larger-on-ps4-and-xbox-one',\n",
       " 'http://blogs.wsj.com/digits/2014/05/27/nadella-describes-post-post-pc-vision-deals-he-wont-do/?mod=Tech_newsreel_2',\n",
       " 'https://transferwise.com/',\n",
       " 'http://www.huffingtonpost.com/2014/05/25/hidden-cash_n_5390074.html',\n",
       " 'https://hacking.zeef.com/brian.heese',\n",
       " 'http://www.bbc.com/news/technology-27599373',\n",
       " 'http://jacquesmattheij.com/google-search-history-disable-does-nothing',\n",
       " 'http://techcrunch.com/gallery/google-self-driving-car/',\n",
       " 'http://www.mysql.com/products/enterprise/fabric.html',\n",
       " 'http://www.panopticoncentral.net/2012/03/08/the-usebuild-fallacy/',\n",
       " 'http://skinny-framework.org/',\n",
       " 'https://medium.com/p/e09abb608fc1',\n",
       " 'http://www.wamda.com/annemehla/2014/05/some-advanced-techniques-for-sheet-metal-fabrication',\n",
       " 'http://arstechnica.com/gadgets/2014/05/google-builds-a-prototype-self-driving-car-sans-steering-wheel/',\n",
       " 'http://www.newyorker.com/online/blogs/culture/2014/05/history-ramen-noodles-george-solt.html',\n",
       " 'http://seclists.org/fulldisclosure/2014/May/130',\n",
       " 'http://cs.ru.nl/~freek/100/',\n",
       " 'https://github.com/onesky/plugin-xcode',\n",
       " 'http://newsbtc.com/2014/05/27/bitpay-processing-one-million-per-day-bitcoin-payments/',\n",
       " 'http://www.theguardian.com/lifeandstyle/wordofmouth/2014/may/27/egg-white-craze-no-yolk',\n",
       " 'http://www.e-reading.mobi/chapter.php/82060/20/Isaac_Asimovs_Worlds_of_Science_Fiction._Book_9__Robots.html',\n",
       " 'http://blog.octayn.net/blog/2014/05/24/this-week-in-rust-50/',\n",
       " 'http://www.forbes.com/sites/jeffbercovici/2014/02/10/amazon-vs-book-publishers-by-the-numbers/',\n",
       " 'http://www.bbc.co.uk/news/technology-27599306',\n",
       " 'http://www.wikihow.com/Capitalise-Correctly',\n",
       " 'http://askubuntu.com/questions/470134/how-to-find-the-creation-time-of-a-file?newsletter=1&nlcode=275875%7c3479',\n",
       " 'http://aeon.co/magazine/being-human/can-we-break-free-from-the-fear-of-missing-out/',\n",
       " 'http://flux7.com/blogs/benchmarks/benchmarking-m3-xlarge-with-wikibench/',\n",
       " 'http://seekyt.com/are-there-any-side-effects-associated-with-sandblasting/',\n",
       " 'http://singularityhub.com/2014/05/27/software-composes-music-inspired-by-classic-novels/',\n",
       " 'http://thenextweb.com/google/2014/05/28/google-reveals-its-self-driving-cars-which-have-no-steering-wheel-or-brakes/',\n",
       " 'http://www.bbc.com/news/world-us-canada-27598516',\n",
       " 'http://ieet.org/index.php/IEET/more/prisco20140527',\n",
       " 'http://www.vektr.io',\n",
       " '',\n",
       " 'http://rms2.tumblr.com/post/87014795085/wwdc-2014-prognostications',\n",
       " 'http://www.salon.com/2014/05/24/the_empire_strikes_back_greenwald_snowden_and_the_lessons_of_louis_brandeis/',\n",
       " 'http://www.cnet.com/news/microsoft-readies-real-time-language-translator-for-skype/',\n",
       " 'http://www.teamdemocracy.us/h4d2?',\n",
       " 'http://joshkerr.com/chromebook-pixel-does-4k-resolution/',\n",
       " '',\n",
       " 'http://www.eevblog.com/2014/05/28/the-economics-of-selling-your-hardware-project/',\n",
       " 'http://fluxxor.com/what-is-flux.html',\n",
       " 'http://www.hugeinc.com/ideas/perspective/modeling-the-marvel-universe',\n",
       " 'http://www.theverge.com/2014/5/27/5756420/amazon-confirms-its-fight-with-publishing-giant-hachette-is-real-and',\n",
       " 'http://googleblog.blogspot.com/2014/05/just-press-go-designing-self-driving.html?m=1',\n",
       " 'http://www.thecockeyedpessimist.blogspot.com/',\n",
       " 'http://www.buzzfeed.com/charliewarzel/google-just-unveiled-a-self-driving-car-prototype-without-a',\n",
       " 'http://www.businessinsider.com/google-reveals-prototype-car-without-pedals-breaks-and-steering-wheel-2014-5?utm_content=buffer1235d&utm_medium=social&utm_source=facebook.com&utm_campaign=buffer#ixzz32yKDu97Fhttp://read.bi/1nylTT1',\n",
       " 'http://upgradecapital.com',\n",
       " '',\n",
       " 'http://www.nytimes.com/2014/05/27/opinion/brooks-really-good-books-part-ii.html?src=me&module=Ribbon&version=origin&region=Header&action=click&contentCollection=Most%20Emailed&pgtype=article',\n",
       " 'http://dammitcoetzee.com/2014/05/overwhelming-task-management/',\n",
       " 'http://theappendix.net/issues/2014/4/the-aviators-heart',\n",
       " 'http://marojejian.tumblr.com/post/87058879321/hedonic-opportunity-cost',\n",
       " 'https://vimeo.com/96652680',\n",
       " 'http://www.nbcnews.com/feature/edward-snowden-interview/exclusive-edward-snowden-tells-brian-williams-i-was-trained-spy-n115746',\n",
       " '',\n",
       " 'http://www.rudebaguette.com/2014/05/23/lille-based-giroptic-hits-big-kickstarter-full-hd-spherical-3d-camera/',\n",
       " 'https://www.youtube.com/watch?v=nhvSb4u0jtE&list=TLCOndmV10AaR5fWOVlGKaEf3fWkQ2rdD2',\n",
       " 'http://arstechnica.com/science/2014/05/beyond-gravity-the-complex-quest-to-take-out-our-orbital-trash',\n",
       " '',\n",
       " 'http://www.nytimes.com/2014/05/25/opinion/sunday/the-immigrant-advantage.html?_r=1',\n",
       " 'http://www.centurylinklabs.com/flynn-vs-deis-the-tale-of-two-docker-micro-paas-technologies/',\n",
       " 'https://twitter.com/NewEnglandVC/status/471439494248660993',\n",
       " 'http://imgur.com/a/8pAeh',\n",
       " 'http://nerds.airbnb.com/experiments-at-airbnb/',\n",
       " 'http://silsha.github.io/fnordcredit/',\n",
       " 'http://www.marco.org/2014/05/27/file-a-bug',\n",
       " 'http://cordova.apache.org/announcements/2014/05/23/cordova-350.html',\n",
       " 'http://chrome.blogspot.se/2014/05/protecting-chrome-users-from-malicious.html',\n",
       " 'http://ecoshifter.com/',\n",
       " 'http://mashable.com/2014/05/26/apple-smart-home/',\n",
       " 'http://aws.amazon.com/blogs/aws/aws-popup-loft-in-san-francisco/',\n",
       " 'http://www.polygon.com/2014/5/27/5754686/xcom-enemy-unknown-linux-release-summer',\n",
       " 'http://blog.ellenchisa.com/2014/05/16/hbs-application-essays/',\n",
       " 'https://iwantmyname.com/blog/2014/05/its-not-that-your-call-isnt-important-to-us.html',\n",
       " 'http://www.forbes.com/sites/kashmirhill/2014/05/27/article-may-scare-you-away-from-internet-of-things/',\n",
       " 'https://github.com/meganz/sdk2',\n",
       " 'http://www.pressocean.com/?sid=hn1',\n",
       " 'http://www.fastcocreate.com/3031119/axes-algorithm-can-tell-you-if-youre-trying-too-hard-on-social-media',\n",
       " 'http://www.reddit.com/r/mildlyinteresting/comments/26exyh/google_moved_the_g_left_one_pixel_and_the_l_down',\n",
       " '',\n",
       " 'https://honeytracks.com/?r=hn&c=most-comprehensive&a=main',\n",
       " 'http://www.theregister.co.uk/2014/05/27/intel_marries_chinese_chippery_firm_to_soc_it_to_lowend_tablet_market/',\n",
       " 'http://newhive.com/zach/raising-the-red-flag',\n",
       " 'http://www.celerity.com/blog/2014/05/21/native-app-vs-mobile-web-debate/',\n",
       " 'http://pando.com/2014/05/27/how-timehop-growth-hacked-its-way-to-the-top-of-the-app-store/',\n",
       " 'http://hackingnews.com/cyber-crime/avast-forum-hacked-400-000-accounts-affected/',\n",
       " 'http://pennystocks.la/internet-in-real-time/',\n",
       " 'http://blog.bumblebeelabs.com/social-software-sundays-1-humor-on-the-web-how-to-stop-it/',\n",
       " 'http://rt.com/news/161756-internet-snowden-stockholm-wikileaks/',\n",
       " 'https://help.joyent.com/entries/40957424-Transient-availability-issues-in-US-East-1-data-center',\n",
       " 'http://roadfiresoftware.com/2014/05/the-problem-with-learning-via-gamification/',\n",
       " 'http://i.imgur.com/EXvsVP3.png',\n",
       " 'http://www.advancelinemarking.com.au/',\n",
       " 'http://www.macrumors.com/2014/05/25/arm-mac-magic-trackpad',\n",
       " 'http://www.bbc.co.uk/iplayer/episode/p01z4rrj/horizon-19771978-now-the-chips-are-down',\n",
       " 'https://gist.github.com/mikeswanson/42736ee162c9a1c437b9',\n",
       " 'http://hnhiring.me/',\n",
       " 'http://zurb.com/article/1312/the-next-foundation?hn=report',\n",
       " 'http://www.randalolson.com/2014/05/27/a-data-driven-exploration-of-the-evolution-of-chess-moves-captures-and-checkmates/',\n",
       " 'https://docs.google.com/forms/d/1LDVwDDb1cfOwkZFk1KdiWi4_6cYxwS-2IO0Dcwu617g/viewform',\n",
       " '',\n",
       " 'http://www.mumbaimirror.com/others/sunday-read/Coding-for-Goodwill/articleshow/35281859.cms',\n",
       " 'https://github.com/schneiderandre/popping',\n",
       " 'http://www.exploit-db.com/exploits/33516/',\n",
       " '',\n",
       " 'http://venturebeat.com/2014/05/27/a-new-node-js-company-nodesource-opens-its-virtual-doors/',\n",
       " 'http://wyorock.com/excelasadatabase.htm?',\n",
       " 'http://kyle.graehl.org/javascript/development/chrome-extension/privacy/2014/01/22/privacy-guard-extension.html',\n",
       " 'https://onarbor.com/',\n",
       " 'http://arstechnica.com/gaming/2014/05/nintendo-announces-plan-to-share-ad-revenue-with-youtube-steamers/',\n",
       " 'http://www.washingtonpost.com/posteverything/wp/2014/05/27/welcome-to-posteverything/',\n",
       " 'http://betaboston.com/news/2014/05/27/mit-celebrates-50-years-of-project-mac-multics-and-other-computer-foundations/',\n",
       " '',\n",
       " '',\n",
       " 'http://go-to-hellman.blogspot.com/2014/05/the-future-of-book-is-unfinished-john.html',\n",
       " 'http://www.nytimes.com/2014/05/27/science/how-to-win-the-lottery-happily.html?ref=science&_r=0',\n",
       " 'http://www.grants.gov/grantsws/AttachmentDownload?attId=215251',\n",
       " 'https://medium.com/p/516dd2d538d9',\n",
       " 'https://www.crowsnest.io/',\n",
       " 'http://juliepagano.com/blog/2013/11/02/101-off-limits/',\n",
       " 'http://charlieharvey.org.uk/page/bodgy_haskell_morse_code',\n",
       " 'https://github.com/bdcht/amoco',\n",
       " 'https://github.com/moserrya/knod',\n",
       " '',\n",
       " 'http://www.theverge.com/2014/5/27/5754126/the-next-challenge-for-robots-morality',\n",
       " 'http://m.bbc.com/news/technology-27597358?ocid=socialflow_twitter#',\n",
       " '',\n",
       " 'http://www.simonsfoundation.org/quanta/20140515-forging-a-qubit-to-rule-them-all',\n",
       " 'http://scholar.google.com/citations?view_op=top_venues',\n",
       " 'http://blog.grantoo.com/2014/05/mobile-games-the-return-of-the-viral-hit/',\n",
       " 'http://googlewebmastercentral.blogspot.com/2014/05/rendering-pages-with-fetch-as-google.html',\n",
       " 'http://jelv.is/blog/Lazy-Dynamic-Programming',\n",
       " 'http://fullfreeversion.com/removewat-2-2-9-windows-7-8/',\n",
       " 'http://beta.caniuse.com/',\n",
       " 'http://blog.coinbase.com/post/87021088887/device-verification',\n",
       " 'http://motherboard.vice.com/read/meet-aubrey-de-grey-the-researcher-who-wants-to-cure-old-age',\n",
       " 'http://www.youtube.com/watch?v=uGBTLW7xku4&feature=kp',\n",
       " 'http://www.bloombergview.com/articles/2014-05-12/u-s-is-no-1-china-is-so-yesterday',\n",
       " 'http://vesperapp.co/blog/vesper-2-0-and-vesper-sync/',\n",
       " 'http://anandtech.com/show/8061/this-is-huge-intel-enters-strategic-agreement-with-chinese-soc-maker-rockchip',\n",
       " 'https://github.com/django/django/pull/2718',\n",
       " 'http://www.guesty.com/',\n",
       " 'http://www.thisiscolossal.com/2014/05/north-brother-island-is-the-last-unknown-place-in-new-york-city/',\n",
       " 'http://medium.com/@omershapira/nobody-goes-to-art-school-to-make-money-so-fuck-off-48fee12e24c2',\n",
       " 'https://www.linkedin.com/today/post/article/20140527163943-7082046-how-sdn-is-going-to-affect-your-job-as-a-network-engineer',\n",
       " 'https://www.kickstarter.com/projects/decodigital/we-made-a-game-an-indie-game-documentary',\n",
       " 'http://www.googlewebmastercentral.blogspot.com/2014/05/rendering-pages-with-fetch-as-google.html',\n",
       " 'http://csvkit.readthedocs.org/en/0.7.3/',\n",
       " 'http://blog.newrelic.com/2014/04/29/node-builds-future-enterprise/',\n",
       " 'http://insights.canopylabs.com/?p=968',\n",
       " 'http://codingstyleguide.com/style/94/ruby-never-use-for-unless-you-know-exactly-why',\n",
       " 'https://software.intel.com/en-us/blogs/2014/05/10/debugging-performance-issues-in-go-programs',\n",
       " 'http://www.thinkwithgoogle.com/tools/customer-journey-to-online-purchase.html',\n",
       " 'http://80000hours.org/blog/341-how-much-do-y-combinator-founders-earn',\n",
       " 'https://thewinnower.com/',\n",
       " 'http://www.rifters.com/real/shorts/TheScorchedEarthSociety-transcript.pdf',\n",
       " 'http://phys.org/news/2014-05-shadowy-online.html',\n",
       " 'http://getpostie.com/',\n",
       " '',\n",
       " 'http://zealdocs.org/',\n",
       " 'http://spectrum.ieee.org/automaton/robotics/home-robots/telemba-telepresence-robot#.U4TR35jbTuE.hackernews',\n",
       " 'http://www.huffingtonpost.com/allan-sheahen/jobs-are-not-the-answer_b_3727048.html',\n",
       " 'http://www.quickcoin.co',\n",
       " 'http://arstechnica.com/security/2014/05/your-iphone-has-been-taken-hostage-pay-100-ransom-to-get-it-back/',\n",
       " 'http://www.americanpressinstitute.org/publications/reports/survey-research/personal-news-cycle/',\n",
       " 'http://www.reddit.com/r/Bitcoin/comments/26lwm3/harvardmit_cancer_researchers_here_might_rbitcoin/',\n",
       " 'http://wondersuite.com/blog/create-youtube-site/',\n",
       " 'http://shiny.parisgeo.cnrs.fr/ScattRplot/',\n",
       " 'http://krebsonsecurity.com/2014/05/complexity-as-the-enemy-of-security/',\n",
       " 'http://blog.gopivotal.com/cloud-foundry-pivotal/products/managing-stateful-docker-containers-with-cloud-foundry-bosh#sthash.Vci1XgPq.dpuf',\n",
       " 'http://arxiv.org/abs/1405.4565',\n",
       " 'https://medium.com/@sschillace/b946b48cc946',\n",
       " 'http://fa2png.io/',\n",
       " 'http://joshmock.github.io/boilerplate-free-promises-in-node/',\n",
       " 'https://medium.com/designed-thought/1148a46b2fc',\n",
       " 'http://www.bizjournals.com/atlanta/print-edition/2014/05/23/startup-lucena-taking-on-wall-street.html',\n",
       " 'https://impactchallenge.withgoogle.com/bayarea2014',\n",
       " 'http://www.youtube.com/watch?v=NFF0QQIQDXE',\n",
       " 'http://wicky.nillia.ms/headroom.js',\n",
       " 'http://mikekirkup.com/2014/05/26/the-hidden-benefits-of-y-combinator/',\n",
       " 'http://www.bbc.com/news/technology-27588976',\n",
       " 'http://recode.net/events/',\n",
       " 'http://hub.uberflip.com/h/i/11748744-setting-up-a-twitter-lead-generation-campaign',\n",
       " 'http://interactivepython.org/courselib/static/pythonds/index.html',\n",
       " 'http://www.mckinsey.com/insights/organization/the_seven_habits_of_highly_effective_digital_enterprises',\n",
       " '',\n",
       " 'http://www.caseyliss.com/2014/5/27/tmobiles-clown-shoes',\n",
       " 'http://frankchimero.com/blog/massimo-and-me/',\n",
       " 'http://1n73r.net/2014/05/26/interviewing-for-devopssresysadmin-positions/',\n",
       " 'http://stackoverflow.com/questions/572897/how-does-javascript-prototype-work',\n",
       " 'http://blog.mobiversal.com/10-surprising-things-you-might-not-know-about-the-mhealth-app-market.html',\n",
       " 'http://pando.com/2014/05/23/wikileaks-names-us-cellphone-spy-target-as-afghanistan-claims-google-staffer-was-involved/',\n",
       " 'http://www.gamasutra.com/view/news/218572/Nintendo_reveals_YouTube_affiliate_program_for_Lets_Players.php',\n",
       " 'http://www.independent.co.uk/voices/comment/robert-fisk-our-addiction-to-the-internet-is-as-harmful-as-any-drug--and-what-passes-for-comment-these-days-is-often-simply-foul-abuse-9433535.html',\n",
       " '',\n",
       " 'http://www.theguardian.com/technology/2014/may/27/google-pixel-perfect-logo',\n",
       " 'http://gotocon.com/chicago-2014/presentation/x86%20Internals%20for%20Fun%20and%20Profit',\n",
       " 'http://arstechnica.com/tech-policy/2014/05/prosecutors-ex-lulzsec-hacker-sabu-helped-authorities-stop-300-cyberattacks/',\n",
       " 'http://blog.gopivotal.com/pivotal/products/introducing-r-for-big-data-with-pivotalr',\n",
       " 'http://www.superb.info/new-domain-extensions-property-websites/',\n",
       " 'http://ihatethesoundsaroundme.wordpress.com/2014/05/26/when-you-might-have-too-many-message-queues/',\n",
       " 'http://online.wsj.com/articles/BL-DGB-35399',\n",
       " 'http://www.dotnetodyssey.com/2014/05/24/linq-change-original-source-returns-new-collection/',\n",
       " 'http://firstround.com/article/hardware-adam-macbeth',\n",
       " 'http://strongloop.com/strongblog/node-js-performance-event-loop-monitoring/',\n",
       " 'http://www.bbc.com/news/technology-27588972',\n",
       " 'http://css-tricks.com/svg-text-typographic-designs/',\n",
       " 'https://fsf.org/blogs/licensing/fsf-statement-on-court-of-appeals-ruling-in-oracle-v-google?pk_campaign=social_media',\n",
       " 'http://spin.atomicobject.com/2014/05/27/cost-unit-testing/',\n",
       " 'https://gocardless.com/blog/one-word-abtest/',\n",
       " 'http://www.theverge.com/2014/5/27/5753824/dungeons-and-dragons-free-rulebook',\n",
       " 'http://www.scientificamerican.com/article/the-case-against-smartwatches/',\n",
       " 'http://farewell.upwave.com/',\n",
       " 'http://www.zdnet.com/intuit-dishes-360-million-to-acquire-mobile-bill-pay-firm-check-7000029881/',\n",
       " 'https://nodesource.com/blog/hello-nodesource',\n",
       " 'https://lists.debian.org/debian-security-announce/2014/msg00119.html',\n",
       " 'https://medium.com/@felixsalmon/323e11dd7679',\n",
       " 'http://techcrunch.com/2014/05/26/messaging-2-0-is-now-over',\n",
       " 'https://github.com/shanbady/lycos-animation',\n",
       " 'http://www.webiners.com/blog/2014/05/27/are-you-creating-something-viral-try-this/',\n",
       " 'http://blog.jonathan.sh/thoughts-on-a-cool-new-language-pony',\n",
       " 'http://www.youtube.com/watch?v=PF7EpEnglgk',\n",
       " 'http://www.bostonglobe.com/lifestyle/health-wellness/2014/05/26/mass-general-researchers-build-next-generation-brain-implants/A3uGYuNJkRYPN1sECgJERM/story.html',\n",
       " 'http://space.stackexchange.com/questions/969/what-coordinate-system-is-used-in-space-for-navigation',\n",
       " 'http://www.i-programmer.info/news/105-artificial-intelligence/7352-the-flaw-lurking-in-every-deep-neural-net.html',\n",
       " 'http://www.usatoday.com/story/news/nation/2014/05/26/holding-breath-oregon-crash/9602071/',\n",
       " 'http://www.threeriversinstitute.org/blog/?p=445',\n",
       " 'http://longren.io/php-mvc-skeleton-app/',\n",
       " 'http://www.sean-johnson.com/how-to-become-a-mentor/',\n",
       " 'http://crankyanimesh.blogspot.in/2014/05/how-to-form-superhero-team-of-your-own.html',\n",
       " 'https://www.kickstarter.com/projects/bearded/what-comes-next-is-the-future?ref=home_location',\n",
       " 'http://blog.codinghorror.com/the-problem-with-logging',\n",
       " 'http://bits.blogs.nytimes.com/2014/05/26/rap-genius-co-founder-resigns-after-derogatory-statements/',\n",
       " 'http://www.wired.com/2014/05/the-robots-of-the-future-are-already-here-the-cyborgs-are-coming-next',\n",
       " 'http://ksj.mit.edu/tracker/2014/05/oops-cnn-runs-bogus-story-saying-asteroi',\n",
       " 'http://blog.hubspot.com/marketing/guide-to-using-snapchat-for-marketing?utm_content=5255966&utm_medium=social&utm_source=linkedin',\n",
       " 'http://bigstory.ap.org/article/median-ceo-pay-crosses-10-million-2013',\n",
       " 'https://github.com/oauth-io/sdk-php',\n",
       " '',\n",
       " 'http://papers.ssrn.com/sol3/papers.cfm?abstract_id=1735015',\n",
       " 'http://cleverstack.io/developer/',\n",
       " 'http://www.slate.com/articles/life/culturebox/2014/05/abolish_the_week_the_case_against_dividing_time_into_seven_day_periods.html',\n",
       " 'http://splitforce.com/resources/auto-optimization/',\n",
       " 'https://alum.mit.edu/pages/sliceofmit/2014/05/27/hackingmedicine/',\n",
       " 'http://en.wikipedia.org/wiki/Massimo_Vignelli',\n",
       " 'http://bastianallgeier.com/decentweb/',\n",
       " 'http://davidlitwak.com/the-unseen-cost-of-using-the-best-technology-angularjs',\n",
       " 'http://jacquesmattheij.com/choosing-web-framework-language-combo-srs-test-app',\n",
       " 'https://www.linkedin.com/today/post/article/20140527023623-45670230-entrepreneurship-101-lessons-from-the-field',\n",
       " 'http://techblog.bozho.net/?p=1438',\n",
       " 'http://www.informationsecuritybuzz.com/encryption-existed-long-computers/',\n",
       " 'http://monthlymusichackathon.org/post/86027357692/viz',\n",
       " 'http://www.theguardian.com/commentisfree/2014/may/27/airbnb-uber-taxes-regulation',\n",
       " 'http://www.code-love.com/2014/05/26/key-success-build-simply/',\n",
       " 'http://news.spotify.com/us/2014/05/27/important-notice-to-our-users/',\n",
       " 'http://shkspr.mobi/blog/2014/05/ascii-art-in-qr-codes/',\n",
       " 'http://www.wovenware.com/blog/2014/05/10-tips-to-be-a-better-blogger/',\n",
       " 'http://blog.avast.com/2014/05/26/avast-forum-offline-due-to-attack/',\n",
       " 'http://fivethirtyeight.com/features/be-skeptical-of-both-piketty-and-his-skeptics/',\n",
       " 'http://www.makethings.io',\n",
       " 'http://nepp.nasa.gov/whisker/index.html',\n",
       " 'http://coreyeastman.com/next-rfp-wont-work/',\n",
       " 'http://xbsoftware.com/blog/xbtrack-simple-task-bug-tracking-system/',\n",
       " '',\n",
       " 'http://matt.coneybeare.me/uaprogressview-simple-lightweight-and-powerful/',\n",
       " 'http://www.cnn.com/2014/05/27/world/asia/malaysia-missing-plane/',\n",
       " 'http://hopefulgeranium.blogspot.com/2014/05/diabetes-as-iatrogenic-disease-indian.html',\n",
       " 'http://developer.telerik.com/featured/which-core-phonegapcordova-plugins-do-i-need/',\n",
       " 'https://github.com/adriancooney/SKImport',\n",
       " 'http://www.exeideas.com/2014/05/top-10-logo-design-tips-for-budding.html',\n",
       " 'http://finance.yahoo.com/news/iran-judge-summons-facebook-ceo-court-103740304--finance.html',\n",
       " 'https://www.google.com/maps/place/Hashima+Island',\n",
       " '',\n",
       " 'http://red-badger.com/blog/2014/05/27/automated-cross-browser-testing-with-browserstack-and-circleci/',\n",
       " 'http://www.orientechnologies.com/orientdb-1-7-is-out/',\n",
       " 'http://www.theguardian.com/technology/2014/may/27/-sp-privacy-under-attack-nsa-files-revealed-new-threats-democracy',\n",
       " 'http://www.washingtonpost.com/blogs/innovations/wp/2014/05/27/ubers-remarkable-growth-could-end-the-era-of-poorly-paid-cab-drivers/',\n",
       " 'http://sophisticatedfinance.typepad.com/sophisticated_finance/2014/05/another-reason-to-explain-social-entrepreneurship.html',\n",
       " 'http://theumlaut.com/2014/04/09/how-uber-and-airbnb-resurrect-dead-capital/',\n",
       " 'http://getstache.com',\n",
       " 'http://www.thegeekyglobe.com/wordpress-accounts-logged-in-on-unsecured-networks-can-be-hacked.html',\n",
       " 'http://rationallyspeaking.blogspot.nl/2009/11/on-difference-between-science-and.html',\n",
       " 'http://nsqsdkv.com/growth-hacking-yo/',\n",
       " 'http://opinionator.blogs.nytimes.com/2014/05/25/judging-spinoza/',\n",
       " 'http://blog.marcobehler.com/whats-desparately-missing-from-the-tddtesting-debate/',\n",
       " 'http://tedxtalks.ted.com/video/TEDxSanAntonio-Bennie-Lewis-Flu',\n",
       " 'http://www.jamesstone.co/blog/zurb-foundation-5-grids-redux',\n",
       " 'http://ivoras.net/blog/tree/2014/May-dear-google-make-me-a-phone.html',\n",
       " 'https://itunes.apple.com/us/app/repostly/id848143749',\n",
       " 'https://github.com/updatenode/unclient',\n",
       " 'http://www.jayaprasad.com/prototypes/healthbook/',\n",
       " 'http://www.bbc.com/news/magazine-27493731',\n",
       " 'http://arstechnica.com/science/2014/05/mysterious-disease-rides-on-the-winds-across-the-pacific-ocean/',\n",
       " 'https://www.linkedin.com/today/post/article/20140526095407-137000-you-say-you-want-a-revolution?trk=tod-home-art-list-large_0',\n",
       " 'http://blog.jetbrains.com/blog/2014/05/27/nitra-goes-open-source/',\n",
       " 'http://bernardlunn.wordpress.com/2014/05/27/who-will-create-the-netscape-of-the-blockchain-era/',\n",
       " 'http://blog.jaredsinclair.com/post/86977861050/smartphones-the-internet-of-things-and-the-death-of',\n",
       " 'http://josscrowcroft.github.io/accounting.js/',\n",
       " 'http://www.wired.com/2014/01/delivery-drones-already-exist/',\n",
       " 'http://www.bbc.co.uk/news/science-environment-19840555',\n",
       " 'http://www.ashidakim.com/zenkoans/zenindex.html',\n",
       " 'http://www.bbc.com/news/world-asia-27576409',\n",
       " 'http://alexsblog.org/2014/05/27/why-are-we-so-afraid-of-technology/',\n",
       " 'https://github.com/ustream/openduty',\n",
       " 'http://blog.metaobject.com/2014/05/live-objects-vs-static-types-for-code.html',\n",
       " 'https://www.tbray.org/ongoing/When/201x/2014/05/26/Privacy-Levels',\n",
       " 'https://medium.com/business-startup-development-and-more/b08c18d5c00f',\n",
       " 'http://jelv.is/blog/Lazy-Dynamic-Programming/',\n",
       " 'http://cnx.org/content/m12492/1.3/',\n",
       " 'http://ocsigen.org/eliom/changelog',\n",
       " 'http://status.namecheap.com/?p=15759',\n",
       " 'http://www.bbc.com/news/magazine-27503660',\n",
       " 'http://davidgaughran.wordpress.com/2014/05/26/amazon-v-hachette-dont-believe-the-spin/',\n",
       " 'http://www.itechnote.com/company-visionary/',\n",
       " 'http://arxiv.org/abs/1405.4053',\n",
       " 'http://mashable.com/2014/05/25/commercial-gps-25-anniversary',\n",
       " 'http://www.bbc.co.uk/news/magazine-27503660',\n",
       " 'http://www.cinexhd.com/',\n",
       " 'https://medium.com/@KounterB/68c443fe5041',\n",
       " 'http://www.nytimes.com/2014/05/27/science/all-circuits-are-busy.html?ref=science&_r=0',\n",
       " 'http://i.liketightpants.net/and/hackers-culture-and-the-fear-of-wysiwyg',\n",
       " 'http://www.scientificamerican.com/article/a-new-theory-of-everything-reality-emerges-from-cosmic-copyright-law/',\n",
       " '',\n",
       " '',\n",
       " 'http://en.wikipedia.org/wiki/Van_Eck_phreaking',\n",
       " 'http://www.forbes.com/sites/sungardas/2014/05/12/when-hiring-employees-look-for-a-track-record-of-failures-not-successes/',\n",
       " 'https://github.com/schleyfox/peach',\n",
       " 'http://smallbusinessesdoitbetter.com/2014/05/big-marketing-small-businesses-2014/',\n",
       " 'http://venturebeat.com/2014/05/23/the-nsa-is-recording-every-single-phone-call-from-afghanistan/',\n",
       " 'http://vampmissedith.tumblr.com/post/86760365640/when-i-was-a-freshman-my-sister-was-in-eighth',\n",
       " 'https://www.quantconnect.com/blog/the-importance-of-benchmarking',\n",
       " '',\n",
       " 'http://object.cato.org/sites/cato.org/files/serials/files/cato-journal/2014/5/cato-journal-v34n2-5.pdf',\n",
       " 'http://www.neuflow.org/',\n",
       " 'http://imgur.com/LZ0Q2WL',\n",
       " 'http://www.scientificamerican.com/article/the-whole-economy-is-rife-with-ponzi-schemes/',\n",
       " 'http://economictimes.indiatimes.com/slideshows/biz-entrepreneurship/mumbais-francescos-pizzeria-delivers-pizza-using-a-drone/technical-difficulties/slideshow/35614781.cms',\n",
       " 'http://www.clouddomain.co',\n",
       " 'http://www.arcticstartup.com/2014/05/26/it%e2%80%99s-2014-you-need-a-full-stack-localization-solution',\n",
       " 'http://freeman.is/overcome-mental-blocks-cultivate-creativity/',\n",
       " 'http://pando.com/2014/05/26/the-cofounder-of-rap-genius-has-long-been-a-trainwreck-so-where-the-hell-was-ben-horowitz/',\n",
       " 'http://www.bloomberg.com/visual-data',\n",
       " 'http://www.scientificamerican.com/article/twitter-to-release-all-tweets-to-scientists-a-trove-of-billions-of-tweets-will-be-a-research-boon-and-an-ethical-dilemma/',\n",
       " 'http://www.wired.com/2014/05/darkcoin-is-booming?curator=MediaREDEF',\n",
       " 'http://www.economist.com/news/business/21602757-managers-most-traditional-industries-distrust-promising-new-technology-digital?frsc=dg|a',\n",
       " 'http://techcrunch.com/2014/05/25/long-delayed-connected-device-tile-finally-starts-shipping/',\n",
       " 'http://fourlightyears.blogspot.com.au/2014/05/python-2-versus-python-3-beginners.html',\n",
       " 'http://blog.cindypotvin.com/saving-data-to-a-file-in-your-android-application/',\n",
       " 'http://www.neal.is/blogging/7-life-lessons-learned-from-losing-120-pounds',\n",
       " 'http://pablin.org/2014/05/26/what-if-the-rumored-apple-home-automation-is-the-next-apple-tv/',\n",
       " '',\n",
       " 'https://www.kickstarter.com/projects/1123712033/smash-the-game-changing-tennis-wearable',\n",
       " 'http://arxiv.org/abs/0709.4024#',\n",
       " 'http://io9.com/humanity-is-now-officially-ready-for-suspended-animatio-1581727874',\n",
       " 'http://wind8apps.com/steve-ballmer-nba-clippers/',\n",
       " 'http://www.businessinsider.com/erin-mcelroy-and-san-francisco-anti-tech-gentrification-protests-2014-5',\n",
       " 'http://techcrunch.com/2014/05/26/rap-genius-co-founder-resigns-following-elliot-rodger-manifesto-annotations/',\n",
       " 'http://en.wikipedia.org/wiki/Kotatsu',\n",
       " 'http://www.bbc.com/future/story/20140523-email-is-broken-how-to-fix-it',\n",
       " 'http://mandelbrot-set.com',\n",
       " 'http://austingwalters.com/building-a-web-server-in-go-database-accesses/',\n",
       " 'http://www.newyorker.com/reporting/2009/03/30/090330fa_fact_osnos',\n",
       " 'https://medium.com/p/5d2ad703365d',\n",
       " 'http://thoughtram.io/',\n",
       " 'http://www.josebalius.com/ngreactgrid-an-angularjs-grid-using-reactjs-to-render/',\n",
       " 'http://www.entrepreneur.com/article/234153',\n",
       " '',\n",
       " '',\n",
       " 'http://blog.fora.tv/2014/05/beauty-in-numbers-solving-the-unsolvable-riemann-hypothesis/',\n",
       " 'https://medium.com/p/2a7af4788b10',\n",
       " 'https://medium.com/@theclarkatron/3618acb2d01',\n",
       " 'http://www.geologypage.com/2014/05/earthquake-simulation-tops-1.html',\n",
       " 'http://www.bbc.co.uk/news/magazine-20356613',\n",
       " 'http://yellerapp.com/helps/debugging.html',\n",
       " 'http://guenael.ca/blog/2014/05/25/article-slot-antennas/',\n",
       " 'http://deoxy.org/pkd_how2build.htm',\n",
       " 'http://www.theregister.co.uk/2014/05/23/musk_air_force_ula_spy_sat_launch_contract/',\n",
       " 'http://jeremykun.com/2014/05/26/learning-to-love-complex-numbers/',\n",
       " 'http://hunterwalk.com/2014/05/26/verified-data-will-prevent-fake-it-til-you-make-it/',\n",
       " 'http://www.anandtech.com/show/8030/backup-guide',\n",
       " 'http://www.cnet.com/news/new-http-standard-for-a-faster-web-finished-by-year-end-maybe-not/',\n",
       " 'http://priceonomics.com/the-worst-waiter-in-history/',\n",
       " 'http://www.datascienceweekly.org/blog/22-myfitnesspal-data-science-improve-health-fitness-chul-lee-interview',\n",
       " 'http://www.polyglotprogramminginc.com/httparty-cookies-and-devise/',\n",
       " 'http://betabeat.com/2014/05/next-gen-warfare-hackers-not-the-government-will-fight-our-next-big-war/',\n",
       " 'http://yt-downloader.herokuapp.com/',\n",
       " 'http://www.volokh.com/posts/chain_1240849478.shtml',\n",
       " 'http://mytwoandahalfcents.com/five-statistics-define-future/',\n",
       " 'http://www.ohadsamet.com/2014/05/26/how-are-you-doing-and-hacking-the-ceo-game/',\n",
       " 'http://www.businessinsider.com/twitter-censors-political-accounts-2014-5',\n",
       " 'http://stackoverflow.com/questions/2850369/why-does-git-fast-forward-merges-by-default',\n",
       " 'http://www.genetic-programming.org/hc2012/LeGoues-Paper-1.pdf',\n",
       " 'http://qz.com/213455',\n",
       " 'http://codepen.io/dpskvn/full/Btbys',\n",
       " 'http://lambtracker.com/',\n",
       " 'http://wwwily.co.uk/',\n",
       " 'http://news.rapgenius.com/Lemon-a-statement-about-mahbods-annotations-on-elliot-rodgers-manifesto-annotated',\n",
       " 'https://github.com/mapmeld/gitjk#gitjk',\n",
       " 'http://en.m.wikipedia.org/wiki/Barry_Minkow',\n",
       " 'http://vsqlite.virtuosic-bytes.com/',\n",
       " 'http://www.slatestudio.com/blog/p/better-programming-with-ruby-on-rails-and-angularjs',\n",
       " 'http://www.reuters.com/article/2014/05/26/us-china-pollution-idINKBN0E60AZ20140526?',\n",
       " 'http://arstechnica.com/security/2014/05/unsafe-cookies-leave-wordpress-accounts-open-to-hijacking-2-factor-bypass/',\n",
       " 'https://github.com/yutarochan/PRNGPredict',\n",
       " 'http://factormystic.net/utils/data-vis/yakkos-nations-of-the-world/',\n",
       " 'http://www.sparringmind.com/productivity-science/',\n",
       " 'http://www.cs.rochester.edu/u/michael/PODC96.html',\n",
       " 'https://github.com/sbussard/launchpad',\n",
       " 'http://phys.org/news/2014-05-tails-experimental-quantum-coin-flipping.html',\n",
       " 'https://github.com/NodeRT/NodeRT/blob/master/README.md',\n",
       " 'https://medium.com/p/e1ac231eee86',\n",
       " 'http://www.infoq.com/articles/data-modeling-graph-databases?utm_source=hackernews&utm_medium=link&utm_campaign=datamodel',\n",
       " 'http://codegeekz.com/html-for-icon-fonts/',\n",
       " 'https://www.youtube.com/watch?v=qv5b1Xowxdk',\n",
       " 'http://falkvinge.net/2014/05/26/solar-roadways-please-learn-from-oculus-mistake-and-become-a-co-op/',\n",
       " 'http://1000daysofsyria.com/',\n",
       " 'http://www.theverge.com/2014/5/26/5751816/apple-developing-home-automation-features-for-iphone-report',\n",
       " 'https://github.com/aaronshaver/GooglePrivacyEnhancer/pull/2',\n",
       " 'https://www.cs.cmu.edu/~guyb/papers/Ble93.pdf',\n",
       " 'http://www.random.org/lessness/',\n",
       " 'https://github.com/robinmonjo/parklog',\n",
       " 'http://victorsavkin.com/post/86909839576/angulardart-for-angularjs-developers-introduction-to',\n",
       " 'http://www.aula.io',\n",
       " 'http://www.webperformancetoday.com/2014/05/21/stop-presses-average-web-page-actually-gotten-smaller-bigger/',\n",
       " 'http://blog.jooq.org/2014/05/26/yet-another-10-common-mistakes-java-developer-make-when-writing-sql-you-wont-believe-the-last-one',\n",
       " 'http://www.usacryptocoins.com/thecryptocurrencytimes/uncategorized/auroracoin-one-of-the-biggest-pump-and-dumps-in-cryptocurrency-history/',\n",
       " 'https://work.caltech.edu/telecourse.html',\n",
       " 'http://monkey-robot.com/2014/05/clojure-a-retrospective/',\n",
       " 'http://mirrors.dotsrc.org/fosdem/2014/K4401/Sunday/LDC_the_LLVMbased_D_compiler.webm',\n",
       " 'http://idlewords.com/bt14.htm',\n",
       " 'http://www.cnet.com/news/feds-recommend-lenience-for-lulzsec-hacker-sabu/',\n",
       " 'http://www.macrumors.com/2014/05/25/arm-mac-magic-trackpad/',\n",
       " 'http://fairduty.wordpress.com/2014/05/19/gratitude-would-have-been-better/',\n",
       " 'http://www.diygenius.com/how-to-get-a-liberal-arts-education-without-going-to-university/',\n",
       " '',\n",
       " 'http://pmindia.nic.in/',\n",
       " 'http://joelennon.com/professional-node-js-training/',\n",
       " 'https://econstudentlog.wordpress.com/2013/07/23/a-little-stuff-about-modelling/',\n",
       " 'http://finance.yahoo.com/blogs/daily-ticker/amazon-s-not-a-monopolist----that-would-be-the-book-publishers-160922647.html',\n",
       " '',\n",
       " 'http://www.sql4bi.com/2014/05/syntactically-better-sql-create.html',\n",
       " 'http://visible.company/2014/05/install-skype-desktop-applications-chromebooks-using-digital-ocean/',\n",
       " 'http://mat-mcloughlin.net/2014/05/26/the-fastest-way-to-remove-crap-from-your-system-is-to-put-no-crap-in-your-system/#.U4NgUZtJIz1.hackernews',\n",
       " 'http://www.ft.com/intl/cms/s/0/1bef71b8-e433-11e3-a73a-00144feabdc0.html?siteedition=intl',\n",
       " 'http://blogs.msdn.com/b/oldnewthing/archive/2014/05/26/10528351.aspx',\n",
       " 'http://toolbar.netcraft.com/site_report?url=http://creatishabitat.com',\n",
       " 'http://www.theguardian.com/technology/2014/may/22/kerbal-space-program-why-nasa-minecraft',\n",
       " 'http://www.washingtonpost.com/national/health-science/in-dogs-play-researchers-see-honesty-and-deceit-perhaps-something-like-morality/2014/05/19/d8367214-ccb3-11e3-95f7-7ecdde72d2ea_story.html',\n",
       " 'http://www.forbes.com/sites/stevedenning/2012/11/20/what-killed-michael-porters-monitor-group-the-one-force-that-really-matters/',\n",
       " 'http://www.businessinsider.com/little-kids-react-to-old-computers-2014-5',\n",
       " 'http://www.nerdwallet.com/blog/health/2014/03/26/medical-bankruptcy/',\n",
       " 'http://khanlou.com/2014/05/smalltalky-control-structures/',\n",
       " 'https://github.com/sourceful',\n",
       " 'http://pressurenet.io/blog/pressurenet-update-442/',\n",
       " 'https://github.com/Databay/ownUnity',\n",
       " 'http://mashable.com/2014/05/26/uber-valuation-17-billion/?utm_campaign=Mash-Prod-RSS-Feedburner-All-Partial&utm_cid=Mash-Prod-RSS-Feedburner-All-Partial&utm_medium=feed&utm_source=feedly&utm_reader=feedly',\n",
       " 'http://www.dennyzhang.com/persuade_boss_freelancing/',\n",
       " 'http://www.wired.com/2014/05/antvr/',\n",
       " 'https://kinsta.com/blog/web-scraping-wordpress-sites-prevent/',\n",
       " 'http://jkant.blogspot.it/2014/05/chuck-demos.html',\n",
       " 'http://www.reuters.com/article/2014/05/26/us-china-pollution-idINKBN0E60AZ20140526?feedType=RSS&feedName=worldNews',\n",
       " 'https://twitter.com/SecurityTube/status/470904442477244416',\n",
       " 'http://tiny-giant-books.com/blog/agile-memes-part-1/',\n",
       " 'http://blog.monkey-project.com/monkey-v1-5-emperor-tamarin-is-out/',\n",
       " 'http://blog.analytics-toolkit.com/2014/why-every-internet-marketer-should-be-a-statistician/',\n",
       " 'http://www.re-cycledair.com/restoring-a-14-year-old-website',\n",
       " 'http://www.developeragents.com/',\n",
       " 'http://arcticstartup.com/2014/05/26/it%E2%80%99s-2014-you-need-a-full-stack-localization-solution',\n",
       " 'https://medium.com/the-julia-language/a556e6cdcd10',\n",
       " 'http://contrarianroast.co/2014/05/26/keep-rolling/',\n",
       " 'http://www.ebay.com/reset',\n",
       " 'http://www.reginout.com/nflp/eradicate-itunes-errors-in-windows-os.html',\n",
       " 'http://www.buzzfeed.com/jimdalrympleii/the-bizarre-and-horrifying-autobiography-of-a-mass-shooter?bffb',\n",
       " 'http://w3techs.com/blog/entry/fact_20140526',\n",
       " 'http://www.informationisbeautiful.net/visualizations/google-ngram-experiments/',\n",
       " 'https://github.com/cockroachdb/cockroach',\n",
       " 'http://edition.cnn.com/2014/05/21/travel/budapest-escape-games/index.html?hpt=hp_c2',\n",
       " 'http://torrentfreak.com/pirate-party-keeps-a-seat-at-the-european-parliament-140526/',\n",
       " 'http://www.nytimes.com/2013/07/21/business/global/hauling-new-treasure-along-the-silk-road.html?_r=0&pagewanted=all',\n",
       " 'http://www.bloomberg.com/news/2014-05-21/google-needs-up-to-30-billion-in-cash-overseas-for-deals.html',\n",
       " 'http://jakeaustwick.me/why-you-should-give-ponyorm-a-chance',\n",
       " 'http://anengineersaspect.tumblr.com/post/86885856078/ethicfail-nature-no-photoshop-required-1',\n",
       " 'http://lsub.org/ls/clive.html/',\n",
       " 'http://www.leedsdatarecovery.co.uk/hard-drive-recovery-leeds/',\n",
       " 'http://en.wikipedia.org/wiki/Shanti_Devi',\n",
       " 'http://wefeel.csiro.au/',\n",
       " 'https://www.kickstarter.com/projects/tomwang/voltset-worlds-smartest-multimeter-for-smart-devic',\n",
       " 'http://www.rotub.me/blog/kids-books.html',\n",
       " 'http://www.dailydot.com/politics/net-neutrality-glossary-terms/',\n",
       " 'http://www.linkedin.com/today/post/article/20140523064758-5340287-can-crowd-testing-replace-quality-teams?trk=object-title',\n",
       " 'http://www.washingtonpost.com/blogs/the-switch/wp/2014/05/23/thanks-to-budget-cuts-we-may-never-know-for-sure-why-the-universe-is-expanding/',\n",
       " 'http://www.bbc.co.uk/news/magazine-27537142',\n",
       " 'http://www.bbc.com/news/science-environment-23349496',\n",
       " 'http://blog.websecurify.com/2014/05/what-to-expect-in-proxy-app.html',\n",
       " 'http://webdesignporto.com/react-js-an-interactive-tutorial-to-get-started?utm_source=hackernews',\n",
       " 'http://www.westernjournalism.com/specter-haunting-europe/',\n",
       " 'http://www.imore.com/regarding-arm-based-macs',\n",
       " 'http://rt.com/news/161432-eu-parliament-eurosceptic-results/',\n",
       " 'https://github.com/lonepie/mintty-quake-console',\n",
       " 'https://github.com/knrz/CSV.js',\n",
       " 'http://blog.sujeet.me/2014/05/block-encompassing-macros-in-c.html',\n",
       " 'http://www.extremetech.com/extreme/182500-dual-carbon-batteries-is-this-finally-the-breakthrough-weve-been-promised-for-so-long',\n",
       " 'http://www.technologyreview.com/news/527381/ges-1-billion-software-bet/',\n",
       " '',\n",
       " 'http://www.theguardian.com/technology/2014/may/24/us-visas-chinese-hackers-conferences',\n",
       " 'http://googlewebmastercentral.blogspot.co.il/2014/05/understanding-web-pages-better.html?utm_source=feedburner&utm_medium=feed&utm_campaign=Feed:+blogspot/amDG+(Official+Google+Webmaster+Central+Blog)',\n",
       " 'http://lists.w3.org/Archives/Public/ietf-http-wg/2014AprJun/0815.html',\n",
       " 'http://blog.worldofcoding.com/2014/05/cross-compiling-c11-without-going-madder.html',\n",
       " 'http://aeon.co/magazine/living-together/crowds-show-us-working-together-at-our-best',\n",
       " 'http://www.jacook.name/discovery/discoverysteardrop.html',\n",
       " 'https://github.com/NodeRT/NodeRT',\n",
       " 'http://www.kyivpost.com/content/ukraine/authorities-hackers-foiled-in-bid-to-rig-ukraine-presidential-election-results-349288.html',\n",
       " 'http://www.genudi.com/blog/2014/05/25/from-machine-to-confidant-in-5-minutes/',\n",
       " 'http://www-stat.wharton.upenn.edu/~hwainer/Readings/Wainer_Estimating%20Coefficients%20in%20Linear%20Models.pdf',\n",
       " 'http://flux7.com/blogs/glossary/a-glossary-for-agile-programming-methodologies/',\n",
       " 'http://kshitijtalks.blogspot.com/2014/05/how-i-shot-up-my-quora-credits-with.html',\n",
       " 'https://thestrangeloop.com/sessions',\n",
       " 'https://medium.com/p/b08c18d5c00f',\n",
       " 'http://pancakebot.com/',\n",
       " 'http://www.startupnews.com.au/2014/05/22/the-coder-factory-hits-perth/',\n",
       " 'http://www.bbc.com/news/magazine-27519748',\n",
       " 'http://blog.semilshah.com/2014/05/25/a-theory-on-the-rise-of-tweetstorms/',\n",
       " '',\n",
       " 'http://www.fda.gov/AnimalVeterinary/SafetyHealth/ProductSafetyInformation/ucm295445.htm',\n",
       " 'http://cs.nyu.edu/~zaremba/docs/understanding.pdf',\n",
       " 'http://kukuruku.co/hub/java/java-8-spring-hibernate-ssp-lets-play',\n",
       " '',\n",
       " 'https://github.com/search?q=%22%3Awq%22&ref=cmdform&type=Code',\n",
       " 'http://www.nytimes.com/2014/05/26/business/media/a-platform-and-blogging-tool-medium-charms-writers.html?referrer=',\n",
       " 'http://www.solarroadways.com/numbers.shtml',\n",
       " 'http://getjustmail.com/',\n",
       " 'https://github.com/konr/tomatinho',\n",
       " 'http://en.wikipedia.org/wiki/List_of_distributed_computing_projects',\n",
       " 'https://medium.com/on-intent/6db3fdcb8bbb',\n",
       " 'http://cursive.appneeti.com/?p=66',\n",
       " 'http://blog.tradegecko.com/ecommerce-businesses-turning-logistics-companies-interview-redmarts-ceo-operations-backend/',\n",
       " 'http://www.daveakerman.com/?p=1536',\n",
       " 'https://plus.google.com/+KajSotala/posts/hofuxyXz78j',\n",
       " 'https://github.com/Cetsoft/imcache',\n",
       " 'https://www.youtube.com/watch?v=1hpU_Neg1KA',\n",
       " '',\n",
       " 'https://blog.conformal.com/btcd-beta-announcement/',\n",
       " 'http://www.repl-electric.com/',\n",
       " 'http://blog.waevio.com/hyper-time/',\n",
       " 'http://www.lifespanmachine.org',\n",
       " 'http://webfieldmanual.com/',\n",
       " 'http://sean.co/346',\n",
       " 'http://www.nytimes.com/2014/05/25/opinion/sunday/end-mass-incarceration-now.html?_r=0',\n",
       " 'https://www.youtube.com/watch?v=PF7EpEnglgk',\n",
       " '',\n",
       " 'https://www.youtube.com/watch?v=6rnF2Mo80x0',\n",
       " 'http://fleksy.com/',\n",
       " 'http://science.slashdot.org/story/14/05/25/1846220/quad-lasers-deliver-fast-earth-based-internet-to-the-moon',\n",
       " 'http://techcrunch.com/2014/05/25/apples-expanded-my-verse-campaign-pitches-ipad-as-mobile-creation-tool/',\n",
       " 'http://www.cs.tufts.edu/~nr/pubs/sync.pdf',\n",
       " 'http://elifesciences.org/content/3/e01911',\n",
       " 'http://www.tuxradar.com/content/karen-sandler-full-interview',\n",
       " 'http://blog.crowdtilt.com/crowdhoster-becomes-crowdtiltopen/',\n",
       " 'http://hackcircus.libsyn.com/hack-circus-access-all-areas',\n",
       " 'http://www.mapcore.org/page/features/_/articles/making-a-map-cs-museum-r25',\n",
       " 'https://plus.google.com/+MiodragMili%C4%87/posts/SYSSsKsHSNH',\n",
       " 'http://mailp.in/n4LlnN0f/',\n",
       " 'http://use-the-index-luke.com/blog/2014-05/what-i-learned-about-sqlite-at-a-postgresql-conference',\n",
       " 'http://www.quora.com/Paul-Graham/What-does-Paul-Graham-think-of-Quora-joining-the-next-YC-batch?share=1',\n",
       " 'http://www.bbc.com/news/health-27538195',\n",
       " '',\n",
       " 'http://www.theguardian.com/science/alexs-adventures-in-numberland/2014/may/21/notation-history-mathematical-symbols-joseph-mazur',\n",
       " 'http://satyajit.ranjeev.in/2014/05/25/bitter-sweet-acme.html',\n",
       " 'http://blog.bitbucket.org/2014/05/20/introducing-the-new-fluid-width-bitbucket',\n",
       " 'http://lispm.de/genera-concepts',\n",
       " 'http://axel22.github.io/2013/11/03/specialization-quirks.html',\n",
       " 'http://cartodb.github.io/lisbon-2014/#/4/44.62/10.77/75',\n",
       " 'http://www.endgame.com/blog/defcon-capture-the-flag-qualification-challenge-1.html',\n",
       " 'http://www.nytimes.com/2014/05/25/opinion/sunday/fitness-crazed.html?hpw&rref=opinion',\n",
       " 'http://utensils.io/barcoded/',\n",
       " '',\n",
       " 'http://www.washingtonpost.com/news/volokh-conspiracy/wp/2014/05/24/operation-choke-point/',\n",
       " 'http://sifter.org/~simon/journal/20060428.html',\n",
       " 'http://www.newscientist.com/article/mg22229702.500-earths-backup-sending-religious-texts-to-the-moon.html#.U4I05XIju1E',\n",
       " 'http://sqlite.org/src4/doc/trunk/www/design.wiki',\n",
       " '',\n",
       " 'https://plus.google.com/113174802278825610073/posts/AF6CKMoWn14',\n",
       " 'http://www.learnalgorithms.in/',\n",
       " 'http://confreaks.com/videos/3422-gophercon2014-a-channel-compendium?',\n",
       " 'http://www.somebits.com/weblog/tech/bad/quora-scribd-considered-harmful.html',\n",
       " 'http://www.newyorker.com/online/blogs/books/2014/05/whats-in-a-pen-name.html',\n",
       " 'http://www.telegraph.co.uk/news/worldnews/asia/china/10820248/Tiananmen-Massacre-25th-anniversary-how-Chinese-triads-enabled-the-Great-Escape.html',\n",
       " 'http://nypost.com/2014/05/24/son-finds-his-lost-mother-in-a-stone-age-tribe/',\n",
       " 'http://www.engadget.com/2014/05/23/hailo-london-hq-vandalized/',\n",
       " 'http://online.wsj.com/article/SB10001424052702304536104579560021265554240.html',\n",
       " 'http://willyreport.wordpress.com/2014/05/25/the-willy-report-proof-of-massive-fraudulent-trading-activity-at-mt-gox-and-how-it-has-affected-the-price-of-bitcoin/',\n",
       " 'http://www.businessinsider.com/what-is-yik-yak-2014-5',\n",
       " 'http://www.scientificamerican.com/article/consciousness-might-emerge-from-a-data-broadcast/',\n",
       " 'https://www.youtube.com/watch?v=V-PAW3KoB_A',\n",
       " 'https://www.crowdfunder.com/cdnpal',\n",
       " 'http://benjamintanweihao.github.io/blog/2014/05/25/connecting-elixir-nodes-on-the-same-lan/',\n",
       " 'https://medium.com/i-m-h-o/9ae1727d2479',\n",
       " 'http://webcraftr.com/blog/wordpress-drupal-custom/',\n",
       " 'https://seanmckaybeck.com/2014/05/25/bitcoin-is-not-anonymous/',\n",
       " 'http://www.nature.com/nature/journal/v509/n7501/full/nature13303.html',\n",
       " 'http://lumelet.com/login',\n",
       " 'https://www.kickstarter.com/projects/612530753/gitchain/messages/6661353',\n",
       " 'http://techcrunch.com/2014/05/25/how-cloud-startups-are-changing-the-face-of-innovation/',\n",
       " 'http://www.cs.arizona.edu/patterns/weaving/sdrafts.html',\n",
       " 'http://money.cnn.com/2014/05/22/technology/amazon-robots/',\n",
       " 'http://moalquraishi.wordpress.com/2014/05/25/what-does-a-neural-network-actually-do/',\n",
       " 'http://tburette.github.io/blog/2014/05/25/so-you-want-to-write-your-own-CSV-code/',\n",
       " 'http://davidgerard.co.uk/notes/2014/05/22/weve-won-no-tail-lights-now-what/',\n",
       " 'http://www.williamghelfi.com/blog/2014/05/24/select-form-field-bad-practices-and-how-to-fix-it/?hn',\n",
       " 'http://www.bunniestudios.com/blog/?p=4018',\n",
       " 'http://www.esquire.com/features/favorite-teacher-0300',\n",
       " 'http://nocamels.com/2014/05/10-funniest-israeli-startup-videos/',\n",
       " 'http://www.ncbi.nlm.nih.gov/pubmed/24650597',\n",
       " 'https://github.com/hemanth/es6-lab-setup',\n",
       " 'http://www.boston.com/news/nation/2014/05/24/excerpts-from-the-ucsb-shooter-page-manifesto/1DIgXAeCmF9pKdxJxvtQlL/story.html',\n",
       " 'https://play.google.com/store/apps/details?id=etaoiDemo.five',\n",
       " 'https://msmvps.com/blogs/jon_skeet/archive/2009/11/02/omg-ponies-aka-humanity-epic-fail.aspx',\n",
       " 'http://natalian.org/archives/2013/08/22/Gmail_to_Fastmail/',\n",
       " 'http://www.economist.com/news/special-report/21570834-nordic-region-becoming-hothouse-entrepreneurship-if-doubt-innovate?fb_ref=activity',\n",
       " 'http://www.forbes.com/sites/jordanshapiro/2014/05/24/if-euclid-played-video-games-this-is-the-app-hed-build-to-teach-geometry/',\n",
       " 'http://en.wikipedia.org/wiki/Towel_Day?2014',\n",
       " 'https://vimeo.com/96317948',\n",
       " 'http://successbreak.net/halo/',\n",
       " 'http://www.xaprb.com/blog/2014/05/10/can-mysql-be-12factor-service/',\n",
       " 'http://unix.stackexchange.com/q/69322/22558',\n",
       " 'http://www.exp-math.uni-essen.de/~immink/pdf/beethoven.pdf',\n",
       " 'http://blogs.wsj.com/digits/2014/05/20/data-point-yes-email-still-eats-up-a-good-chunk-of-your-day/?mod=e2tw',\n",
       " 'https://gigaom.com/2013/08/16/were-on-the-cusp-of-deep-learning-for-the-masses-you-can-thank-google-later/',\n",
       " 'http://blog.ashnab.com/blog-series-spring-boot-in-action-part-1-hello-kotoby/',\n",
       " 'https://github.com/KryDos/bash-password-generator',\n",
       " 'https://medium.com/p/95bbecedf836',\n",
       " 'http://www.drb.ie/essays/this-life-a-long-disease/',\n",
       " 'http://scaramoche.blogspot.com/2014/05/rocking-with-mongodb-on-spring-boot.html',\n",
       " 'http://karan.github.io/time-management/',\n",
       " 'http://m.tuaw.com/2014/05/23/strava-begins-selling-your-data-points-in-the-hopes-of-creating/',\n",
       " 'https://www.youtube.com/watch?v=VcdX6Qz5-jw&index=4&list=PLsRNoUx8w3rOFE2Izzwuxiij5q1hhD6qN',\n",
       " '',\n",
       " 'http://www.nytimes.com/2014/05/25/nyregion/hacker-helped-disrupt-attacks-prosecutors-say.html',\n",
       " 'http://austingwalters.com/newtons-method-and-fractals/',\n",
       " 'http://notes.kateva.org/2014/05/who-killed-american-broadcast-tv-time.html',\n",
       " 'http://benjaminjcousins.wordpress.com/2014/04/01/richard-feynmans-computer-disease/',\n",
       " 'http://essays.tkaz.ec/gulp-plus-highland/',\n",
       " 'http://www.cs.cmu.edu/~awb/linux.history.html',\n",
       " 'https://login.metafilter.com/funding.mefi',\n",
       " 'http://txt.fliglio.com/2014/05/encapsulated-services-with-consul-and-confd/',\n",
       " 'http://krugman.blogs.nytimes.com/2014/05/24/is-piketty-all-wrong/',\n",
       " '',\n",
       " 'http://www.bbc.co.uk/programmes/b044mkxt',\n",
       " 'http://www.justiceonline.org/one-nation-under-surveillance/index.html',\n",
       " 'https://www.youtube.com/watch?v=_C5AHaS1mOA',\n",
       " '',\n",
       " 'http://straightdope.com/columns/read/2657/does-a-refrigerator-cool-more-efficiently-when-full',\n",
       " 'http://www.nytimes.com/2014/05/25/us/final-word-on-us-law-isnt-supreme-court-keeps-editing.html',\n",
       " 'http://www.computerworld.com/s/article/9248478/A_wireless_network_for_gadgets_set_to_arrive_in_San_Francisco',\n",
       " 'https://github.com/knrz/CSVjs',\n",
       " 'http://www.engadget.com/2014/05/24/my-first-time-with-linux/',\n",
       " 'http://pgbovine.net/PhD-memoir-year1.htm',\n",
       " 'http://gigaom.com/2014/05/22/facebooks-product-guy-is-right-the-media-sucks-but-journalists-are-also-right-facebook-has-to-share-the-blame/',\n",
       " '',\n",
       " 'https://www.youtube.com/watch?v=RCCigccBzIU',\n",
       " 'http://www.businessinsider.com/ucsb-shooting-forum-associated-with-elliot-rodger-reacts-2014-5',\n",
       " 'http://forums.crackberry.com/bb10-leaked-beta-os-f395/intelligent-assistant-going-revolutionize-cellphones-933686/',\n",
       " 'https://www.youtube.com/watch?v=7vi9xt9Bbjo',\n",
       " 'https://www.paypal.com/us/webapps/mpp/beacon',\n",
       " 'http://andrewgelman.com/2013/08/14/the-robust-beauty-of-improper-linear-models-in-decision-making/',\n",
       " 'http://online.wsj.com/news/articles/SB10001424052702303480304579575900158337912',\n",
       " 'http://medium.com/message/81e5f33a24e1',\n",
       " 'http://www.theglobeandmail.com/news/world/us-may-act-to-keep-chinese-hackers-out-of-def-con-hacker-event/article18835000/',\n",
       " 'http://www.ft.com/intl/cms/s/2/e1f343ca-e281-11e3-89fd-00144feabdc0.html#axzz32c4vxogI',\n",
       " 'http://io9.com/genetic-manipulation-the-first-50-000-years-1579061396',\n",
       " 'https://www.youtube.com/watch?v=qlTA3rnpgzU#t=357',\n",
       " 'http://thewirecutter.com',\n",
       " 'http://en.wikipedia.org/wiki/Google_barges',\n",
       " 'http://en.wikipedia.org/wiki/Overview_effect',\n",
       " 'http://ilyakava.tumblr.com/post/86408872127/gerhard-richter-svd-and-me',\n",
       " 'http://gianlucatursi.github.io/GTAppMenuController/',\n",
       " '',\n",
       " 'https://medium.com/war-is-boring/f3fc9b2c087a',\n",
       " 'http://arstechnica.com/science/2014/05/wireless-broadband-can-reach-the-moon-and-maybe-mars/',\n",
       " 'http://blog.th4t.net/a-server-with-docker-part-4-git-hosting-and-static-content.html',\n",
       " 'http://sayanchowdhury.dgplug.org/posts/how-to-get-started-with-open-source.html',\n",
       " 'http://www.wired.com/2014/05/darpa-is-using-oculus-rift-to-prep-for-cyberwar/?mbid=social_fb',\n",
       " 'http://www.phoronix.com/scan.php?page=news_item&px=MTY5ODk',\n",
       " 'http://dangoldin.com/2014/05/24/on-fabs-latest-move/',\n",
       " 'http://www.washingtonpost.com/news/the-intersect/wp/2014/05/23/what-happens-when-everyword-ends/',\n",
       " 'http://www.thestar.com/business/2014/05/12/most_startups_hope_to_be_acquired_within_three_years_pwc.html',\n",
       " 'http://edn.com/Home/PrintView?contentItemId=4430168',\n",
       " 'https://www.youtube.com/watch?v=qlTA3rnpgzU#t=374',\n",
       " 'https://lists.macosforge.org/pipermail/macports-announce/2014-May/000029.html',\n",
       " 'http://www.germanpulse.com/2014/05/13/new-supermarket-open-berlin-minus-packaging/',\n",
       " 'http://www.gigapan.com/gigapans/155294',\n",
       " 'https://www.apichangelog.com/changes/bdec4105-b53c-41d1-8f26-ead7ec502989',\n",
       " 'http://www.tomtunguz.com/byobi/',\n",
       " 'http://www.ft.com/intl/cms/s/2/e1f343ca-e281-11e3-89fd-00144feabdc0.html#axzz32dyaGnnW',\n",
       " 'http://hazard.typepad.com/hazard-lights/2014/05/full-stack-analytics.html',\n",
       " 'https://github.com/prvcy/wifi-pineapple-defense',\n",
       " 'http://www.cnbc.com/id/101693940?utm_source=dlvr.it&utm_medium=twitter',\n",
       " 'https://tny.im',\n",
       " 'http://www.usatoday.com/story/news/world/2014/05/23/arctic-ice-trapped-plastic/9507653/',\n",
       " 'http://www.nijwij.com/blog1.html',\n",
       " 'http://www.randalolson.com/2014/05/24/chess-tournament-matches-and-elo-ratings/',\n",
       " 'http://www.nytimes.com/2014/05/25/magazine/the-macgyver-cure-for-cancer.html',\n",
       " 'https://www.udemy.com/laser-focused-entrepreneurship/?couponCode=Redditfree',\n",
       " 'https://www.udemy.com/hustle-anything/?couponCode=REDDITFREE',\n",
       " 'http://ck.kolivas.org/faqs/sat_fat.pdf',\n",
       " 'http://www.technologyreview.com/news/527456/wireless-power-from-across-the-room/',\n",
       " 'http://edition.cnn.com/2014/05/24/showbiz/game-of-thrones-america/',\n",
       " 'http://endl.ch/content/cxx2rust-pains-wrapping-c-rust-example-qt5',\n",
       " 'http://www.wired.com/2014/05/movie-time-travel-maps/',\n",
       " 'http://extensionengine.com/50-of-universities-will-be-bankrupt-in-10-15-years/#.U4CIbpRdXhA',\n",
       " 'https://bugzilla.mozilla.org/show_bug.cgi?id=886792#c41',\n",
       " 'http://www.r-bloggers.com/regularization-implementation-in-r-bais-and-variance-diagnosis/',\n",
       " 'http://www.coindesk.com/500-developers-already-signed-maidsafe-project/',\n",
       " 'http://venturebeat.com/2014/05/23/former-nsa-director-i-would-lose-all-respect-for-russian-if-they-havent-fully-exploited-snowden/',\n",
       " 'http://www.theage.com.au/world/a-slice-of-pizza-and-a-oneway-ticket-to-the-big-house-the-threestrikes-law-20140523-38u7q.html',\n",
       " 'http://blog.qisc.us/post/74814266438/why-companies-should-focus-on-timehack-tools-for',\n",
       " 'http://lkmake.com/note',\n",
       " 'http://blog.kissmetrics.com/industry-wide-gender-bias/',\n",
       " 'http://www.washingtonpost.com/blogs/monkey-cage/wp/2015/05/23/the-gremlins-did-it-iffy-curve-fit-drives-strong-policy-conclusions/',\n",
       " 'http://unix.stackexchange.com/q/8916/22558',\n",
       " 'http://worrydream.com/quotes/',\n",
       " '',\n",
       " 'http://www.justin.tv/mojoconf',\n",
       " 'http://nothingbutsnark.svbtle.com/my-view-on-the-current-state-of-python-3',\n",
       " 'http://venturebeat.com/2014/05/23/googles-docker-integration-is-just-the-beginning-docker-exec-says/',\n",
       " 'http://3.14.by/en/read/building-nuclear-reactor-at-home',\n",
       " '',\n",
       " 'http://books.slashdot.org/story/14/05/05/1729223/book-review-extending-bootstrap',\n",
       " 'http://featherweightmusings.blogspot.co.uk/2014/05/rust-for-c-programmers-part-7-data-types.html?m=1',\n",
       " 'http://www.smh.com.au/it-pro/security-it/ebay-initially-believed-user-data-was-safe-after-cyber-attack-20140524-zrn0q.html',\n",
       " 'http://wexnotes.com/contribution-is-the-key/',\n",
       " 'http://jsomers.net/mcphee-draft-no-4.pdf',\n",
       " 'http://code.ivysaur.me/crype.html',\n",
       " 'https://developers.google.com/accounts/docs/OpenID',\n",
       " 'http://www.theguardian.com/world/2014/may/23/chile-student-loan-debts-fried-potatoes',\n",
       " 'http://graphicdesign.stackexchange.com/questions/31677/is-online-freelancing-a-viable-source-of-income',\n",
       " 'http://www.ft.com/cms/s/0/c9ce1a54-e281-11e3-89fd-00144feabdc0.html#axzz32bKeJpcs',\n",
       " 'http://weblog.rubyonrails.org/2014/5/23/meet-our-google-summer-of-code-students-and-mentors/',\n",
       " 'http://quott.in/get-daily-quotes-to-your-email/',\n",
       " '',\n",
       " ...]"
      ]
     },
     "execution_count": 27,
     "metadata": {},
     "output_type": "execute_result"
    }
   ],
   "source": [
    "urls"
   ]
  },
  {
   "cell_type": "code",
   "execution_count": 28,
   "metadata": {},
   "outputs": [],
   "source": [
    "thousand_points = [d for d in hn if d['points']>1000]\n",
    "num_thousand_points = len(thousand_points)"
   ]
  },
  {
   "cell_type": "code",
   "execution_count": 29,
   "metadata": {},
   "outputs": [
    {
     "data": {
      "text/plain": [
       "8"
      ]
     },
     "execution_count": 29,
     "metadata": {},
     "output_type": "execute_result"
    }
   ],
   "source": [
    "num_thousand_points"
   ]
  },
  {
   "cell_type": "code",
   "execution_count": 104,
   "metadata": {},
   "outputs": [],
   "source": [
    "nums = [1,2,3,4,5,6,7,8,9,10]"
   ]
  },
  {
   "cell_type": "code",
   "execution_count": 105,
   "metadata": {},
   "outputs": [],
   "source": [
    "# Dictionaries"
   ]
  },
  {
   "cell_type": "code",
   "execution_count": 106,
   "metadata": {},
   "outputs": [],
   "source": [
    "student = {'name':'John', 'age':25,'courses':['Math','Science']}"
   ]
  },
  {
   "cell_type": "code",
   "execution_count": 107,
   "metadata": {},
   "outputs": [],
   "source": [
    "age = student.pop('age')"
   ]
  },
  {
   "cell_type": "code",
   "execution_count": 108,
   "metadata": {},
   "outputs": [
    {
     "name": "stdout",
     "output_type": "stream",
     "text": [
      "{'name': 'John', 'courses': ['Math', 'Science']}\n"
     ]
    }
   ],
   "source": [
    "print(student)"
   ]
  },
  {
   "cell_type": "code",
   "execution_count": 109,
   "metadata": {},
   "outputs": [
    {
     "data": {
      "text/plain": [
       "25"
      ]
     },
     "execution_count": 109,
     "metadata": {},
     "output_type": "execute_result"
    }
   ],
   "source": [
    "age"
   ]
  },
  {
   "cell_type": "code",
   "execution_count": 110,
   "metadata": {},
   "outputs": [],
   "source": [
    "student['age'] = 35"
   ]
  },
  {
   "cell_type": "code",
   "execution_count": 111,
   "metadata": {},
   "outputs": [
    {
     "name": "stdout",
     "output_type": "stream",
     "text": [
      "{'name': 'John', 'courses': ['Math', 'Science'], 'age': 35}\n"
     ]
    }
   ],
   "source": [
    "print(student)"
   ]
  },
  {
   "cell_type": "code",
   "execution_count": 112,
   "metadata": {},
   "outputs": [
    {
     "name": "stdout",
     "output_type": "stream",
     "text": [
      "3\n"
     ]
    }
   ],
   "source": [
    "print(len(student))"
   ]
  },
  {
   "cell_type": "code",
   "execution_count": 114,
   "metadata": {},
   "outputs": [
    {
     "data": {
      "text/plain": [
       "dict_keys(['name', 'courses', 'age'])"
      ]
     },
     "execution_count": 114,
     "metadata": {},
     "output_type": "execute_result"
    }
   ],
   "source": [
    "student.keys()"
   ]
  },
  {
   "cell_type": "code",
   "execution_count": 115,
   "metadata": {},
   "outputs": [
    {
     "data": {
      "text/plain": [
       "dict_values(['John', ['Math', 'Science'], 35])"
      ]
     },
     "execution_count": 115,
     "metadata": {},
     "output_type": "execute_result"
    }
   ],
   "source": [
    "student.values()"
   ]
  },
  {
   "cell_type": "code",
   "execution_count": 116,
   "metadata": {},
   "outputs": [
    {
     "data": {
      "text/plain": [
       "dict_items([('name', 'John'), ('courses', ['Math', 'Science']), ('age', 35)])"
      ]
     },
     "execution_count": 116,
     "metadata": {},
     "output_type": "execute_result"
    }
   ],
   "source": [
    "student.items()"
   ]
  },
  {
   "cell_type": "code",
   "execution_count": 118,
   "metadata": {},
   "outputs": [
    {
     "name": "stdout",
     "output_type": "stream",
     "text": [
      "name\n",
      "courses\n",
      "age\n"
     ]
    }
   ],
   "source": [
    "for k in student:\n",
    "    print (k) "
   ]
  },
  {
   "cell_type": "code",
   "execution_count": 121,
   "metadata": {},
   "outputs": [
    {
     "name": "stdout",
     "output_type": "stream",
     "text": [
      "John\n",
      "['Math', 'Science']\n",
      "35\n"
     ]
    }
   ],
   "source": [
    "for k in student.values():\n",
    "    print(k) "
   ]
  },
  {
   "cell_type": "code",
   "execution_count": 122,
   "metadata": {},
   "outputs": [
    {
     "name": "stdout",
     "output_type": "stream",
     "text": [
      "name John\n",
      "courses ['Math', 'Science']\n",
      "age 35\n"
     ]
    }
   ],
   "source": [
    "for k,v in student.items():\n",
    "    print(k,v)"
   ]
  },
  {
   "cell_type": "markdown",
   "metadata": {},
   "source": [
    "## Leetcode 66 - Plus One"
   ]
  },
  {
   "cell_type": "code",
   "execution_count": 134,
   "metadata": {},
   "outputs": [],
   "source": [
    "nums2 = [9,9,9,9]\n",
    "\n",
    "str1 = \"\".join([str(i) for i in nums2])"
   ]
  },
  {
   "cell_type": "code",
   "execution_count": 135,
   "metadata": {},
   "outputs": [
    {
     "data": {
      "text/plain": [
       "'9999'"
      ]
     },
     "execution_count": 135,
     "metadata": {},
     "output_type": "execute_result"
    }
   ],
   "source": [
    "str1"
   ]
  },
  {
   "cell_type": "code",
   "execution_count": 136,
   "metadata": {},
   "outputs": [],
   "source": [
    "str2 = int(str1) + 1"
   ]
  },
  {
   "cell_type": "code",
   "execution_count": 137,
   "metadata": {},
   "outputs": [
    {
     "data": {
      "text/plain": [
       "10000"
      ]
     },
     "execution_count": 137,
     "metadata": {},
     "output_type": "execute_result"
    }
   ],
   "source": [
    "str2"
   ]
  },
  {
   "cell_type": "code",
   "execution_count": 138,
   "metadata": {},
   "outputs": [],
   "source": [
    "str3 = str(str2)"
   ]
  },
  {
   "cell_type": "code",
   "execution_count": 139,
   "metadata": {},
   "outputs": [],
   "source": [
    "str4 = [int(i) for i in str3]"
   ]
  },
  {
   "cell_type": "code",
   "execution_count": 140,
   "metadata": {},
   "outputs": [
    {
     "data": {
      "text/plain": [
       "[1, 0, 0, 0, 0]"
      ]
     },
     "execution_count": 140,
     "metadata": {},
     "output_type": "execute_result"
    }
   ],
   "source": [
    "str4"
   ]
  },
  {
   "cell_type": "code",
   "execution_count": 141,
   "metadata": {},
   "outputs": [],
   "source": [
    "s = [\"h\",\"e\",\"l\",\"l\",\"o\"]"
   ]
  },
  {
   "cell_type": "code",
   "execution_count": 142,
   "metadata": {},
   "outputs": [],
   "source": [
    "l = \"\".join(s)"
   ]
  },
  {
   "cell_type": "code",
   "execution_count": 143,
   "metadata": {},
   "outputs": [
    {
     "data": {
      "text/plain": [
       "'hello'"
      ]
     },
     "execution_count": 143,
     "metadata": {},
     "output_type": "execute_result"
    }
   ],
   "source": [
    "l"
   ]
  },
  {
   "cell_type": "code",
   "execution_count": 144,
   "metadata": {},
   "outputs": [],
   "source": [
    "l2 = l[::-1]"
   ]
  },
  {
   "cell_type": "code",
   "execution_count": 145,
   "metadata": {},
   "outputs": [
    {
     "data": {
      "text/plain": [
       "'olleh'"
      ]
     },
     "execution_count": 145,
     "metadata": {},
     "output_type": "execute_result"
    }
   ],
   "source": [
    "l2"
   ]
  },
  {
   "cell_type": "code",
   "execution_count": 146,
   "metadata": {},
   "outputs": [],
   "source": [
    "l3 = [str(i) for i in l2]"
   ]
  },
  {
   "cell_type": "code",
   "execution_count": 147,
   "metadata": {},
   "outputs": [
    {
     "data": {
      "text/plain": [
       "['o', 'l', 'l', 'e', 'h']"
      ]
     },
     "execution_count": 147,
     "metadata": {},
     "output_type": "execute_result"
    }
   ],
   "source": [
    "l3"
   ]
  },
  {
   "cell_type": "code",
   "execution_count": 148,
   "metadata": {},
   "outputs": [],
   "source": [
    "str1 = \"\".join(s)\n",
    "str2 = str1[::-1]\n",
    "str3 = [str(i) for i in str2]"
   ]
  },
  {
   "cell_type": "code",
   "execution_count": 149,
   "metadata": {},
   "outputs": [
    {
     "data": {
      "text/plain": [
       "['o', 'l', 'l', 'e', 'h']"
      ]
     },
     "execution_count": 149,
     "metadata": {},
     "output_type": "execute_result"
    }
   ],
   "source": [
    "str3"
   ]
  },
  {
   "cell_type": "code",
   "execution_count": 150,
   "metadata": {},
   "outputs": [],
   "source": [
    "s = 'leetcode'"
   ]
  },
  {
   "cell_type": "code",
   "execution_count": 152,
   "metadata": {},
   "outputs": [
    {
     "ename": "NameError",
     "evalue": "name 'Counter' is not defined",
     "output_type": "error",
     "traceback": [
      "\u001b[1;31m---------------------------------------------------------------------------\u001b[0m",
      "\u001b[1;31mNameError\u001b[0m                                 Traceback (most recent call last)",
      "\u001b[1;32m<ipython-input-152-b60d2a206451>\u001b[0m in \u001b[0;36m<module>\u001b[1;34m\u001b[0m\n\u001b[1;32m----> 1\u001b[1;33m \u001b[0ml\u001b[0m \u001b[1;33m=\u001b[0m \u001b[0mCounter\u001b[0m\u001b[1;33m(\u001b[0m\u001b[0ms\u001b[0m\u001b[1;33m)\u001b[0m\u001b[1;33m\u001b[0m\u001b[1;33m\u001b[0m\u001b[0m\n\u001b[0m",
      "\u001b[1;31mNameError\u001b[0m: name 'Counter' is not defined"
     ]
    }
   ],
   "source": [
    "l = Counter(s)"
   ]
  },
  {
   "cell_type": "code",
   "execution_count": 1,
   "metadata": {},
   "outputs": [],
   "source": [
    "s = 'aaabbbssc'"
   ]
  },
  {
   "cell_type": "code",
   "execution_count": 2,
   "metadata": {},
   "outputs": [],
   "source": [
    "dct = {}"
   ]
  },
  {
   "cell_type": "code",
   "execution_count": 3,
   "metadata": {},
   "outputs": [],
   "source": [
    "for c in s:\n",
    "    if c in dct:\n",
    "        dct[c] +=1\n",
    "    else:\n",
    "        dct[c] = 1\n",
    "        "
   ]
  },
  {
   "cell_type": "code",
   "execution_count": 4,
   "metadata": {},
   "outputs": [
    {
     "ename": "SyntaxError",
     "evalue": "unexpected EOF while parsing (<ipython-input-4-8a7baa94af03>, line 3)",
     "output_type": "error",
     "traceback": [
      "\u001b[1;36m  File \u001b[1;32m\"<ipython-input-4-8a7baa94af03>\"\u001b[1;36m, line \u001b[1;32m3\u001b[0m\n\u001b[1;33m    for c in s:\u001b[0m\n\u001b[1;37m               ^\u001b[0m\n\u001b[1;31mSyntaxError\u001b[0m\u001b[1;31m:\u001b[0m unexpected EOF while parsing\n"
     ]
    }
   ],
   "source": [
    "str1 = \"\"\n",
    "\n",
    "for c in s:"
   ]
  },
  {
   "cell_type": "markdown",
   "metadata": {},
   "source": [
    "## Flatten Dictionary/ List"
   ]
  },
  {
   "cell_type": "code",
   "execution_count": 5,
   "metadata": {},
   "outputs": [],
   "source": [
    "unflattened = {\"a\":\"b\",\"c\":{\"d\":\"e\",\"f\":\"g\",\"h\":{\"i\":\"j\",\"k\":\"l\"},\"m\":\"n\"},\"o\":\"p\"}"
   ]
  },
  {
   "cell_type": "code",
   "execution_count": 16,
   "metadata": {},
   "outputs": [],
   "source": [
    "def flatten_json(j):\n",
    "    flattened_json = {}\n",
    "    for k,v in j.items():\n",
    "        if type(v) is dict:\n",
    "            flattened_tmp = flatten_json(v)\n",
    "            print(\"\",flattened_tmp)\n",
    "            for k1, v1 in flattened_tmp.items():\n",
    "                flattened_json[k+\"_\"+k1] = v1\n",
    "        else:\n",
    "            flattened_json[k]=v\n",
    "    return(flattened_json)\n",
    "            "
   ]
  },
  {
   "cell_type": "code",
   "execution_count": 17,
   "metadata": {},
   "outputs": [
    {
     "name": "stdout",
     "output_type": "stream",
     "text": [
      "{'i': 'j', 'k': 'l'}\n",
      "{'d': 'e', 'f': 'g', 'h_i': 'j', 'h_k': 'l', 'm': 'n'}\n",
      "{'a': 'b', 'c_d': 'e', 'c_f': 'g', 'c_h_i': 'j', 'c_h_k': 'l', 'c_m': 'n', 'o': 'p'}\n"
     ]
    }
   ],
   "source": [
    "print(flatten_json(unflattened))"
   ]
  },
  {
   "cell_type": "code",
   "execution_count": 6,
   "metadata": {},
   "outputs": [],
   "source": [
    "nested = [[1,2,3,4],[3,5,6,7,8],[10,11,12,14]]"
   ]
  },
  {
   "cell_type": "code",
   "execution_count": 10,
   "metadata": {},
   "outputs": [],
   "source": [
    "flattened = [n for nums in nested for n in nums]"
   ]
  },
  {
   "cell_type": "code",
   "execution_count": 11,
   "metadata": {},
   "outputs": [
    {
     "data": {
      "text/plain": [
       "[1, 2, 3, 4, 3, 5, 6, 7, 8, 10, 11, 12, 14]"
      ]
     },
     "execution_count": 11,
     "metadata": {},
     "output_type": "execute_result"
    }
   ],
   "source": [
    "flattened"
   ]
  },
  {
   "cell_type": "code",
   "execution_count": 1,
   "metadata": {},
   "outputs": [],
   "source": [
    "flattened2 = [1,[2,3],[[4,5],[6,7]]]\n",
    "\n",
    "def flatten_list(lst):\n",
    "    \n",
    "    for x in lst:\n",
    "        if type(x) is list:\n",
    "            for num in flatten_list(x):\n",
    "                yield (num)\n",
    "        else:\n",
    "            yield(x)\n",
    "            \n",
    "        "
   ]
  },
  {
   "cell_type": "code",
   "execution_count": 2,
   "metadata": {},
   "outputs": [],
   "source": [
    "result = list(flatten_list(flattened2))"
   ]
  },
  {
   "cell_type": "code",
   "execution_count": 3,
   "metadata": {},
   "outputs": [
    {
     "data": {
      "text/plain": [
       "[1, 2, 3, 4, 5, 6, 7]"
      ]
     },
     "execution_count": 3,
     "metadata": {},
     "output_type": "execute_result"
    }
   ],
   "source": [
    "result"
   ]
  },
  {
   "cell_type": "code",
   "execution_count": null,
   "metadata": {},
   "outputs": [],
   "source": []
  }
 ],
 "metadata": {
  "kernelspec": {
   "display_name": "Python 3",
   "language": "python",
   "name": "python3"
  },
  "language_info": {
   "codemirror_mode": {
    "name": "ipython",
    "version": 3
   },
   "file_extension": ".py",
   "mimetype": "text/x-python",
   "name": "python",
   "nbconvert_exporter": "python",
   "pygments_lexer": "ipython3",
   "version": "3.7.6"
  },
  "toc": {
   "base_numbering": 1,
   "nav_menu": {},
   "number_sections": true,
   "sideBar": true,
   "skip_h1_title": false,
   "title_cell": "Table of Contents",
   "title_sidebar": "Contents",
   "toc_cell": false,
   "toc_position": {},
   "toc_section_display": true,
   "toc_window_display": false
  }
 },
 "nbformat": 4,
 "nbformat_minor": 4
}
